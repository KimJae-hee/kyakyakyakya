{
  "nbformat": 4,
  "nbformat_minor": 0,
  "metadata": {
    "colab": {
      "name": "딥러닝팀 주제분석 데이터 다운로드 및 압축 풀기.ipynb",
      "provenance": [],
      "mount_file_id": "1WJxWjLVQDb4u5G81LSMORfFThSWEVdUx",
      "authorship_tag": "ABX9TyPEN8abWF+mQLisSU6o7aSL",
      "include_colab_link": true
    },
    "kernelspec": {
      "name": "python3",
      "display_name": "Python 3"
    }
  },
  "cells": [
    {
      "cell_type": "markdown",
      "metadata": {
        "id": "view-in-github",
        "colab_type": "text"
      },
      "source": [
        "<a href=\"https://colab.research.google.com/github/KimJae-hee/kyakyakyakya/blob/master/%EB%94%A5%EB%9F%AC%EB%8B%9D%ED%8C%80_%EC%A3%BC%EC%A0%9C%EB%B6%84%EC%84%9D_%EB%8D%B0%EC%9D%B4%ED%84%B0_%EB%8B%A4%EC%9A%B4%EB%A1%9C%EB%93%9C_%EB%B0%8F_%EC%95%95%EC%B6%95_%ED%92%80%EA%B8%B0.ipynb\" target=\"_parent\"><img src=\"https://colab.research.google.com/assets/colab-badge.svg\" alt=\"Open In Colab\"/></a>"
      ]
    },
    {
      "cell_type": "code",
      "metadata": {
        "id": "k5YVWIuFHznt"
      },
      "source": [
        "import os \n",
        "import tarfile"
      ],
      "execution_count": null,
      "outputs": []
    },
    {
      "cell_type": "code",
      "metadata": {
        "id": "GxMWqGQsIAM9"
      },
      "source": [
        "def unztar(in_path, out_path):\n",
        "  file_list = os.listdir(in_path)\n",
        "  count = 0\n",
        "  for file_name in file_list:\n",
        "    zip_dir = f\"{in_path}/{str(file_name)}\"\n",
        "    unzip_dir = f\"{out_path}/{str(file_name)}\"\n",
        "    if not os.path.isdir(unzip_dir):\n",
        "      os.makedirs(unzip_dir)\n",
        "      tar = tarfile.open(zip_dir, mode = \"r:\")\n",
        "      tar.extractall(path = unzip_dir)\n",
        "      tar.close()\n",
        "      tar = None\n",
        "    count += 1\n",
        "    print(f\"파일명 {file_name} 압축 해제 완료, {count/len(file_list)*100}% 완료\\n\")"
      ],
      "execution_count": null,
      "outputs": []
    },
    {
      "cell_type": "code",
      "metadata": {
        "id": "RoqL_1bzKlOJ",
        "outputId": "3fc0618d-3a47-4436-f119-687f44c96936",
        "colab": {
          "base_uri": "https://localhost:8080/"
        }
      },
      "source": [
        "unztar(\"/content/drive/My Drive/P-SAT/2020-2/주제분석/Spectrogram_tar\", \"/content/drive/My Drive/P-SAT/2020-2/주제분석/Spectrogram_data\")"
      ],
      "execution_count": null,
      "outputs": [
        {
          "output_type": "stream",
          "text": [
            "파일명 arena_mel_0.tar 압축 해제 완료, 2.5% 완료\n",
            "\n",
            "파일명 arena_mel_1.tar 압축 해제 완료, 5.0% 완료\n",
            "\n",
            "파일명 arena_mel_2.tar 압축 해제 완료, 7.5% 완료\n",
            "\n",
            "파일명 arena_mel_3.tar 압축 해제 완료, 10.0% 완료\n",
            "\n",
            "파일명 arena_mel_4.tar 압축 해제 완료, 12.5% 완료\n",
            "\n",
            "파일명 arena_mel_5.tar 압축 해제 완료, 15.0% 완료\n",
            "\n",
            "파일명 arena_mel_6.tar 압축 해제 완료, 17.5% 완료\n",
            "\n",
            "파일명 arena_mel_7.tar 압축 해제 완료, 20.0% 완료\n",
            "\n",
            "파일명 arena_mel_8.tar 압축 해제 완료, 22.5% 완료\n",
            "\n",
            "파일명 arena_mel_9.tar 압축 해제 완료, 25.0% 완료\n",
            "\n",
            "파일명 arena_mel_10.tar 압축 해제 완료, 27.500000000000004% 완료\n",
            "\n"
          ],
          "name": "stdout"
        }
      ]
    },
    {
      "cell_type": "code",
      "metadata": {
        "id": "xZCOT7z6JwSN"
      },
      "source": [
        "globals()"
      ],
      "execution_count": null,
      "outputs": []
    }
  ]
}