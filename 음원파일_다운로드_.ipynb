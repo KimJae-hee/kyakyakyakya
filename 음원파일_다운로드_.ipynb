{
  "nbformat": 4,
  "nbformat_minor": 0,
  "metadata": {
    "kernelspec": {
      "display_name": "Python 3",
      "language": "python",
      "name": "python3"
    },
    "language_info": {
      "codemirror_mode": {
        "name": "ipython",
        "version": 3
      },
      "file_extension": ".py",
      "mimetype": "text/x-python",
      "name": "python",
      "nbconvert_exporter": "python",
      "pygments_lexer": "ipython3",
      "version": "3.7.4"
    },
    "colab": {
      "name": "음원파일 다운로드 .ipynb",
      "provenance": [],
      "include_colab_link": true
    }
  },
  "cells": [
    {
      "cell_type": "markdown",
      "metadata": {
        "id": "view-in-github",
        "colab_type": "text"
      },
      "source": [
        "<a href=\"https://colab.research.google.com/github/KimJae-hee/kyakyakyakya/blob/master/%EC%9D%8C%EC%9B%90%ED%8C%8C%EC%9D%BC_%EB%8B%A4%EC%9A%B4%EB%A1%9C%EB%93%9C_.ipynb\" target=\"_parent\"><img src=\"https://colab.research.google.com/assets/colab-badge.svg\" alt=\"Open In Colab\"/></a>"
      ]
    },
    {
      "cell_type": "code",
      "metadata": {
        "id": "b_-fPkbEWmIp"
      },
      "source": [
        "from selenium import webdriver\n",
        "login_url = \"https://accounts.kakao.com/login?continue=https%3A%2F%2Fkauth.kakao.com%2Foauth%2Fauthorize%3Fresponse_type%3Dcode%26redirect_uri%3Dhttps%253A%252F%252Farena.kakao.com%252Foauth%26client_id%3D02a13217b24abeadc9558520ce95050a\"\n",
        "driver = webdriver.Chrome()\n",
        "driver.get(login_url)\n",
        "driver.find_element_by_class_name('tf_g.tf_email').send_keys('stapers@naver.com')\n",
        "driver.find_element_by_xpath('//*[@id=\"id_password_3\"]').send_keys('csekfm12')\n",
        "driver.find_element_by_class_name('btn_g.btn_confirm.submit').click()\n",
        "driver.implicitly_wait(3)"
      ],
      "execution_count": null,
      "outputs": []
    },
    {
      "cell_type": "code",
      "metadata": {
        "id": "B8z6OQyVWmIu",
        "outputId": "aa301376-c553-455d-bbe4-772e13022466"
      },
      "source": [
        "import time \n",
        "file_url = \"https://arena.kakao.com/c/8/data\"\n",
        "driver.get(file_url)\n",
        "driver.implicitly_wait(3)\n",
        "for i in range(20, 46):\n",
        "    now = time.time()\n",
        "    print(f\"다음 다운로드 시작 시간은{time.localtime(now + 7*60).tm_min}\")\n",
        "    driver.find_element_by_xpath(f'//*[@id=\"content-container\"]/section/div[2]/div[2]/div/div[1]/div[2]/div/div/div[1]/div[2]/ul/li[{i}]/div[1]/div[3]/span[2]').click()\n",
        "    time.sleep(7*60)\n"
      ],
      "execution_count": null,
      "outputs": [
        {
          "output_type": "stream",
          "text": [
            "다음 다운로드 시작 시간은23\n",
            "다음 다운로드 시작 시간은30\n",
            "다음 다운로드 시작 시간은37\n",
            "다음 다운로드 시작 시간은44\n",
            "다음 다운로드 시작 시간은51\n",
            "다음 다운로드 시작 시간은58\n",
            "다음 다운로드 시작 시간은5\n",
            "다음 다운로드 시작 시간은12\n",
            "다음 다운로드 시작 시간은19\n",
            "다음 다운로드 시작 시간은26\n",
            "다음 다운로드 시작 시간은33\n",
            "다음 다운로드 시작 시간은40\n",
            "다음 다운로드 시작 시간은47\n",
            "다음 다운로드 시작 시간은54\n",
            "다음 다운로드 시작 시간은1\n",
            "다음 다운로드 시작 시간은8\n",
            "다음 다운로드 시작 시간은15\n",
            "다음 다운로드 시작 시간은22\n",
            "다음 다운로드 시작 시간은29\n",
            "다음 다운로드 시작 시간은36\n",
            "다음 다운로드 시작 시간은43\n",
            "다음 다운로드 시작 시간은50\n",
            "다음 다운로드 시작 시간은57\n",
            "다음 다운로드 시작 시간은4\n",
            "다음 다운로드 시작 시간은11\n",
            "다음 다운로드 시작 시간은18\n"
          ],
          "name": "stdout"
        }
      ]
    }
  ]
}