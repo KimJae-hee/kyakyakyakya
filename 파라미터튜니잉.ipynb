{
  "nbformat": 4,
  "nbformat_minor": 0,
  "metadata": {
    "colab": {
      "name": "Untitled",
      "provenance": [],
      "mount_file_id": "1MGAhEda3i6aHOyBT5_NG2wYfFFnax5wE",
      "authorship_tag": "ABX9TyMFD7nHHkBYCCXTuk3XT0UB",
      "include_colab_link": true
    },
    "kernelspec": {
      "name": "python3",
      "display_name": "Python 3"
    }
  },
  "cells": [
    {
      "cell_type": "markdown",
      "metadata": {
        "id": "view-in-github",
        "colab_type": "text"
      },
      "source": [
        "<a href=\"https://colab.research.google.com/github/KimJae-hee/kyakyakyakya/blob/master/%ED%8C%8C%EB%9D%BC%EB%AF%B8%ED%84%B0%ED%8A%9C%EB%8B%88%EC%9E%89.ipynb\" target=\"_parent\"><img src=\"https://colab.research.google.com/assets/colab-badge.svg\" alt=\"Open In Colab\"/></a>"
      ]
    },
    {
      "cell_type": "code",
      "metadata": {
        "id": "y_9_NDZnlgm6",
        "colab_type": "code",
        "colab": {}
      },
      "source": [
        "import numpy as np\n",
        "import pandas as pd\n",
        "from sklearn.metrics import log_loss\n",
        "from sklearn.model_selection import KFold, StratifiedKFold, train_test_split\n",
        "from sklearn.grid_search import GridSearchCV\n",
        "\n",
        "!pip install xgboost\n",
        "!pip install category_encoders\n",
        "import xgboost as xgb\n",
        "import category_encoders"
      ],
      "execution_count": null,
      "outputs": []
    },
    {
      "cell_type": "code",
      "metadata": {
        "id": "ICIceQ7amnUv",
        "colab_type": "code",
        "colab": {}
      },
      "source": [
        "train  = pd.read_csv(\"/content/drive/My Drive/P-SAT/2020-2/방학 세미나/최종 데이터/cleaned_train.csv\")\n",
        "# test = pd.read_csv(\"/content/drive/My Drive/P-SAT/2020-2/방학 세미나/최종 데이터/cleaned_test.csv)"
      ],
      "execution_count": null,
      "outputs": []
    },
    {
      "cell_type": "code",
      "metadata": {
        "id": "p_UHGiRrnN2G",
        "colab_type": "code",
        "colab": {}
      },
      "source": [
        "train = train.drop([\"ssp_id\", \"device_os\", \"device_ifa\", \"campaign_id\", \"placement_type\", \"advertisement_id\", \"age\", \"gender\", \"marry\", \"bid_id\"], axis = 1)"
      ],
      "execution_count": null,
      "outputs": []
    },
    {
      "cell_type": "code",
      "metadata": {
        "id": "4vQiv55RolqJ",
        "colab_type": "code",
        "colab": {}
      },
      "source": [
        "train_X = train.drop(['click'], axis = 1)\n",
        "train_Y = train.loc[:,\"click\"]"
      ],
      "execution_count": null,
      "outputs": []
    },
    {
      "cell_type": "code",
      "metadata": {
        "id": "S5suFjt7priH",
        "colab_type": "code",
        "colab": {}
      },
      "source": [
        "X_use, X_rest, Y_use, Y_rest = train_test_split(train_X, train_Y, test_size=0.8, train_size=0.2, stratify= train_Y)"
      ],
      "execution_count": null,
      "outputs": []
    },
    {
      "cell_type": "code",
      "metadata": {
        "id": "t5LtllOEp3Oh",
        "colab_type": "code",
        "colab": {}
      },
      "source": [
        "kfold  = StratifiedKFold(n_splits = 5, shuffle = True, random_state = 1234)"
      ],
      "execution_count": null,
      "outputs": []
    },
    {
      "cell_type": "code",
      "metadata": {
        "id": "gu1gMRnCqFkI",
        "colab_type": "code",
        "colab": {
          "base_uri": "https://localhost:8080/",
          "height": 1000
        },
        "outputId": "db2509a9-7f8b-4a8b-afda-cb5b2ffdeb3a"
      },
      "source": [
        "lr_list = [0.1, 0.15, 0.2]\n",
        "max_list = [4, 5, 6]\n",
        "min_list = [4, 5, 6]\n",
        "gamma_list = [0.1, 0.2, 0.3, 0.4]\n",
        "result_df = pd.DataFrame(columns=[\"learning_rate\", \"max_depth\",\"min_chilid_weight\", \"gamma\", \"result\"])\n",
        "for lr in lr_list:\n",
        "  for max in max_list:\n",
        "    for min in min_list:\n",
        "      for gamma in gamma_list:\n",
        "        result_list = []\n",
        "        for train_idx, test_idx in kfold.split(X_use, Y_use):\n",
        "          train_fold_X, test_fold_X = X_use.iloc[train_idx,:], X_use.iloc[test_idx,:]\n",
        "          train_fold_Y, test_fold_Y = Y_use.iloc[train_idx], Y_use.iloc[test_idx]\n",
        "\n",
        "          train_x, val_x, train_y, val_y = train_test_split(train_fold_X, train_fold_Y, test_size = 0.2, train_size = 0.8, stratify = train_fold_Y, random_state = 1234)\n",
        "          catboost_encoder = category_encoders.CatBoostEncoder()\n",
        "          train_cbe = catboost_encoder.fit_transform(train_x, train_y)\n",
        "          val_cbe = catboost_encoder.transform(val_x)\n",
        "\n",
        "          eval_set = [(val_cbe, val_y)]\n",
        "\n",
        "\n",
        "          model = xgb.XGBClassifier(random_state = 1234, n_estimators = 500, learning_rate = lr, max_depth = max, min_child_weight = min, gamma = gamma)\n",
        "          model.fit(train_cbe, train_y, eval_metric = \"logloss\", eval_set = eval_set, early_stopping_rounds = 50, verbose = 0)\n",
        "          test_cbe = catboost_encoder.transform(test_fold_X)\n",
        "          pred_fold = model.predict_proba(test_cbe)\n",
        "\n",
        "          result_tmp = log_loss(test_fold_Y, pred_fold)\n",
        "          result_list.append(result_tmp)\n",
        "        print(f\"learning_rate : {lr}, max_depth: {max}, min_child_weight: {min} :::: {np.mean(result_list)}\")\n",
        "        df_tmp = pd.DataFrame([[lr, max, min, gamma, np.mean(result_list)]], columns=[\"learning_rate\", \"max_depth\",\"min_chilid_weight\", \"gamma\", \"result\"])\n",
        "        result_df = result_df.append(df_tmp)"
      ],
      "execution_count": null,
      "outputs": [
        {
          "output_type": "stream",
          "text": [
            "learning_rate : 0.1, max_depth: 4, min_child_weight: 4 :::: 0.21378825628489723\n",
            "learning_rate : 0.1, max_depth: 4, min_child_weight: 4 :::: 0.21375164743042063\n",
            "learning_rate : 0.1, max_depth: 4, min_child_weight: 4 :::: 0.21375825844429777\n",
            "learning_rate : 0.1, max_depth: 4, min_child_weight: 4 :::: 0.21379658432894075\n",
            "learning_rate : 0.1, max_depth: 4, min_child_weight: 5 :::: 0.21370731144518781\n",
            "learning_rate : 0.1, max_depth: 4, min_child_weight: 5 :::: 0.2137939387466976\n",
            "learning_rate : 0.1, max_depth: 4, min_child_weight: 5 :::: 0.2137702982885461\n",
            "learning_rate : 0.1, max_depth: 4, min_child_weight: 5 :::: 0.21376902005553258\n",
            "learning_rate : 0.1, max_depth: 4, min_child_weight: 6 :::: 0.2136330949392525\n",
            "learning_rate : 0.1, max_depth: 4, min_child_weight: 6 :::: 0.2136929402950289\n",
            "learning_rate : 0.1, max_depth: 4, min_child_weight: 6 :::: 0.21370920261777182\n",
            "learning_rate : 0.1, max_depth: 4, min_child_weight: 6 :::: 0.21372353445920936\n",
            "learning_rate : 0.1, max_depth: 5, min_child_weight: 4 :::: 0.21370880068135403\n",
            "learning_rate : 0.1, max_depth: 5, min_child_weight: 4 :::: 0.2137309043723569\n",
            "learning_rate : 0.1, max_depth: 5, min_child_weight: 4 :::: 0.21377290017103592\n",
            "learning_rate : 0.1, max_depth: 5, min_child_weight: 4 :::: 0.21380926937333405\n",
            "learning_rate : 0.1, max_depth: 5, min_child_weight: 5 :::: 0.21375839294331636\n",
            "learning_rate : 0.1, max_depth: 5, min_child_weight: 5 :::: 0.21374324506760992\n",
            "learning_rate : 0.1, max_depth: 5, min_child_weight: 5 :::: 0.21356898239304473\n",
            "learning_rate : 0.1, max_depth: 5, min_child_weight: 5 :::: 0.21390019853077194\n",
            "learning_rate : 0.1, max_depth: 5, min_child_weight: 6 :::: 0.21379989457342452\n",
            "learning_rate : 0.1, max_depth: 5, min_child_weight: 6 :::: 0.21388105671026664\n",
            "learning_rate : 0.1, max_depth: 5, min_child_weight: 6 :::: 0.21384212395650176\n",
            "learning_rate : 0.1, max_depth: 5, min_child_weight: 6 :::: 0.21374358189167872\n",
            "learning_rate : 0.1, max_depth: 6, min_child_weight: 4 :::: 0.21405491145670963\n",
            "learning_rate : 0.1, max_depth: 6, min_child_weight: 4 :::: 0.21374000732171133\n",
            "learning_rate : 0.1, max_depth: 6, min_child_weight: 4 :::: 0.21393794518721837\n",
            "learning_rate : 0.1, max_depth: 6, min_child_weight: 4 :::: 0.21412931018543446\n",
            "learning_rate : 0.1, max_depth: 6, min_child_weight: 5 :::: 0.21401308585304415\n",
            "learning_rate : 0.1, max_depth: 6, min_child_weight: 5 :::: 0.21403433421869575\n",
            "learning_rate : 0.1, max_depth: 6, min_child_weight: 5 :::: 0.21377441638956074\n",
            "learning_rate : 0.1, max_depth: 6, min_child_weight: 5 :::: 0.21391511611814656\n",
            "learning_rate : 0.1, max_depth: 6, min_child_weight: 6 :::: 0.2141750929942443\n",
            "learning_rate : 0.1, max_depth: 6, min_child_weight: 6 :::: 0.21406910603470114\n",
            "learning_rate : 0.1, max_depth: 6, min_child_weight: 6 :::: 0.21393966768982545\n",
            "learning_rate : 0.1, max_depth: 6, min_child_weight: 6 :::: 0.21415377192211546\n",
            "learning_rate : 0.15, max_depth: 4, min_child_weight: 4 :::: 0.2137256775066207\n",
            "learning_rate : 0.15, max_depth: 4, min_child_weight: 4 :::: 0.21380727561523769\n",
            "learning_rate : 0.15, max_depth: 4, min_child_weight: 4 :::: 0.2137259208723017\n",
            "learning_rate : 0.15, max_depth: 4, min_child_weight: 4 :::: 0.2137307736404684\n",
            "learning_rate : 0.15, max_depth: 4, min_child_weight: 5 :::: 0.21377184200827667\n",
            "learning_rate : 0.15, max_depth: 4, min_child_weight: 5 :::: 0.21380396026902865\n",
            "learning_rate : 0.15, max_depth: 4, min_child_weight: 5 :::: 0.21382025325939127\n",
            "learning_rate : 0.15, max_depth: 4, min_child_weight: 5 :::: 0.2137254778015938\n",
            "learning_rate : 0.15, max_depth: 4, min_child_weight: 6 :::: 0.21380075219002093\n",
            "learning_rate : 0.15, max_depth: 4, min_child_weight: 6 :::: 0.2137933569317556\n",
            "learning_rate : 0.15, max_depth: 4, min_child_weight: 6 :::: 0.21381571208261896\n",
            "learning_rate : 0.15, max_depth: 4, min_child_weight: 6 :::: 0.21385678812639447\n",
            "learning_rate : 0.15, max_depth: 5, min_child_weight: 4 :::: 0.21403615238525636\n",
            "learning_rate : 0.15, max_depth: 5, min_child_weight: 4 :::: 0.21388825532046943\n",
            "learning_rate : 0.15, max_depth: 5, min_child_weight: 4 :::: 0.2139332115728929\n",
            "learning_rate : 0.15, max_depth: 5, min_child_weight: 4 :::: 0.21403393602946658\n",
            "learning_rate : 0.15, max_depth: 5, min_child_weight: 5 :::: 0.2138125438973731\n",
            "learning_rate : 0.15, max_depth: 5, min_child_weight: 5 :::: 0.2137792692537149\n",
            "learning_rate : 0.15, max_depth: 5, min_child_weight: 5 :::: 0.21410016548762806\n",
            "learning_rate : 0.15, max_depth: 5, min_child_weight: 5 :::: 0.21398650254905321\n",
            "learning_rate : 0.15, max_depth: 5, min_child_weight: 6 :::: 0.21382230073940525\n",
            "learning_rate : 0.15, max_depth: 5, min_child_weight: 6 :::: 0.21393632863717182\n",
            "learning_rate : 0.15, max_depth: 5, min_child_weight: 6 :::: 0.21383599225140948\n",
            "learning_rate : 0.15, max_depth: 5, min_child_weight: 6 :::: 0.21390304355703277\n",
            "learning_rate : 0.15, max_depth: 6, min_child_weight: 4 :::: 0.21402048820037983\n",
            "learning_rate : 0.15, max_depth: 6, min_child_weight: 4 :::: 0.21409373067188361\n",
            "learning_rate : 0.15, max_depth: 6, min_child_weight: 4 :::: 0.21404454823255126\n",
            "learning_rate : 0.15, max_depth: 6, min_child_weight: 4 :::: 0.21399495317079104\n",
            "learning_rate : 0.15, max_depth: 6, min_child_weight: 5 :::: 0.21419475552616718\n",
            "learning_rate : 0.15, max_depth: 6, min_child_weight: 5 :::: 0.21395977692594256\n",
            "learning_rate : 0.15, max_depth: 6, min_child_weight: 5 :::: 0.21414724012201533\n",
            "learning_rate : 0.15, max_depth: 6, min_child_weight: 5 :::: 0.2139327260930644\n",
            "learning_rate : 0.15, max_depth: 6, min_child_weight: 6 :::: 0.2139613322402914\n",
            "learning_rate : 0.15, max_depth: 6, min_child_weight: 6 :::: 0.2141252180499656\n",
            "learning_rate : 0.15, max_depth: 6, min_child_weight: 6 :::: 0.21415993907571318\n",
            "learning_rate : 0.15, max_depth: 6, min_child_weight: 6 :::: 0.21409365327486177\n",
            "learning_rate : 0.2, max_depth: 4, min_child_weight: 4 :::: 0.21384368356268685\n",
            "learning_rate : 0.2, max_depth: 4, min_child_weight: 4 :::: 0.2139414800694301\n",
            "learning_rate : 0.2, max_depth: 4, min_child_weight: 4 :::: 0.21387257644287483\n",
            "learning_rate : 0.2, max_depth: 4, min_child_weight: 4 :::: 0.21385883568191683\n",
            "learning_rate : 0.2, max_depth: 4, min_child_weight: 5 :::: 0.21384133752269893\n",
            "learning_rate : 0.2, max_depth: 4, min_child_weight: 5 :::: 0.2138365153181189\n",
            "learning_rate : 0.2, max_depth: 4, min_child_weight: 5 :::: 0.21386387110678742\n",
            "learning_rate : 0.2, max_depth: 4, min_child_weight: 5 :::: 0.213942665775651\n",
            "learning_rate : 0.2, max_depth: 4, min_child_weight: 6 :::: 0.2138820568033121\n",
            "learning_rate : 0.2, max_depth: 4, min_child_weight: 6 :::: 0.21388047216142278\n",
            "learning_rate : 0.2, max_depth: 4, min_child_weight: 6 :::: 0.213887611007724\n",
            "learning_rate : 0.2, max_depth: 4, min_child_weight: 6 :::: 0.2138878772025818\n",
            "learning_rate : 0.2, max_depth: 5, min_child_weight: 4 :::: 0.2141380085826951\n",
            "learning_rate : 0.2, max_depth: 5, min_child_weight: 4 :::: 0.21407589553929673\n",
            "learning_rate : 0.2, max_depth: 5, min_child_weight: 4 :::: 0.2140223355717871\n",
            "learning_rate : 0.2, max_depth: 5, min_child_weight: 4 :::: 0.21393478521520506\n",
            "learning_rate : 0.2, max_depth: 5, min_child_weight: 5 :::: 0.214047523061829\n",
            "learning_rate : 0.2, max_depth: 5, min_child_weight: 5 :::: 0.21406263216547713\n",
            "learning_rate : 0.2, max_depth: 5, min_child_weight: 5 :::: 0.21401713865850125\n",
            "learning_rate : 0.2, max_depth: 5, min_child_weight: 5 :::: 0.21403174600797642\n",
            "learning_rate : 0.2, max_depth: 5, min_child_weight: 6 :::: 0.21405357503964964\n",
            "learning_rate : 0.2, max_depth: 5, min_child_weight: 6 :::: 0.21399051117443277\n",
            "learning_rate : 0.2, max_depth: 5, min_child_weight: 6 :::: 0.21396426219347292\n",
            "learning_rate : 0.2, max_depth: 5, min_child_weight: 6 :::: 0.21392923258202928\n",
            "learning_rate : 0.2, max_depth: 6, min_child_weight: 4 :::: 0.21441339031818862\n",
            "learning_rate : 0.2, max_depth: 6, min_child_weight: 4 :::: 0.21437137774699852\n",
            "learning_rate : 0.2, max_depth: 6, min_child_weight: 4 :::: 0.21454979039932706\n",
            "learning_rate : 0.2, max_depth: 6, min_child_weight: 4 :::: 0.21435855363314843\n",
            "learning_rate : 0.2, max_depth: 6, min_child_weight: 5 :::: 0.21407511753347735\n",
            "learning_rate : 0.2, max_depth: 6, min_child_weight: 5 :::: 0.2143033072879991\n",
            "learning_rate : 0.2, max_depth: 6, min_child_weight: 5 :::: 0.2141219420841237\n",
            "learning_rate : 0.2, max_depth: 6, min_child_weight: 5 :::: 0.21407398443884712\n",
            "learning_rate : 0.2, max_depth: 6, min_child_weight: 6 :::: 0.2143250682112995\n",
            "learning_rate : 0.2, max_depth: 6, min_child_weight: 6 :::: 0.21428135645335988\n",
            "learning_rate : 0.2, max_depth: 6, min_child_weight: 6 :::: 0.21450099490156221\n",
            "learning_rate : 0.2, max_depth: 6, min_child_weight: 6 :::: 0.2143137054473851\n"
          ],
          "name": "stdout"
        }
      ]
    },
    {
      "cell_type": "code",
      "metadata": {
        "id": "6umGdirZRfdP",
        "colab_type": "code",
        "colab": {
          "base_uri": "https://localhost:8080/",
          "height": 629
        },
        "outputId": "c316c993-3d35-4494-db4e-1320aca1e89a"
      },
      "source": [
        "print(result_df.groupby(\"learning_rate\").mean())\n",
        "print(result_df.groupby(\"max_depth\").mean())\n",
        "print(result_df.groupby(\"min_chilid_weight\").mean())\n",
        "print(result_df.groupby(\"gamma\").mean())\n",
        "print(result_df.sort_values(\"result\"))"
      ],
      "execution_count": null,
      "outputs": [
        {
          "output_type": "stream",
          "text": [
            "               gamma    result\n",
            "learning_rate                 \n",
            "0.10            0.25  0.213836\n",
            "0.15            0.25  0.213921\n",
            "0.20            0.25  0.214069\n",
            "           learning_rate  gamma    result\n",
            "max_depth                                \n",
            "4                   0.15   0.25  0.213800\n",
            "5                   0.15   0.25  0.213905\n",
            "6                   0.15   0.25  0.214121\n",
            "                   learning_rate  gamma    result\n",
            "min_chilid_weight                                \n",
            "4                           0.15   0.25  0.213955\n",
            "5                           0.15   0.25  0.213917\n",
            "6                           0.15   0.25  0.213955\n",
            "       learning_rate    result\n",
            "gamma                         \n",
            "0.1             0.15  0.213941\n",
            "0.2             0.15  0.213940\n",
            "0.3             0.15  0.213943\n",
            "0.4             0.15  0.213946\n",
            "    learning_rate max_depth min_chilid_weight  gamma    result\n",
            "0             0.1         5                 5    0.3  0.213569\n",
            "0             0.1         4                 6    0.1  0.213633\n",
            "0             0.1         4                 6    0.2  0.213693\n",
            "0             0.1         4                 5    0.1  0.213707\n",
            "0             0.1         5                 4    0.1  0.213709\n",
            "..            ...       ...               ...    ...       ...\n",
            "0             0.2         6                 4    0.4  0.214359\n",
            "0             0.2         6                 4    0.2  0.214371\n",
            "0             0.2         6                 4    0.1  0.214413\n",
            "0             0.2         6                 6    0.3  0.214501\n",
            "0             0.2         6                 4    0.3  0.214550\n",
            "\n",
            "[108 rows x 5 columns]\n"
          ],
          "name": "stdout"
        }
      ]
    },
    {
      "cell_type": "code",
      "metadata": {
        "id": "EjzghdTozXgh",
        "colab_type": "code",
        "colab": {
          "base_uri": "https://localhost:8080/",
          "height": 174
        },
        "outputId": "6849254d-f556-488c-bd89-a75e31de3a05"
      },
      "source": [
        "catboost_encoder.set_params"
      ],
      "execution_count": null,
      "outputs": [
        {
          "output_type": "execute_result",
          "data": {
            "text/plain": [
              "<bound method BaseEstimator.set_params of CatBoostEncoder(a=1,\n",
              "                cols=['adset_id', 'media_id', 'media_name', 'media_bundle',\n",
              "                      'publisher_id', 'publisher_name', 'device_os_version',\n",
              "                      'device_model', 'device_carrier', 'device_make',\n",
              "                      'device_connection_type', 'device_language',\n",
              "                      'device_region', 'device_city', 'hour'],\n",
              "                drop_invariant=False, handle_missing='value',\n",
              "                handle_unknown='value', random_state=None, return_df=True,\n",
              "                sigma=None, verbose=0)>"
            ]
          },
          "metadata": {
            "tags": []
          },
          "execution_count": 215
        }
      ]
    },
    {
      "cell_type": "code",
      "metadata": {
        "id": "tXN1dI-tyhkD",
        "colab_type": "code",
        "colab": {
          "base_uri": "https://localhost:8080/",
          "height": 167
        },
        "outputId": "f30a2715-d67b-4d6c-bd57-3d5025181cac"
      },
      "source": [
        "result_df.groupby(\"learning_rate\").mean()"
      ],
      "execution_count": null,
      "outputs": [
        {
          "output_type": "execute_result",
          "data": {
            "text/html": [
              "<div>\n",
              "<style scoped>\n",
              "    .dataframe tbody tr th:only-of-type {\n",
              "        vertical-align: middle;\n",
              "    }\n",
              "\n",
              "    .dataframe tbody tr th {\n",
              "        vertical-align: top;\n",
              "    }\n",
              "\n",
              "    .dataframe thead th {\n",
              "        text-align: right;\n",
              "    }\n",
              "</style>\n",
              "<table border=\"1\" class=\"dataframe\">\n",
              "  <thead>\n",
              "    <tr style=\"text-align: right;\">\n",
              "      <th></th>\n",
              "      <th>gamma</th>\n",
              "      <th>result</th>\n",
              "    </tr>\n",
              "    <tr>\n",
              "      <th>learning_rate</th>\n",
              "      <th></th>\n",
              "      <th></th>\n",
              "    </tr>\n",
              "  </thead>\n",
              "  <tbody>\n",
              "    <tr>\n",
              "      <th>0.10</th>\n",
              "      <td>0.25</td>\n",
              "      <td>0.213836</td>\n",
              "    </tr>\n",
              "    <tr>\n",
              "      <th>0.15</th>\n",
              "      <td>0.25</td>\n",
              "      <td>0.213921</td>\n",
              "    </tr>\n",
              "    <tr>\n",
              "      <th>0.20</th>\n",
              "      <td>0.25</td>\n",
              "      <td>0.214069</td>\n",
              "    </tr>\n",
              "  </tbody>\n",
              "</table>\n",
              "</div>"
            ],
            "text/plain": [
              "               gamma    result\n",
              "learning_rate                 \n",
              "0.10            0.25  0.213836\n",
              "0.15            0.25  0.213921\n",
              "0.20            0.25  0.214069"
            ]
          },
          "metadata": {
            "tags": []
          },
          "execution_count": 211
        }
      ]
    },
    {
      "cell_type": "code",
      "metadata": {
        "id": "MFnrmWVGIvRc",
        "colab_type": "code",
        "colab": {
          "base_uri": "https://localhost:8080/",
          "height": 515
        },
        "outputId": "6ba29216-839c-4e08-f981-e2d0d714d737"
      },
      "source": [
        "print(f\"best iteration is{model.best_iteration}\")\n",
        "pd.DataFrame({'importance': model.feature_importances_,\n",
        "              'features': train_fold_X.columns})"
      ],
      "execution_count": null,
      "outputs": [
        {
          "output_type": "stream",
          "text": [
            "best iteration is223\n"
          ],
          "name": "stdout"
        },
        {
          "output_type": "execute_result",
          "data": {
            "text/html": [
              "<div>\n",
              "<style scoped>\n",
              "    .dataframe tbody tr th:only-of-type {\n",
              "        vertical-align: middle;\n",
              "    }\n",
              "\n",
              "    .dataframe tbody tr th {\n",
              "        vertical-align: top;\n",
              "    }\n",
              "\n",
              "    .dataframe thead th {\n",
              "        text-align: right;\n",
              "    }\n",
              "</style>\n",
              "<table border=\"1\" class=\"dataframe\">\n",
              "  <thead>\n",
              "    <tr style=\"text-align: right;\">\n",
              "      <th></th>\n",
              "      <th>importance</th>\n",
              "      <th>features</th>\n",
              "    </tr>\n",
              "  </thead>\n",
              "  <tbody>\n",
              "    <tr>\n",
              "      <th>0</th>\n",
              "      <td>0.036181</td>\n",
              "      <td>adset_id</td>\n",
              "    </tr>\n",
              "    <tr>\n",
              "      <th>1</th>\n",
              "      <td>0.692925</td>\n",
              "      <td>media_id</td>\n",
              "    </tr>\n",
              "    <tr>\n",
              "      <th>2</th>\n",
              "      <td>0.029522</td>\n",
              "      <td>media_name</td>\n",
              "    </tr>\n",
              "    <tr>\n",
              "      <th>3</th>\n",
              "      <td>0.089077</td>\n",
              "      <td>media_bundle</td>\n",
              "    </tr>\n",
              "    <tr>\n",
              "      <th>4</th>\n",
              "      <td>0.017191</td>\n",
              "      <td>publisher_id</td>\n",
              "    </tr>\n",
              "    <tr>\n",
              "      <th>5</th>\n",
              "      <td>0.032182</td>\n",
              "      <td>publisher_name</td>\n",
              "    </tr>\n",
              "    <tr>\n",
              "      <th>6</th>\n",
              "      <td>0.020823</td>\n",
              "      <td>device_os_version</td>\n",
              "    </tr>\n",
              "    <tr>\n",
              "      <th>7</th>\n",
              "      <td>0.017454</td>\n",
              "      <td>device_model</td>\n",
              "    </tr>\n",
              "    <tr>\n",
              "      <th>8</th>\n",
              "      <td>0.010562</td>\n",
              "      <td>device_carrier</td>\n",
              "    </tr>\n",
              "    <tr>\n",
              "      <th>9</th>\n",
              "      <td>0.012618</td>\n",
              "      <td>device_make</td>\n",
              "    </tr>\n",
              "    <tr>\n",
              "      <th>10</th>\n",
              "      <td>0.011969</td>\n",
              "      <td>device_connection_type</td>\n",
              "    </tr>\n",
              "    <tr>\n",
              "      <th>11</th>\n",
              "      <td>0.010270</td>\n",
              "      <td>device_language</td>\n",
              "    </tr>\n",
              "    <tr>\n",
              "      <th>12</th>\n",
              "      <td>0.005867</td>\n",
              "      <td>device_region</td>\n",
              "    </tr>\n",
              "    <tr>\n",
              "      <th>13</th>\n",
              "      <td>0.006333</td>\n",
              "      <td>device_city</td>\n",
              "    </tr>\n",
              "    <tr>\n",
              "      <th>14</th>\n",
              "      <td>0.007026</td>\n",
              "      <td>hour</td>\n",
              "    </tr>\n",
              "  </tbody>\n",
              "</table>\n",
              "</div>"
            ],
            "text/plain": [
              "    importance                features\n",
              "0     0.036181                adset_id\n",
              "1     0.692925                media_id\n",
              "2     0.029522              media_name\n",
              "3     0.089077            media_bundle\n",
              "4     0.017191            publisher_id\n",
              "5     0.032182          publisher_name\n",
              "6     0.020823       device_os_version\n",
              "7     0.017454            device_model\n",
              "8     0.010562          device_carrier\n",
              "9     0.012618             device_make\n",
              "10    0.011969  device_connection_type\n",
              "11    0.010270         device_language\n",
              "12    0.005867           device_region\n",
              "13    0.006333             device_city\n",
              "14    0.007026                    hour"
            ]
          },
          "metadata": {
            "tags": []
          },
          "execution_count": 166
        }
      ]
    },
    {
      "cell_type": "code",
      "metadata": {
        "id": "V3JDAmMBSYOh",
        "colab_type": "code",
        "colab": {}
      },
      "source": [
        "train_test_split(random)"
      ],
      "execution_count": null,
      "outputs": []
    },
    {
      "cell_type": "code",
      "metadata": {
        "id": "q8MHppMqlR1X",
        "colab_type": "code",
        "colab": {}
      },
      "source": [
        "# train_x, train_y, test_x, test_y\n",
        "!pip install xgboost\n",
        "!pip install category_encoders\n",
        "\n",
        "import xgboost as xgb\n",
        "import category_encoders\n",
        "\n",
        "encoder = category_encoders.CatBoostEncoder()\n",
        "train_cbe = encoder.fit_transform(train_x)\n",
        "model = xgb.XGBClassifier()\n",
        "model.fit(train_cbe, train_y)\n",
        "\n",
        "\n",
        "test_cbe = encoder.transform(test_x)\n",
        "model.predict_proba(test_cbe)\n",
        "\n"
      ],
      "execution_count": null,
      "outputs": []
    }
  ]
}