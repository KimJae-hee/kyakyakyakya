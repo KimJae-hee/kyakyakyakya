{
  "nbformat": 4,
  "nbformat_minor": 0,
  "metadata": {
    "colab": {
      "name": "방학세미나_모델링_0813.ipynb",
      "provenance": [],
      "collapsed_sections": [
        "yRq5AlTypno8",
        "kYgxQEPlG4k8"
      ],
      "mount_file_id": "1NHwnSNWsVAJYCddGFTgJIFQ14_lhn3E6",
      "authorship_tag": "ABX9TyNbf2D/UZl5Toif/vVjgqFk",
      "include_colab_link": true
    },
    "kernelspec": {
      "name": "python3",
      "display_name": "Python 3"
    },
    "accelerator": "GPU"
  },
  "cells": [
    {
      "cell_type": "markdown",
      "metadata": {
        "id": "view-in-github",
        "colab_type": "text"
      },
      "source": [
        "<a href=\"https://colab.research.google.com/github/KimJae-hee/kyakyakyakya/blob/master/%EB%B0%A9%ED%95%99%EC%84%B8%EB%AF%B8%EB%82%98_%EB%AA%A8%EB%8D%B8%EB%A7%81_0813.ipynb\" target=\"_parent\"><img src=\"https://colab.research.google.com/assets/colab-badge.svg\" alt=\"Open In Colab\"/></a>"
      ]
    },
    {
      "cell_type": "code",
      "metadata": {
        "id": "2VWNivPQ354f",
        "colab_type": "code",
        "colab": {}
      },
      "source": [
        "import pandas as pd\n",
        "import numpy as np\n",
        "import matplotlib.pyplot as plt\n",
        "from sklearn.metrics import log_loss\n",
        "from sklearn.model_selection import KFold\n",
        "from sklearn.linear_model import LogisticRegression\n",
        "from sklearn.model_selection import cross_val_score, train_test_split, StratifiedKFold\n",
        "from sklearn.preprocessing import OneHotEncoder"
      ],
      "execution_count": 4,
      "outputs": []
    },
    {
      "cell_type": "markdown",
      "metadata": {
        "id": "ttiTMA61prYe",
        "colab_type": "text"
      },
      "source": [
        "#### 1. 데이터 불러오기"
      ]
    },
    {
      "cell_type": "code",
      "metadata": {
        "id": "-U8aazxM4V5F",
        "colab_type": "code",
        "colab": {}
      },
      "source": [
        "train = pd.read_csv(\"/content/drive/My Drive/P-SAT/2020-2/방학 세미나/Train_data.csv\", engine = \"python\")\n",
        "# train.info()\n",
        "# test = pd.read_csv(\"/content/drive/My Drive/P-SAT/2020-2/방학 세미나/Test_data.csv\")"
      ],
      "execution_count": 5,
      "outputs": []
    },
    {
      "cell_type": "markdown",
      "metadata": {
        "id": "cRYKKoI9p-PH",
        "colab_type": "text"
      },
      "source": [
        "#### 2. 시간 변수 변형"
      ]
    },
    {
      "cell_type": "code",
      "metadata": {
        "id": "_khInBseqA6X",
        "colab_type": "code",
        "colab": {}
      },
      "source": [
        "train[\"event_datetime\"] = pd.to_datetime(train[\"event_datetime\"])\n",
        "train[\"hour\"] = train[\"event_datetime\"].dt.hour\n",
        "train[\"hour\"] = train[\"hour\"].astype(str)"
      ],
      "execution_count": 8,
      "outputs": []
    },
    {
      "cell_type": "markdown",
      "metadata": {
        "id": "cR4DzqZypv2c",
        "colab_type": "text"
      },
      "source": [
        "#### 3. 불필요한 변수 제거 "
      ]
    },
    {
      "cell_type": "code",
      "metadata": {
        "id": "NzGzzjoepgMO",
        "colab_type": "code",
        "colab": {
          "base_uri": "https://localhost:8080/",
          "height": 524
        },
        "outputId": "8daea80a-a747-4bed-cb22-bf334d67cb5c"
      },
      "source": [
        "delete_col = [\"bid_id\", \"device_ifa\", \"device_country\", \"event_datetime\"]\n",
        "train_1 = train.drop(delete_col, axis = 1)\n",
        "train_1.info()"
      ],
      "execution_count": 9,
      "outputs": [
        {
          "output_type": "stream",
          "text": [
            "<class 'pandas.core.frame.DataFrame'>\n",
            "RangeIndex: 2725271 entries, 0 to 2725270\n",
            "Data columns (total 22 columns):\n",
            " #   Column                  Dtype \n",
            "---  ------                  ----- \n",
            " 0   click                   int64 \n",
            " 1   ssp_id                  object\n",
            " 2   campaign_id             object\n",
            " 3   adset_id                object\n",
            " 4   placement_type          object\n",
            " 5   media_id                object\n",
            " 6   media_name              object\n",
            " 7   media_bundle            object\n",
            " 8   media_domain            object\n",
            " 9   publisher_id            object\n",
            " 10  publisher_name          object\n",
            " 11  device_os               object\n",
            " 12  device_os_version       object\n",
            " 13  device_model            object\n",
            " 14  device_carrier          object\n",
            " 15  device_make             object\n",
            " 16  device_connection_type  object\n",
            " 17  device_language         object\n",
            " 18  device_region           object\n",
            " 19  device_city             object\n",
            " 20  advertisement_id        object\n",
            " 21  hour                    object\n",
            "dtypes: int64(1), object(21)\n",
            "memory usage: 457.4+ MB\n"
          ],
          "name": "stdout"
        }
      ]
    },
    {
      "cell_type": "code",
      "metadata": {
        "id": "NDUOMU3ArDNt",
        "colab_type": "code",
        "colab": {}
      },
      "source": [
        "Y = train_1[\"click\"]\n",
        "X = train_1.drop(\"click\",axis = 1)"
      ],
      "execution_count": 11,
      "outputs": []
    },
    {
      "cell_type": "markdown",
      "metadata": {
        "id": "yRq5AlTypno8",
        "colab_type": "text"
      },
      "source": [
        "### One Hot Encoding + Random Forest"
      ]
    },
    {
      "cell_type": "markdown",
      "metadata": {
        "id": "sTq5qXhGrAlh",
        "colab_type": "text"
      },
      "source": [
        "#### 4. X와 Y분리"
      ]
    },
    {
      "cell_type": "markdown",
      "metadata": {
        "id": "sIPXWj4mqeij",
        "colab_type": "text"
      },
      "source": [
        "#### 5. 전체 데이터 중 10%만 사용하기 "
      ]
    },
    {
      "cell_type": "code",
      "metadata": {
        "id": "vlo0xickqi2Y",
        "colab_type": "code",
        "colab": {}
      },
      "source": [
        "X_use, X_rest, Y_use, Y_rest = train_test_split(X, Y, test_size=0.9, train_size=0.1, stratify= Y)\n",
        "# X_train, X_test, y_train, y_test = train_test_split(X_rest, y_rest, test_size=0.25, train_size=0.75, stratify='column')"
      ],
      "execution_count": null,
      "outputs": []
    },
    {
      "cell_type": "markdown",
      "metadata": {
        "id": "I8VSbxIhv8-Y",
        "colab_type": "text"
      },
      "source": [
        "#### 6. Cross Validation 하기"
      ]
    },
    {
      "cell_type": "code",
      "metadata": {
        "id": "C1SSWcIFqyD6",
        "colab_type": "code",
        "colab": {}
      },
      "source": [
        "encoder_X  = OneHotEncoder()\n",
        "encoder_X.fit(X_use)\n",
        "X_ohe = encoder_X.transform(X_use)"
      ],
      "execution_count": null,
      "outputs": []
    },
    {
      "cell_type": "code",
      "metadata": {
        "id": "3VJMArmU1_2c",
        "colab_type": "code",
        "colab": {
          "base_uri": "https://localhost:8080/",
          "height": 69
        },
        "outputId": "b9a48cbc-9e4f-4568-901e-fcb2d832a582"
      },
      "source": [
        "from sklearn.model_selection import cross_val_score\n",
        "from sklearn.model_selection import KFold\n",
        "from sklearn.ensemble import RandomForestClassifier\n",
        "rf = RandomForestClassifier(n_estimators = 200, random_state = 1234)\n",
        "kfold = KFold(n_splits=5, shuffle = True, random_state = 1234)\n",
        "scores = cross_val_score(rf, X_ohe, Y_use, cv=kfold, scoring = \"neg_log_loss\", verbose = 1)\n",
        "print(f\"랜포의 성능은: {scores}\")"
      ],
      "execution_count": null,
      "outputs": [
        {
          "output_type": "stream",
          "text": [
            "[Parallel(n_jobs=1)]: Using backend SequentialBackend with 1 concurrent workers.\n"
          ],
          "name": "stderr"
        },
        {
          "output_type": "stream",
          "text": [
            "1000층까지 가지를 내린 랜포의 성능은: [-0.40653773 -0.41724055 -0.41375715 -0.39974547 -0.41037066]\n"
          ],
          "name": "stdout"
        },
        {
          "output_type": "stream",
          "text": [
            "[Parallel(n_jobs=1)]: Done   5 out of   5 | elapsed: 255.6min finished\n"
          ],
          "name": "stderr"
        }
      ]
    },
    {
      "cell_type": "markdown",
      "metadata": {
        "id": "kYgxQEPlG4k8",
        "colab_type": "text"
      },
      "source": [
        "## One Hot Encoding + XGBoost"
      ]
    },
    {
      "cell_type": "markdown",
      "metadata": {
        "id": "2282KiAgKGHa",
        "colab_type": "text"
      },
      "source": [
        "### 1. XGBoost 설치"
      ]
    },
    {
      "cell_type": "code",
      "metadata": {
        "id": "douByV6yKLDv",
        "colab_type": "code",
        "colab": {
          "base_uri": "https://localhost:8080/",
          "height": 89
        },
        "outputId": "e4fc819e-1230-4689-a9b0-d0f6f10a991b"
      },
      "source": [
        "!pip install xgboost"
      ],
      "execution_count": null,
      "outputs": [
        {
          "output_type": "stream",
          "text": [
            "Requirement already satisfied: xgboost in /usr/local/lib/python3.6/dist-packages (0.90)\n",
            "Requirement already satisfied: scipy in /usr/local/lib/python3.6/dist-packages (from xgboost) (1.4.1)\n",
            "Requirement already satisfied: numpy in /usr/local/lib/python3.6/dist-packages (from xgboost) (1.18.5)\n"
          ],
          "name": "stdout"
        }
      ]
    },
    {
      "cell_type": "code",
      "metadata": {
        "id": "4s2DCdseKNYA",
        "colab_type": "code",
        "colab": {}
      },
      "source": [
        "import xgboost as xgb"
      ],
      "execution_count": 12,
      "outputs": []
    },
    {
      "cell_type": "markdown",
      "metadata": {
        "id": "BMXC1YrPMlHa",
        "colab_type": "text"
      },
      "source": [
        "### 1. X와 Y 분리 "
      ]
    },
    {
      "cell_type": "code",
      "metadata": {
        "id": "L0jbEfqFKFJW",
        "colab_type": "code",
        "colab": {}
      },
      "source": [
        "Y = train_1[\"click\"]\n",
        "X = train_1.drop(\"click\",axis = 1)"
      ],
      "execution_count": 13,
      "outputs": []
    },
    {
      "cell_type": "markdown",
      "metadata": {
        "id": "ybp7ssmIMv4Z",
        "colab_type": "text"
      },
      "source": [
        "### 2. 전체 데이터 중 10%만 사용하기 "
      ]
    },
    {
      "cell_type": "code",
      "metadata": {
        "id": "nMrw52KwMvXs",
        "colab_type": "code",
        "colab": {}
      },
      "source": [
        "X_use, X_rest, Y_use, Y_rest = train_test_split(X, Y, test_size=0.9, train_size=0.1, stratify= Y)\n",
        "# X_train, X_test, y_train, y_test = train_test_split(X_rest, y_rest, test_size=0.25, train_size=0.75, stratify='column')"
      ],
      "execution_count": 14,
      "outputs": []
    },
    {
      "cell_type": "markdown",
      "metadata": {
        "id": "NpXGbOaqM5Wh",
        "colab_type": "text"
      },
      "source": [
        "### 3. One Hot Encoding 하기 "
      ]
    },
    {
      "cell_type": "code",
      "metadata": {
        "id": "kHmeZZg8M41H",
        "colab_type": "code",
        "colab": {}
      },
      "source": [
        "encoder_X  = OneHotEncoder()\n",
        "encoder_X.fit(X_use)\n",
        "X_ohe = encoder_X.transform(X_use)"
      ],
      "execution_count": 15,
      "outputs": []
    },
    {
      "cell_type": "markdown",
      "metadata": {
        "id": "sdtQM22MNI6P",
        "colab_type": "text"
      },
      "source": [
        "### 4. Cross Validaion 하기 "
      ]
    },
    {
      "cell_type": "code",
      "metadata": {
        "id": "K7kFBRvuNIG-",
        "colab_type": "code",
        "colab": {
          "base_uri": "https://localhost:8080/",
          "height": 69
        },
        "outputId": "6b9f2565-6a4e-4903-b8e4-cc1a98fe7945"
      },
      "source": [
        "from sklearn.model_selection import cross_val_score\n",
        "from sklearn.model_selection import KFold\n",
        "boost = xgb.XGBClassifier(learning_rate = 0.1,\n",
        "                          objective= \"binary:logistic\", \n",
        "                          silent = False)\n",
        "kfold = KFold(n_splits=5, shuffle = True, random_state = 1234)\n",
        "scores = cross_val_score(boost, X_ohe, Y_use, cv=kfold, scoring = \"neg_log_loss\", verbose = 1)\n",
        "print(f\"XGBoost의 성능은: {scores}\")"
      ],
      "execution_count": 16,
      "outputs": [
        {
          "output_type": "stream",
          "text": [
            "[Parallel(n_jobs=1)]: Using backend SequentialBackend with 1 concurrent workers.\n"
          ],
          "name": "stderr"
        },
        {
          "output_type": "stream",
          "text": [
            "XGBoost의 성능은: [-0.23697203 -0.24078358 -0.23883074 -0.23467519 -0.24555165]\n"
          ],
          "name": "stdout"
        },
        {
          "output_type": "stream",
          "text": [
            "[Parallel(n_jobs=1)]: Done   5 out of   5 | elapsed:  1.3min finished\n"
          ],
          "name": "stderr"
        }
      ]
    },
    {
      "cell_type": "markdown",
      "metadata": {
        "id": "0qPfOfH6SwXD",
        "colab_type": "text"
      },
      "source": [
        "## Target Encoding + One Hot Encoding + XGBoost\n",
        "1.   Mean Encoding : \"adst_id\", \"media_id\", \"media_name\", \"media_bundle\", \"media_domain\", \"publisher_id\", \"publisher_name\", \"device_os_version\", \"device_model\", \"devcie_carrier\", \"device_make\", \"device_region\", \"device_city\"\n",
        "\n"
      ]
    },
    {
      "cell_type": "code",
      "metadata": {
        "id": "v2WRxzFsjkO5",
        "colab_type": "code",
        "colab": {
          "base_uri": "https://localhost:8080/",
          "height": 279
        },
        "outputId": "76bbac86-093c-4d87-85a2-26de228b0ca0"
      },
      "source": [
        "!pip install category_encoders\n"
      ],
      "execution_count": 85,
      "outputs": [
        {
          "output_type": "stream",
          "text": [
            "Collecting category_encoders\n",
            "\u001b[?25l  Downloading https://files.pythonhosted.org/packages/44/57/fcef41c248701ee62e8325026b90c432adea35555cbc870aff9cfba23727/category_encoders-2.2.2-py2.py3-none-any.whl (80kB)\n",
            "\r\u001b[K     |████                            | 10kB 26.8MB/s eta 0:00:01\r\u001b[K     |████████▏                       | 20kB 3.4MB/s eta 0:00:01\r\u001b[K     |████████████▏                   | 30kB 4.5MB/s eta 0:00:01\r\u001b[K     |████████████████▎               | 40kB 4.8MB/s eta 0:00:01\r\u001b[K     |████████████████████▎           | 51kB 4.0MB/s eta 0:00:01\r\u001b[K     |████████████████████████▍       | 61kB 4.4MB/s eta 0:00:01\r\u001b[K     |████████████████████████████▍   | 71kB 4.9MB/s eta 0:00:01\r\u001b[K     |████████████████████████████████| 81kB 3.9MB/s \n",
            "\u001b[?25hRequirement already satisfied: pandas>=0.21.1 in /usr/local/lib/python3.6/dist-packages (from category_encoders) (1.0.5)\n",
            "Requirement already satisfied: scipy>=1.0.0 in /usr/local/lib/python3.6/dist-packages (from category_encoders) (1.4.1)\n",
            "Requirement already satisfied: numpy>=1.14.0 in /usr/local/lib/python3.6/dist-packages (from category_encoders) (1.18.5)\n",
            "Requirement already satisfied: patsy>=0.5.1 in /usr/local/lib/python3.6/dist-packages (from category_encoders) (0.5.1)\n",
            "Requirement already satisfied: statsmodels>=0.9.0 in /usr/local/lib/python3.6/dist-packages (from category_encoders) (0.10.2)\n",
            "Requirement already satisfied: scikit-learn>=0.20.0 in /usr/local/lib/python3.6/dist-packages (from category_encoders) (0.22.2.post1)\n",
            "Requirement already satisfied: python-dateutil>=2.6.1 in /usr/local/lib/python3.6/dist-packages (from pandas>=0.21.1->category_encoders) (2.8.1)\n",
            "Requirement already satisfied: pytz>=2017.2 in /usr/local/lib/python3.6/dist-packages (from pandas>=0.21.1->category_encoders) (2018.9)\n",
            "Requirement already satisfied: six in /usr/local/lib/python3.6/dist-packages (from patsy>=0.5.1->category_encoders) (1.15.0)\n",
            "Requirement already satisfied: joblib>=0.11 in /usr/local/lib/python3.6/dist-packages (from scikit-learn>=0.20.0->category_encoders) (0.16.0)\n",
            "Installing collected packages: category-encoders\n",
            "Successfully installed category-encoders-2.2.2\n"
          ],
          "name": "stdout"
        }
      ]
    },
    {
      "cell_type": "code",
      "metadata": {
        "id": "9wkTSCDZVEty",
        "colab_type": "code",
        "colab": {}
      },
      "source": [
        "X_use, _, Y_use, _ = train_test_split(X, Y, test_size=0.9, train_size=0.1, stratify= Y)"
      ],
      "execution_count": 18,
      "outputs": []
    },
    {
      "cell_type": "markdown",
      "metadata": {
        "id": "LZmuWMMWYBAh",
        "colab_type": "text"
      },
      "source": [
        "### 2. 각 인코딩 별 변수 나누기 "
      ]
    },
    {
      "cell_type": "code",
      "metadata": {
        "id": "F3Jee4EhY2hV",
        "colab_type": "code",
        "colab": {}
      },
      "source": [
        "col = X_use.columns\n",
        "col_mean = [ \"adset_id\", \"media_id\", \"media_name\", \"media_bundle\", \"media_domain\", \"publisher_id\", \"publisher_name\", \"device_os_version\", \"device_model\", \"device_carrier\", \"device_make\", \"device_region\", \"device_city\"]\n",
        "col_ohe = col[~col.isin(col_mean)]"
      ],
      "execution_count": 21,
      "outputs": []
    },
    {
      "cell_type": "code",
      "metadata": {
        "id": "DASVnHQ-Ychs",
        "colab_type": "code",
        "colab": {}
      },
      "source": [
        "X_ohe_before = X_use[col_ohe]\n",
        "X_mean_before = X_use[col_mean]"
      ],
      "execution_count": 22,
      "outputs": []
    },
    {
      "cell_type": "code",
      "metadata": {
        "id": "s-YBfr_7rKB_",
        "colab_type": "code",
        "colab": {
          "base_uri": "https://localhost:8080/",
          "height": 69
        },
        "outputId": "b72d6f3c-722f-4a2b-e7df-1a98e387a482"
      },
      "source": [
        "print(X_use.shape)\n",
        "print(Y_use.shape)\n",
        "print(X_mean_before.shape)"
      ],
      "execution_count": 23,
      "outputs": [
        {
          "output_type": "stream",
          "text": [
            "(272527, 21)\n",
            "(272527,)\n",
            "(272527, 13)\n"
          ],
          "name": "stdout"
        }
      ]
    },
    {
      "cell_type": "markdown",
      "metadata": {
        "id": "CaSanH3WcASu",
        "colab_type": "text"
      },
      "source": [
        "### 3. One Hot Encoding"
      ]
    },
    {
      "cell_type": "code",
      "metadata": {
        "id": "kDNLAv0GYzIb",
        "colab_type": "code",
        "colab": {}
      },
      "source": [
        "# train_ohe_before, train_mean_before, Y_use"
      ],
      "execution_count": 24,
      "outputs": []
    },
    {
      "cell_type": "code",
      "metadata": {
        "id": "7FNBxRaGcHFw",
        "colab_type": "code",
        "colab": {}
      },
      "source": [
        "encoder_ohe  = OneHotEncoder()\n",
        "encoder_ohe.fit(X_ohe_before)\n",
        "X_ohe = encoder_ohe.transform(X_ohe_before).toarray()"
      ],
      "execution_count": 25,
      "outputs": []
    },
    {
      "cell_type": "markdown",
      "metadata": {
        "id": "wl-4TAUsclzq",
        "colab_type": "text"
      },
      "source": [
        "### 4, Mean Encoding"
      ]
    },
    {
      "cell_type": "code",
      "metadata": {
        "id": "7Nk5vS_Wcp9c",
        "colab_type": "code",
        "colab": {
          "base_uri": "https://localhost:8080/",
          "height": 509
        },
        "outputId": "9699d634-2350-48a6-acd8-f7d0d91749ab"
      },
      "source": [
        "import category_encoders as ce\n",
        "import xgboost as xgb\n",
        "folds = StratifiedKFold(random_state = 1234)\n",
        "encoder_target = ce.target_encoder.TargetEncoder()\n",
        "\n",
        "score = []\n",
        "for train_idx, val_idx in folds.split(X_mean_before, Y_use):\n",
        "    print(\" 데이터 불러오기 및 train/validation 나누기\") \n",
        "    x_train_mean_before = X_mean_before.iloc[train_idx, :]\n",
        "    x_val_mean_before = X_mean_before.iloc[val_idx]\n",
        "\n",
        "    x_train_ohe = X_ohe[train_idx]\n",
        "    x_val_ohe = X_ohe[val_idx]\n",
        "\n",
        "    y_train = Y_use.iloc[train_idx]\n",
        "    y_val = Y_use.iloc[val_idx]\n",
        "\n",
        "    print(\"타겟 인코더 피팅\")\n",
        "    encoder_target.fit(x_train_mean_before, y_train)\n",
        "\n",
        "    print(\"인코딩\")\n",
        "    x_train_mean = encoder_target.transform(x_train_mean_before)\n",
        "    x_val_mean = encoder_target.transform(x_val_mean_before)\n",
        "\n",
        "    x_train = np.hstack((x_train_mean, x_train_ohe))\n",
        "    x_val = np.hstack((x_val_mean, x_val_ohe))\n",
        "\n",
        "    boost = xgb.XGBClassifier(learning_rate = 0.1,\n",
        "                          objective= \"binary:logistic\", \n",
        "                          silent = False)\n",
        "    boost.fit(x_train, y_train)\n",
        "\n",
        "    pred = boost.predict_proba(x_val)\n",
        "\n",
        "    score_tmp = log_loss(y_val, pred)\n",
        "    print(score_tmp)\n",
        "\n",
        "    print(\"끝\")\n",
        " [-0.23697203 -0.24078358 -0.23883074 -0.23467519 -0.24555165]\n",
        "    "
      ],
      "execution_count": 28,
      "outputs": [
        {
          "output_type": "stream",
          "text": [
            "/usr/local/lib/python3.6/dist-packages/sklearn/model_selection/_split.py:296: FutureWarning: Setting a random_state has no effect since shuffle is False. This will raise an error in 0.24. You should leave random_state to its default (None), or set shuffle=True.\n",
            "  FutureWarning\n"
          ],
          "name": "stderr"
        },
        {
          "output_type": "stream",
          "text": [
            " 데이터 불러오기 및 train/validation 나누기\n",
            "타겟 인코더 피팅\n",
            "인코딩\n",
            "0.23671239138828915\n",
            "끝\n",
            " 데이터 불러오기 및 train/validation 나누기\n",
            "타겟 인코더 피팅\n",
            "인코딩\n",
            "0.24141921672124841\n",
            "끝\n",
            " 데이터 불러오기 및 train/validation 나누기\n",
            "타겟 인코더 피팅\n",
            "인코딩\n",
            "0.23788788779929426\n",
            "끝\n",
            " 데이터 불러오기 및 train/validation 나누기\n",
            "타겟 인코더 피팅\n",
            "인코딩\n",
            "0.2386395166997626\n",
            "끝\n",
            " 데이터 불러오기 및 train/validation 나누기\n",
            "타겟 인코더 피팅\n",
            "인코딩\n",
            "0.23794808290324312\n",
            "끝\n"
          ],
          "name": "stdout"
        }
      ]
    },
    {
      "cell_type": "code",
      "metadata": {
        "id": "nSruod6g2PUS",
        "colab_type": "code",
        "colab": {
          "base_uri": "https://localhost:8080/",
          "height": 52
        },
        "outputId": "45731378-02bb-472f-8375-49b4c192064d"
      },
      "source": [
        "print(np.mean([-0.23697203, -0.24078358, -0.23883074, -0.23467519, -0.24555165]))\n",
        "print(np.mean([0.23671239138828915,0.24141921672124841,0.23788788779929426, 0.2386395166997626, 0.23794808290324312]))"
      ],
      "execution_count": 31,
      "outputs": [
        {
          "output_type": "stream",
          "text": [
            "-0.23936263800000002\n",
            "0.23852141910236752\n"
          ],
          "name": "stdout"
        }
      ]
    },
    {
      "cell_type": "markdown",
      "metadata": {
        "id": "Il-dMzLNYpGb",
        "colab_type": "text"
      },
      "source": [
        "### 2. "
      ]
    },
    {
      "cell_type": "code",
      "metadata": {
        "id": "nKaA4a5Ay1kH",
        "colab_type": "code",
        "colab": {}
      },
      "source": [
        "# #### importance plot을 그려보려 했으나 변수가 너무 많아 유의미하지 않음 \n",
        "\n",
        "# Importances = rf.feature_importances_\n",
        "\n",
        "\n",
        "# std = np.std([tree.feature_importances_ for tree in rf.estimators_],\n",
        "#              axis=0)\n",
        "# indices = np.argsort(Importances)[::-1]\n",
        "\n",
        "# # Print the feature ranking\n",
        "# print(\"Feature ranking:\")\n",
        "\n",
        "# for f in range(X_ohe.shape[1]):\n",
        "#     print(\"%d. feature %d (%f)\" % (f + 1, indices[f], Importances[indices[f]]))\n",
        "\n",
        "# # Plot the impurity-based feature importances of the forest\n",
        "# plt.figure()\n",
        "# plt.title(\"Feature importances\")\n",
        "# plt.bar(range(X_ohe.shape[1]), Importances[indices],\n",
        "#         color=\"r\", yerr=std[indices], align=\"center\")\n",
        "# plt.xticks(range(X_ohe.shape[1]), indices)\n",
        "# plt.xlim([-1, X_ohe.shape[1]])\n",
        "# plt.show()\n",
        "\n"
      ],
      "execution_count": null,
      "outputs": []
    }
  ]
}