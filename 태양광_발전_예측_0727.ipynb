{
  "nbformat": 4,
  "nbformat_minor": 0,
  "metadata": {
    "colab": {
      "name": "태양광 발전 예측_0727.ipynb",
      "provenance": [],
      "collapsed_sections": [],
      "include_colab_link": true
    },
    "kernelspec": {
      "name": "python3",
      "display_name": "Python 3"
    },
    "accelerator": "TPU"
  },
  "cells": [
    {
      "cell_type": "markdown",
      "metadata": {
        "id": "view-in-github",
        "colab_type": "text"
      },
      "source": [
        "<a href=\"https://colab.research.google.com/github/KimJae-hee/kyakyakyakya/blob/master/%ED%83%9C%EC%96%91%EA%B4%91_%EB%B0%9C%EC%A0%84_%EC%98%88%EC%B8%A1_0727.ipynb\" target=\"_parent\"><img src=\"https://colab.research.google.com/assets/colab-badge.svg\" alt=\"Open In Colab\"/></a>"
      ]
    },
    {
      "cell_type": "code",
      "metadata": {
        "id": "9m4h9_w74uzy",
        "colab_type": "code",
        "colab": {
          "base_uri": "https://localhost:8080/",
          "height": 35
        },
        "outputId": "f2bc2ae3-8bdf-45a6-ec6b-642fb82f53a7"
      },
      "source": [
        "import pandas as pd\n",
        "import numpy as np\n",
        "from sklearn.preprocessing import OneHotEncoder, OrdinalEncoder\n",
        "from sklearn.preprocessing import MinMaxScaler, RobustScaler\n",
        "from keras.layers import Dense, Dropout\n",
        "from keras.models import Sequential\n",
        "from keras import backend as K\n",
        "from keras.callbacks import EarlyStopping\n",
        "from keras.callbacks import ModelCheckpoint\n",
        "import matplotlib.pyplot as plt\n",
        "from sklearn.metrics import mean_squared_error as mse\n",
        "np.random.seed(0)"
      ],
      "execution_count": 1,
      "outputs": [
        {
          "output_type": "stream",
          "text": [
            "Using TensorFlow backend.\n"
          ],
          "name": "stderr"
        }
      ]
    },
    {
      "cell_type": "markdown",
      "metadata": {
        "id": "W6T2-iEj5WyW",
        "colab_type": "text"
      },
      "source": [
        "### 우선 One-Hot Encoding으로 진행하자."
      ]
    },
    {
      "cell_type": "code",
      "metadata": {
        "id": "CbOqP0mMJjeR",
        "colab_type": "code",
        "colab": {
          "base_uri": "https://localhost:8080/",
          "height": 126
        },
        "outputId": "3288b30e-b4ca-4d74-8173-49c1db138781"
      },
      "source": [
        "from google.colab import drive\n",
        "drive.mount('/content/drive')"
      ],
      "execution_count": 2,
      "outputs": [
        {
          "output_type": "stream",
          "text": [
            "Go to this URL in a browser: https://accounts.google.com/o/oauth2/auth?client_id=947318989803-6bn6qk8qdgf4n4g3pfee6491hc0brc4i.apps.googleusercontent.com&redirect_uri=urn%3aietf%3awg%3aoauth%3a2.0%3aoob&response_type=code&scope=email%20https%3a%2f%2fwww.googleapis.com%2fauth%2fdocs.test%20https%3a%2f%2fwww.googleapis.com%2fauth%2fdrive%20https%3a%2f%2fwww.googleapis.com%2fauth%2fdrive.photos.readonly%20https%3a%2f%2fwww.googleapis.com%2fauth%2fpeopleapi.readonly\n",
            "\n",
            "Enter your authorization code:\n",
            "··········\n",
            "Mounted at /content/drive\n"
          ],
          "name": "stdout"
        }
      ]
    },
    {
      "cell_type": "code",
      "metadata": {
        "id": "xLQHYr3W4y-o",
        "colab_type": "code",
        "colab": {}
      },
      "source": [
        "sun = pd.read_csv('/content/drive/My Drive/P-SAT/태양광 예측/진짜 데이터 셋/final_data0723_3.csv', encoding = 'CP949')\n",
        "sun[\"ymd\"] = pd.to_datetime(sun[\"ymd\"], format = \"%Y-%m-%d\")\n",
        "sun = sun.set_index(pd.to_datetime(sun[\"date\"]))\n",
        "del sun[\"date\"]\n",
        "del sun[\"day\"]\n",
        "del sun[\"wday\"]"
      ],
      "execution_count": 3,
      "outputs": []
    },
    {
      "cell_type": "code",
      "metadata": {
        "id": "Vjh_caqnJCNs",
        "colab_type": "code",
        "colab": {}
      },
      "source": [
        "sun_test = sun[sun[\"y\"].isnull()]\n",
        "sun_train = sun[sun[\"y\"].notnull()]"
      ],
      "execution_count": 4,
      "outputs": []
    },
    {
      "cell_type": "code",
      "metadata": {
        "id": "0vv75E8P-igk",
        "colab_type": "code",
        "colab": {}
      },
      "source": [
        "y_train = sun_train[\"y\"]\n",
        "y_test = sun_test[\"y\"]\n",
        "# 각각의 인코딩을 위해 데이터 프레임 복제\n",
        "sun_mne = sun_train.drop([\"ymd\"], axis = 1)\n",
        "sun_ohe = sun_train.drop([\"y\", \"ymd\"], axis = 1)\n",
        "sun_tets = sun_test.drop([\"y\"], axis = 1)"
      ],
      "execution_count": 5,
      "outputs": []
    },
    {
      "cell_type": "markdown",
      "metadata": {
        "id": "9JXjosXPC4bA",
        "colab_type": "text"
      },
      "source": [
        "### train, validation, test 인덱스 추출 및 데이터 분리"
      ]
    },
    {
      "cell_type": "code",
      "metadata": {
        "id": "vNO29d1k32mJ",
        "colab_type": "code",
        "colab": {}
      },
      "source": [
        "idx_train_1 = (sun_train[\"ymd\"] < \"2020-01-24\")\n",
        "idx_train_2 = ((sun_train[\"ymd\"] < \"2020-03-24\"))\n",
        "idx_train_3 = ((sun_train[\"ymd\"] < \"2020-05-24\"))\n",
        "\n",
        "idx_val_1 = ((sun_train[\"ymd\"] > \"2020-01-23\") & (sun_train[\"ymd\"] <\"2020-01-31\"))\n",
        "idx_val_2 = ((sun_train[\"ymd\"] > \"2020-03-23\") & (sun_train[\"ymd\"] <\"2020-03-31\"))\n",
        "idx_val_3 = ((sun_train[\"ymd\"] > \"2020-05-23\") & (sun_train[\"ymd\"] <\"2020-05-31\"))\n",
        "\n",
        "idx_test_1 = (sun_test[\"ymd\"] == \"2020-01-31\")\n",
        "idx_test_2 = (sun_test[\"ymd\"] == \"2020-03-31\")\n",
        "idx_test_3 = (sun_test[\"ymd\"] == \"2020-05-31\")"
      ],
      "execution_count": 7,
      "outputs": []
    },
    {
      "cell_type": "code",
      "metadata": {
        "id": "UXhgBggTDnWL",
        "colab_type": "code",
        "colab": {
          "base_uri": "https://localhost:8080/",
          "height": 124
        },
        "outputId": "1bb42395-126e-434c-9d68-2fb9e0b00cf1"
      },
      "source": [
        "x_train_1 = sun_ohe[idx_train_1]\n",
        "x_train_2 = sun_ohe[idx_train_2]\n",
        "x_train_3 = sun_ohe[idx_train_3]\n",
        "\n",
        "x_val_1 = sun_ohe[idx_val_1]\n",
        "x_val_2 = sun_ohe[idx_val_2]\n",
        "x_val_3 = sun_ohe[idx_val_3]\n",
        "\n",
        "x_test_1 = sun_test[idx_test_1]\n",
        "x_test_2 = sun_test[idx_test_2]\n",
        "x_test_3 = sun_test[idx_test_3]\n",
        "\n",
        "y_train_1 = y_train[idx_train_1]\n",
        "y_train_2 = y_train[idx_train_2]\n",
        "y_train_3 = y_train[idx_train_3]\n",
        "\n",
        "y_val_1 = y_train[idx_val_1]\n",
        "y_val_2 = y_train[idx_val_2]\n",
        "y_val_3 = y_train[idx_val_3]\n",
        "\n",
        "y_test_1 = y_test[idx_test_1]\n",
        "y_test_2 = y_test[idx_test_2]\n",
        "y_test_3 = y_test[idx_test_3]\n",
        "\n",
        "\n",
        "\n",
        "print(y_train_1.isnull().sum())\n",
        "print(y_train_2.isnull().sum())\n",
        "print(y_train_3.isnull().sum())\n",
        "print(y_val_1.isnull().sum())\n",
        "print(y_val_2.isnull().sum())\n",
        "print(y_val_3.isnull().sum())"
      ],
      "execution_count": 9,
      "outputs": [
        {
          "output_type": "stream",
          "text": [
            "0\n",
            "0\n",
            "0\n",
            "0\n",
            "0\n",
            "0\n"
          ],
          "name": "stdout"
        }
      ]
    },
    {
      "cell_type": "markdown",
      "metadata": {
        "id": "z0LRFNV_52uV",
        "colab_type": "text"
      },
      "source": [
        "### One-Hot-Encoder 및 Ordianl-Encoder"
      ]
    },
    {
      "cell_type": "code",
      "metadata": {
        "id": "tTt3nzm75WKA",
        "colab_type": "code",
        "colab": {}
      },
      "source": [
        "cate_list = [\"month\", \"rain_type\", \"skycondition\", \"pm10_cat\", \"pm2_5_cat\", \"rain_yn\", \"hour\" ] #인코딩을 위한 변수 \n",
        "sun_ohe_columns = sun_ohe.columns.values.tolist()"
      ],
      "execution_count": 10,
      "outputs": []
    },
    {
      "cell_type": "code",
      "metadata": {
        "id": "x9IVIJEg8Qkx",
        "colab_type": "code",
        "colab": {}
      },
      "source": [
        "non_cate_list = sun_ohe_columns\n",
        "for i in range(len(cate_list)):\n",
        "  non_cate_list.remove(cate_list[i])"
      ],
      "execution_count": 11,
      "outputs": []
    },
    {
      "cell_type": "code",
      "metadata": {
        "id": "XUGGt7SCExLc",
        "colab_type": "code",
        "colab": {}
      },
      "source": [
        "def onehotencoder_minmax(x_train, x_val):\n",
        "  shape_x_train = x_train.shape\n",
        "  shape_x_val = x_val.shape\n",
        "  \n",
        "  print(f\"인코딩 전 트레인 데이터의 shape은 {shape_x_train}입니다.\")\n",
        "  print(f\"인코딩 전 평가 데이터의 shape은 {shape_x_val}입니다.\")\n",
        "\n",
        "  x_train_cat = x_train[cate_list]\n",
        "  x_train_noncat = x_train[non_cate_list]\n",
        "\n",
        "  x_val_cat = x_val[cate_list]\n",
        "  x_val_noncat = x_val[non_cate_list]\n",
        "\n",
        "  enc = OneHotEncoder(handle_unknown='error')\n",
        "  enc.fit(x_train_3[cate_list])\n",
        "  x_train_ohe = enc.transform(x_train_cat).toarray()\n",
        "  x_val_ohe = enc.transform(x_val_cat).toarray()\n",
        "\n",
        "  x_train_noncat = np.asarray(x_train_noncat)\n",
        "  x_val_noncat = np.asarray(x_val_noncat)\n",
        "\n",
        "  scaler = RobustScaler()\n",
        "  scaler.__init__\n",
        "  scaler.fit(x_train_noncat)\n",
        "  x_train_noncat = scaler.transform(x_train_noncat)\n",
        "  x_val_noncat = scaler.transform(x_val_noncat)\n",
        "\n",
        "  x_train_result = np.hstack((x_train_noncat, x_train_ohe))\n",
        "  x_val_result = np.hstack((x_val_noncat, x_val_ohe))\n",
        "\n",
        "  shape_x_train_done = x_train_result.shape\n",
        "  shape_x_val_done = x_val_result.shape\n",
        "  print(f\"인코딩 후 트레인 데이터의 shape은 {shape_x_train_done}입니다.\")\n",
        "  print(f\"인코딩 후 평가 데이터의 shape은 {shape_x_val_done}입니다.\")\n",
        "  print(\"   \")\n",
        "  return x_train_result, x_val_result                   "
      ],
      "execution_count": 30,
      "outputs": []
    },
    {
      "cell_type": "code",
      "metadata": {
        "id": "aeb8NkUqHapR",
        "colab_type": "code",
        "colab": {
          "base_uri": "https://localhost:8080/",
          "height": 284
        },
        "outputId": "0e5cfd96-6424-4604-f115-18850f3cba79"
      },
      "source": [
        "x_train_1_ohe, x_val_1_ohe = onehotencoder_minmax(x_train_1, x_val_1)\n",
        "x_train_2_ohe, x_val_2_ohe = onehotencoder_minmax(x_train_2, x_val_2)\n",
        "x_train_3_ohe, x_val_3_ohe = onehotencoder_minmax(x_train_3, x_val_3)"
      ],
      "execution_count": 32,
      "outputs": [
        {
          "output_type": "stream",
          "text": [
            "인코딩 전 트레인 데이터의 shape은 (4944, 28)입니다.\n",
            "인코딩 전 평가 데이터의 shape은 (168, 28)입니다.\n",
            "인코딩 후 트레인 데이터의 shape은 (4944, 73)입니다.\n",
            "인코딩 후 평가 데이터의 shape은 (168, 73)입니다.\n",
            "   \n",
            "인코딩 전 트레인 데이터의 shape은 (6360, 28)입니다.\n",
            "인코딩 전 평가 데이터의 shape은 (168, 28)입니다.\n",
            "인코딩 후 트레인 데이터의 shape은 (6360, 73)입니다.\n",
            "인코딩 후 평가 데이터의 shape은 (168, 73)입니다.\n",
            "   \n",
            "인코딩 전 트레인 데이터의 shape은 (7800, 28)입니다.\n",
            "인코딩 전 평가 데이터의 shape은 (168, 28)입니다.\n",
            "인코딩 후 트레인 데이터의 shape은 (7800, 73)입니다.\n",
            "인코딩 후 평가 데이터의 shape은 (168, 73)입니다.\n",
            "   \n"
          ],
          "name": "stdout"
        }
      ]
    },
    {
      "cell_type": "markdown",
      "metadata": {
        "id": "2WC6HjxIF00z",
        "colab_type": "text"
      },
      "source": [
        "### train, val, test set 생성"
      ]
    },
    {
      "cell_type": "code",
      "metadata": {
        "id": "KiwGyWBV8KIN",
        "colab_type": "code",
        "colab": {}
      },
      "source": [
        "data_set_list = [[x_train_1_ohe, y_train_1, x_val_1_ohe, y_val_1],\n",
        "                 [x_train_2_ohe, y_train_2, x_val_2_ohe, y_val_2],\n",
        "                 [x_train_3_ohe, y_train_3, x_val_3_ohe, y_val_3]]"
      ],
      "execution_count": 33,
      "outputs": []
    },
    {
      "cell_type": "markdown",
      "metadata": {
        "id": "5GLt-IA5F5Qo",
        "colab_type": "text"
      },
      "source": [
        "### 손실함수 정의"
      ]
    },
    {
      "cell_type": "code",
      "metadata": {
        "id": "x-Wf58DOFtIJ",
        "colab_type": "code",
        "colab": {}
      },
      "source": [
        "def lossloss(y, y_hat):\n",
        "  result = []\n",
        "  for i in range(int(y.shape[0]/24)):\n",
        "    start = 24*i\n",
        "    end = (24*(i+1))\n",
        "    tmp = sum(abs(y[start:end] - y_hat[start:end])*y[start:end]/sum(y[start:end]))/133\n",
        "    result.append(tmp)\n",
        "  loss = np.mean(result)\n",
        "  return loss\n",
        "\n",
        "def RMSE(y, y_hat):\n",
        "  result = mse(y, y_hat)**0.5\n",
        "  return result"
      ],
      "execution_count": 34,
      "outputs": []
    },
    {
      "cell_type": "markdown",
      "metadata": {
        "id": "0A_-4AbpGX_F",
        "colab_type": "text"
      },
      "source": [
        "### 일반화 코드"
      ]
    },
    {
      "cell_type": "markdown",
      "metadata": {
        "id": "JQf_ME2PGdJb",
        "colab_type": "text"
      },
      "source": [
        "### 모델 정의"
      ]
    },
    {
      "cell_type": "code",
      "metadata": {
        "id": "qq9S67pOGgBo",
        "colab_type": "code",
        "colab": {}
      },
      "source": [
        "dim_x_train_1 = x_train_1_ohe.shape\n",
        "def root_mean_squared_error(y_true, y_pred):\n",
        "        return K.sqrt(K.mean(K.square(y_pred - y_true))) \n",
        "# 2. 모델 구성하기\n",
        "model = Sequential()\n",
        "model.__init__\n",
        "model.add(Dense(1, input_dim= dim_x_train_1[1], activation='relu'))\n",
        "model.add(Dense(70, activation='relu'))\n",
        "model.add(Dense(1))\n",
        "# 3. 모델 학습과정 설정하기\n",
        "model.compile(optimizer = \"rmsprop\", loss = root_mean_squared_error, \n",
        "              metrics =[\"mse\"])\n",
        "\n",
        "# 4. 모델 학습시키기\n",
        "early_stopping = EarlyStopping(monitor='val_loss', mode='min', verbose=1, patience=100)\n",
        "mc = ModelCheckpoint('best_model.h5', monitor='val_loss', mode='min', save_best_only=True)"
      ],
      "execution_count": 48,
      "outputs": []
    },
    {
      "cell_type": "markdown",
      "metadata": {
        "id": "zTOJX51OP1ed",
        "colab_type": "text"
      },
      "source": [
        "### 1월, 3월, 5월에 맞게 데이터 학습 후 예측 및 오차 계산"
      ]
    },
    {
      "cell_type": "code",
      "metadata": {
        "id": "BXj1pvi8Od62",
        "colab_type": "code",
        "colab": {}
      },
      "source": [
        "# 모델링 함수 \n",
        "def modeling(data_set, model, batchsize = 64, epoch_n = 300):\n",
        "  weighted = []\n",
        "  rmse = []\n",
        "  y_hat_result = []\n",
        "  for i in range(len(data_set)):\n",
        "    X_train = data_set[i][0]\n",
        "    Y_train = data_set[i][1]\n",
        "    X_val = data_set[i][2]\n",
        "    Y_val = data_set[i][3]\n",
        "\n",
        "    model.fit(X_train, Y_train, epochs = epoch_n, batch_size = batchsize, validation_split = 0.3, verbose = 0, callbacks = [mc, early_stopping] )\n",
        "    \n",
        "    y_hat = model.predict(X_val)\n",
        "    y_hat = y_hat.flatten()\n",
        "    y_hat_tmp = y_hat\n",
        "\n",
        "    tmp_weighted = lossloss(Y_val, y_hat)\n",
        "    tmp_rmse = RMSE(Y_val, y_hat)\n",
        "\n",
        "    weighted.append(tmp_weighted)\n",
        "    rmse.append(tmp_rmse)\n",
        "    y_hat_result = y_hat_tmp\n",
        "    print(i, \"번째 validiaion 결과는 다음과 같습니다.\", \":::\", \"가중평균: \", tmp_weighted, \"RMSE: \", tmp_rmse )\n",
        "\n",
        "  print(\"   \")\n",
        " # return y_hat_result\n",
        "  return weighted"
      ],
      "execution_count": 39,
      "outputs": []
    },
    {
      "cell_type": "code",
      "metadata": {
        "id": "Lzg-eSulKOBE",
        "colab_type": "code",
        "colab": {
          "base_uri": "https://localhost:8080/",
          "height": 710
        },
        "outputId": "d4d74604-0623-464e-e681-ef14085727d8"
      },
      "source": [
        "modeling(data_set_list, model)"
      ],
      "execution_count": 49,
      "outputs": [
        {
          "output_type": "stream",
          "text": [
            "0 번째 validiaion 결과는 다음과 같습니다. ::: 가중평균:  0.22802001456565427 RMSE:  21.34854366290836\n",
            "Epoch 00101: early stopping\n",
            "1 번째 validiaion 결과는 다음과 같습니다. ::: 가중평균:  0.3964479068136485 RMSE:  34.50438031156971\n",
            "Epoch 00101: early stopping\n",
            "2 번째 validiaion 결과는 다음과 같습니다. ::: 가중평균:  0.37288972892045 RMSE:  34.40925789795661\n"
          ],
          "name": "stdout"
        },
        {
          "output_type": "execute_result",
          "data": {
            "text/plain": [
              "array([15.3296585, 15.3296585, 15.3296585, 15.3296585, 15.3296585,\n",
              "       15.3296585, 15.3296585, 15.3296585, 15.3296585, 15.3296585,\n",
              "       15.3296585, 15.3296585, 15.3296585, 15.3296585, 15.3296585,\n",
              "       15.3296585, 15.3296585, 15.3296585, 15.3296585, 15.3296585,\n",
              "       15.3296585, 15.3296585, 15.3296585, 15.3296585, 15.3296585,\n",
              "       15.3296585, 15.3296585, 15.3296585, 15.3296585, 15.3296585,\n",
              "       15.3296585, 15.3296585, 15.3296585, 15.3296585, 15.3296585,\n",
              "       15.3296585, 15.3296585, 15.3296585, 15.3296585, 15.3296585,\n",
              "       15.3296585, 15.3296585, 15.3296585, 15.3296585, 15.3296585,\n",
              "       15.3296585, 15.3296585, 15.3296585, 15.3296585, 15.3296585,\n",
              "       15.3296585, 15.3296585, 15.3296585, 15.3296585, 15.3296585,\n",
              "       15.3296585, 15.3296585, 15.3296585, 15.3296585, 15.3296585,\n",
              "       15.3296585, 15.3296585, 15.3296585, 15.3296585, 15.3296585,\n",
              "       15.3296585, 15.3296585, 15.3296585, 15.3296585, 15.3296585,\n",
              "       15.3296585, 15.3296585, 15.3296585, 15.3296585, 15.3296585,\n",
              "       15.3296585, 15.3296585, 15.3296585, 15.3296585, 15.3296585,\n",
              "       15.3296585, 15.3296585, 15.3296585, 15.3296585, 15.3296585,\n",
              "       15.3296585, 15.3296585, 15.3296585, 15.3296585, 15.3296585,\n",
              "       15.3296585, 15.3296585, 15.3296585, 15.3296585, 15.3296585,\n",
              "       15.3296585, 15.3296585, 15.3296585, 15.3296585, 15.3296585,\n",
              "       15.3296585, 15.3296585, 15.3296585, 15.3296585, 15.3296585,\n",
              "       15.3296585, 15.3296585, 15.3296585, 15.3296585, 15.3296585,\n",
              "       15.3296585, 15.3296585, 15.3296585, 15.3296585, 15.3296585,\n",
              "       15.3296585, 15.3296585, 15.3296585, 15.3296585, 15.3296585,\n",
              "       15.3296585, 15.3296585, 15.3296585, 15.3296585, 15.3296585,\n",
              "       15.3296585, 15.3296585, 15.3296585, 15.3296585, 15.3296585,\n",
              "       15.3296585, 15.3296585, 15.3296585, 15.3296585, 15.3296585,\n",
              "       15.3296585, 15.3296585, 15.3296585, 15.3296585, 15.3296585,\n",
              "       15.3296585, 15.3296585, 15.3296585, 15.3296585, 15.3296585,\n",
              "       15.3296585, 15.3296585, 15.3296585, 15.3296585, 15.3296585,\n",
              "       15.3296585, 15.3296585, 15.3296585, 15.3296585, 15.3296585,\n",
              "       15.3296585, 15.3296585, 15.3296585, 15.3296585, 15.3296585,\n",
              "       15.3296585, 15.3296585, 15.3296585, 15.3296585, 15.3296585,\n",
              "       15.3296585, 15.3296585, 15.3296585], dtype=float32)"
            ]
          },
          "metadata": {
            "tags": []
          },
          "execution_count": 49
        }
      ]
    },
    {
      "cell_type": "code",
      "metadata": {
        "id": "8ZrroAXMQGvF",
        "colab_type": "code",
        "colab": {}
      },
      "source": [
        "dim_x_train_1 = x_train_1_ohe.shape\n",
        "def root_mean_squared_error(y_true, y_pred):\n",
        "        return K.sqrt(K.mean(K.square(y_pred - y_true)))\n",
        "model_list = []\n",
        "for i in range(0, 10):\n",
        "  for j in range(0, 5):\n",
        "    model_tmp = Sequential()\n",
        "    model_tmp.__init__\n",
        "    model_tmp.add(Dense(1, input_dim= dim_x_train_1[1], activation='relu'))\n",
        "    model_tmp.add(Dense((i*6 + 10), activation='relu'))\n",
        "    model_tmp.add(Dense((j*3 + 10), activation='relu'))\n",
        "    model_tmp.add(Dense(1))\n",
        "    # 3. 모델 학습과정 설정하기\n",
        "    model_tmp.compile(optimizer = \"rmsprop\", loss = root_mean_squared_error, \n",
        "                metrics =[\"mse\"])\n",
        "    model_list.append(model_tmp)"
      ],
      "execution_count": 37,
      "outputs": []
    },
    {
      "cell_type": "code",
      "metadata": {
        "id": "JnSKvHuIkeyt",
        "colab_type": "code",
        "colab": {
          "base_uri": "https://localhost:8080/",
          "height": 35
        },
        "outputId": "3312e62b-f920-4e60-8d2b-ba0c22e78144"
      },
      "source": [
        "x = model_list[1]"
      ],
      "execution_count": 80,
      "outputs": [
        {
          "output_type": "execute_result",
          "data": {
            "text/plain": [
              "0"
            ]
          },
          "metadata": {
            "tags": []
          },
          "execution_count": 80
        }
      ]
    },
    {
      "cell_type": "markdown",
      "metadata": {
        "id": "JYUSA5_kjl1L",
        "colab_type": "text"
      },
      "source": [
        "### 배치 사이즈 그리드 서치: 큰 성능 변화 "
      ]
    },
    {
      "cell_type": "code",
      "metadata": {
        "id": "EzndV5oRRhUf",
        "colab_type": "code",
        "colab": {
          "base_uri": "https://localhost:8080/",
          "height": 1000
        },
        "outputId": "752c8013-2146-49c1-97dc-a136878f074e"
      },
      "source": [
        "for i in range(0, 20):\n",
        "  for j in [16, 32, 48, 80]:\n",
        "    print(f\"++++++++++++++++++++++batchsize: {j}, node_n: {(i*3) + 10} 모델 시작++++++++++++++++++++++\")\n",
        "    weighted_result = modeling(data_set_list, model_list[i], batchsize=j)\n",
        "    print(f\"모델 종료//// 모델 성능:{np.mean(weighted_result)} \")\n",
        "    print(f\"++++++++++++++++++++++batchsize: {j}, node_n: {i} 모델 끝++++++++++++++++++++++\")\n",
        "    print(\"   \") \n",
        "    print(\"###############################################################################################################\")"
      ],
      "execution_count": 66,
      "outputs": [
        {
          "output_type": "stream",
          "text": [
            "++++++++++++++++++++++batchsize: 16, node_n: 10 모델 시작++++++++++++++++++++++\n",
            "Epoch 00102: early stopping\n",
            "0 번째 validiaion 결과는 다음과 같습니다. ::: 가중평균:  0.08784632340325979 RMSE:  7.97460758662167\n",
            "Epoch 00297: early stopping\n",
            "1 번째 validiaion 결과는 다음과 같습니다. ::: 가중평균:  0.11945223256302497 RMSE:  11.702414775076491\n",
            "Epoch 00103: early stopping\n",
            "2 번째 validiaion 결과는 다음과 같습니다. ::: 가중평균:  0.11458283694160551 RMSE:  11.60378552472376\n",
            "   \n",
            "모델 종료//// 모델 성능:0.10729379763596343 \n",
            "++++++++++++++++++++++batchsize: 16, node_n: 0 모델 시작++++++++++++++++++++++\n",
            "   \n",
            "++++++++++++++++++++++batchsize: 32, node_n: 10 모델 시작++++++++++++++++++++++\n",
            "Epoch 00101: early stopping\n",
            "0 번째 validiaion 결과는 다음과 같습니다. ::: 가중평균:  0.09329432898579464 RMSE:  7.7593887947652105\n",
            "Epoch 00158: early stopping\n",
            "1 번째 validiaion 결과는 다음과 같습니다. ::: 가중평균:  0.10884127542712842 RMSE:  11.184956358401381\n",
            "Epoch 00219: early stopping\n",
            "2 번째 validiaion 결과는 다음과 같습니다. ::: 가중평균:  0.133296017960621 RMSE:  13.141055819133022\n",
            "   \n",
            "모델 종료//// 모델 성능:0.11181054079118136 \n",
            "++++++++++++++++++++++batchsize: 32, node_n: 0 모델 시작++++++++++++++++++++++\n",
            "   \n",
            "++++++++++++++++++++++batchsize: 48, node_n: 10 모델 시작++++++++++++++++++++++\n",
            "Epoch 00101: early stopping\n",
            "0 번째 validiaion 결과는 다음과 같습니다. ::: 가중평균:  0.08950952963000189 RMSE:  7.670043045902246\n",
            "Epoch 00210: early stopping\n",
            "1 번째 validiaion 결과는 다음과 같습니다. ::: 가중평균:  0.13292827295789308 RMSE:  12.506843274227748\n",
            "Epoch 00175: early stopping\n",
            "2 번째 validiaion 결과는 다음과 같습니다. ::: 가중평균:  0.13531286277442955 RMSE:  13.264834339092337\n",
            "   \n",
            "모델 종료//// 모델 성능:0.1192502217874415 \n",
            "++++++++++++++++++++++batchsize: 48, node_n: 0 모델 시작++++++++++++++++++++++\n",
            "   \n",
            "++++++++++++++++++++++batchsize: 80, node_n: 10 모델 시작++++++++++++++++++++++\n",
            "Epoch 00101: early stopping\n",
            "0 번째 validiaion 결과는 다음과 같습니다. ::: 가중평균:  0.09157408479937905 RMSE:  7.667579732531203\n",
            "Epoch 00201: early stopping\n",
            "1 번째 validiaion 결과는 다음과 같습니다. ::: 가중평균:  0.1310880937587173 RMSE:  12.407792370355573\n",
            "Epoch 00162: early stopping\n",
            "2 번째 validiaion 결과는 다음과 같습니다. ::: 가중평균:  0.1431243128292901 RMSE:  13.940445474972531\n",
            "   \n",
            "모델 종료//// 모델 성능:0.12192883046246215 \n",
            "++++++++++++++++++++++batchsize: 80, node_n: 0 모델 시작++++++++++++++++++++++\n",
            "   \n",
            "++++++++++++++++++++++batchsize: 16, node_n: 13 모델 시작++++++++++++++++++++++\n",
            "Epoch 00101: early stopping\n",
            "0 번째 validiaion 결과는 다음과 같습니다. ::: 가중평균:  0.08484935612733595 RMSE:  8.38802546895129\n",
            "1 번째 validiaion 결과는 다음과 같습니다. ::: 가중평균:  0.10263823920970347 RMSE:  11.992054585657591\n",
            "Epoch 00101: early stopping\n",
            "2 번째 validiaion 결과는 다음과 같습니다. ::: 가중평균:  0.0766802193615754 RMSE:  9.240955664193562\n",
            "   \n",
            "모델 종료//// 모델 성능:0.08805593823287161 \n",
            "++++++++++++++++++++++batchsize: 16, node_n: 1 모델 시작++++++++++++++++++++++\n",
            "   \n",
            "++++++++++++++++++++++batchsize: 32, node_n: 13 모델 시작++++++++++++++++++++++\n",
            "Epoch 00103: early stopping\n",
            "0 번째 validiaion 결과는 다음과 같습니다. ::: 가중평균:  0.08299303581737127 RMSE:  9.241270026708431\n",
            "Epoch 00166: early stopping\n",
            "1 번째 validiaion 결과는 다음과 같습니다. ::: 가중평균:  0.09953825668360369 RMSE:  12.54825011897558\n",
            "Epoch 00128: early stopping\n",
            "2 번째 validiaion 결과는 다음과 같습니다. ::: 가중평균:  0.07995133595395403 RMSE:  8.976039076614812\n",
            "   \n",
            "모델 종료//// 모델 성능:0.08749420948497633 \n",
            "++++++++++++++++++++++batchsize: 32, node_n: 1 모델 시작++++++++++++++++++++++\n",
            "   \n",
            "++++++++++++++++++++++batchsize: 48, node_n: 13 모델 시작++++++++++++++++++++++\n",
            "Epoch 00102: early stopping\n",
            "0 번째 validiaion 결과는 다음과 같습니다. ::: 가중평균:  0.08506830330452084 RMSE:  8.672865513382803\n"
          ],
          "name": "stdout"
        },
        {
          "output_type": "error",
          "ename": "KeyboardInterrupt",
          "evalue": "ignored",
          "traceback": [
            "\u001b[0;31m---------------------------------------------------------------------------\u001b[0m",
            "\u001b[0;31mKeyboardInterrupt\u001b[0m                         Traceback (most recent call last)",
            "\u001b[0;32m<ipython-input-66-866cf8700ed9>\u001b[0m in \u001b[0;36m<module>\u001b[0;34m()\u001b[0m\n\u001b[1;32m      2\u001b[0m   \u001b[0;32mfor\u001b[0m \u001b[0mj\u001b[0m \u001b[0;32min\u001b[0m \u001b[0;34m[\u001b[0m\u001b[0;36m16\u001b[0m\u001b[0;34m,\u001b[0m \u001b[0;36m32\u001b[0m\u001b[0;34m,\u001b[0m \u001b[0;36m48\u001b[0m\u001b[0;34m,\u001b[0m \u001b[0;36m80\u001b[0m\u001b[0;34m]\u001b[0m\u001b[0;34m:\u001b[0m\u001b[0;34m\u001b[0m\u001b[0;34m\u001b[0m\u001b[0m\n\u001b[1;32m      3\u001b[0m     \u001b[0mprint\u001b[0m\u001b[0;34m(\u001b[0m\u001b[0;34mf\"++++++++++++++++++++++batchsize: {j}, node_n: {(i*3) + 10} 모델 시작++++++++++++++++++++++\"\u001b[0m\u001b[0;34m)\u001b[0m\u001b[0;34m\u001b[0m\u001b[0;34m\u001b[0m\u001b[0m\n\u001b[0;32m----> 4\u001b[0;31m     \u001b[0mweighted_result\u001b[0m \u001b[0;34m=\u001b[0m \u001b[0mmodeling\u001b[0m\u001b[0;34m(\u001b[0m\u001b[0mdata_set_list\u001b[0m\u001b[0;34m,\u001b[0m \u001b[0mmodel_list\u001b[0m\u001b[0;34m[\u001b[0m\u001b[0mi\u001b[0m\u001b[0;34m]\u001b[0m\u001b[0;34m,\u001b[0m \u001b[0mbatchsize\u001b[0m\u001b[0;34m=\u001b[0m\u001b[0mj\u001b[0m\u001b[0;34m)\u001b[0m\u001b[0;34m\u001b[0m\u001b[0;34m\u001b[0m\u001b[0m\n\u001b[0m\u001b[1;32m      5\u001b[0m     \u001b[0mprint\u001b[0m\u001b[0;34m(\u001b[0m\u001b[0;34mf\"모델 종료//// 모델 성능:{np.mean(weighted_result)} \"\u001b[0m\u001b[0;34m)\u001b[0m\u001b[0;34m\u001b[0m\u001b[0;34m\u001b[0m\u001b[0m\n\u001b[1;32m      6\u001b[0m     \u001b[0mprint\u001b[0m\u001b[0;34m(\u001b[0m\u001b[0;34mf\"++++++++++++++++++++++batchsize: {j}, node_n: {i} 모델 시작++++++++++++++++++++++\"\u001b[0m\u001b[0;34m)\u001b[0m\u001b[0;34m\u001b[0m\u001b[0;34m\u001b[0m\u001b[0m\n",
            "\u001b[0;32m<ipython-input-59-7ed871bdab0d>\u001b[0m in \u001b[0;36mmodeling\u001b[0;34m(data_set, model, batchsize, epoch_n)\u001b[0m\n\u001b[1;32m     10\u001b[0m     \u001b[0mY_val\u001b[0m \u001b[0;34m=\u001b[0m \u001b[0mdata_set\u001b[0m\u001b[0;34m[\u001b[0m\u001b[0mi\u001b[0m\u001b[0;34m]\u001b[0m\u001b[0;34m[\u001b[0m\u001b[0;36m3\u001b[0m\u001b[0;34m]\u001b[0m\u001b[0;34m\u001b[0m\u001b[0;34m\u001b[0m\u001b[0m\n\u001b[1;32m     11\u001b[0m \u001b[0;34m\u001b[0m\u001b[0m\n\u001b[0;32m---> 12\u001b[0;31m     \u001b[0mmodel\u001b[0m\u001b[0;34m.\u001b[0m\u001b[0mfit\u001b[0m\u001b[0;34m(\u001b[0m\u001b[0mX_train\u001b[0m\u001b[0;34m,\u001b[0m \u001b[0mY_train\u001b[0m\u001b[0;34m,\u001b[0m \u001b[0mepochs\u001b[0m \u001b[0;34m=\u001b[0m \u001b[0mepoch_n\u001b[0m\u001b[0;34m,\u001b[0m \u001b[0mbatch_size\u001b[0m \u001b[0;34m=\u001b[0m \u001b[0mbatchsize\u001b[0m\u001b[0;34m,\u001b[0m \u001b[0mvalidation_split\u001b[0m \u001b[0;34m=\u001b[0m \u001b[0;36m0.3\u001b[0m\u001b[0;34m,\u001b[0m \u001b[0mverbose\u001b[0m \u001b[0;34m=\u001b[0m \u001b[0;36m0\u001b[0m\u001b[0;34m,\u001b[0m \u001b[0mcallbacks\u001b[0m \u001b[0;34m=\u001b[0m \u001b[0;34m[\u001b[0m\u001b[0mmc\u001b[0m\u001b[0;34m,\u001b[0m \u001b[0mearly_stopping\u001b[0m\u001b[0;34m]\u001b[0m \u001b[0;34m)\u001b[0m\u001b[0;34m\u001b[0m\u001b[0;34m\u001b[0m\u001b[0m\n\u001b[0m\u001b[1;32m     13\u001b[0m \u001b[0;34m\u001b[0m\u001b[0m\n\u001b[1;32m     14\u001b[0m     \u001b[0my_hat\u001b[0m \u001b[0;34m=\u001b[0m \u001b[0mmodel\u001b[0m\u001b[0;34m.\u001b[0m\u001b[0mpredict\u001b[0m\u001b[0;34m(\u001b[0m\u001b[0mX_val\u001b[0m\u001b[0;34m)\u001b[0m\u001b[0;34m\u001b[0m\u001b[0;34m\u001b[0m\u001b[0m\n",
            "\u001b[0;32m/usr/local/lib/python3.6/dist-packages/keras/engine/training.py\u001b[0m in \u001b[0;36mfit\u001b[0;34m(self, x, y, batch_size, epochs, verbose, callbacks, validation_split, validation_data, shuffle, class_weight, sample_weight, initial_epoch, steps_per_epoch, validation_steps, validation_freq, max_queue_size, workers, use_multiprocessing, **kwargs)\u001b[0m\n\u001b[1;32m   1237\u001b[0m                                         \u001b[0msteps_per_epoch\u001b[0m\u001b[0;34m=\u001b[0m\u001b[0msteps_per_epoch\u001b[0m\u001b[0;34m,\u001b[0m\u001b[0;34m\u001b[0m\u001b[0;34m\u001b[0m\u001b[0m\n\u001b[1;32m   1238\u001b[0m                                         \u001b[0mvalidation_steps\u001b[0m\u001b[0;34m=\u001b[0m\u001b[0mvalidation_steps\u001b[0m\u001b[0;34m,\u001b[0m\u001b[0;34m\u001b[0m\u001b[0;34m\u001b[0m\u001b[0m\n\u001b[0;32m-> 1239\u001b[0;31m                                         validation_freq=validation_freq)\n\u001b[0m\u001b[1;32m   1240\u001b[0m \u001b[0;34m\u001b[0m\u001b[0m\n\u001b[1;32m   1241\u001b[0m     def evaluate(self,\n",
            "\u001b[0;32m/usr/local/lib/python3.6/dist-packages/keras/engine/training_arrays.py\u001b[0m in \u001b[0;36mfit_loop\u001b[0;34m(model, fit_function, fit_inputs, out_labels, batch_size, epochs, verbose, callbacks, val_function, val_inputs, shuffle, initial_epoch, steps_per_epoch, validation_steps, validation_freq)\u001b[0m\n\u001b[1;32m    194\u001b[0m                     \u001b[0mins_batch\u001b[0m\u001b[0;34m[\u001b[0m\u001b[0mi\u001b[0m\u001b[0;34m]\u001b[0m \u001b[0;34m=\u001b[0m \u001b[0mins_batch\u001b[0m\u001b[0;34m[\u001b[0m\u001b[0mi\u001b[0m\u001b[0;34m]\u001b[0m\u001b[0;34m.\u001b[0m\u001b[0mtoarray\u001b[0m\u001b[0;34m(\u001b[0m\u001b[0;34m)\u001b[0m\u001b[0;34m\u001b[0m\u001b[0;34m\u001b[0m\u001b[0m\n\u001b[1;32m    195\u001b[0m \u001b[0;34m\u001b[0m\u001b[0m\n\u001b[0;32m--> 196\u001b[0;31m                 \u001b[0mouts\u001b[0m \u001b[0;34m=\u001b[0m \u001b[0mfit_function\u001b[0m\u001b[0;34m(\u001b[0m\u001b[0mins_batch\u001b[0m\u001b[0;34m)\u001b[0m\u001b[0;34m\u001b[0m\u001b[0;34m\u001b[0m\u001b[0m\n\u001b[0m\u001b[1;32m    197\u001b[0m                 \u001b[0mouts\u001b[0m \u001b[0;34m=\u001b[0m \u001b[0mto_list\u001b[0m\u001b[0;34m(\u001b[0m\u001b[0mouts\u001b[0m\u001b[0;34m)\u001b[0m\u001b[0;34m\u001b[0m\u001b[0;34m\u001b[0m\u001b[0m\n\u001b[1;32m    198\u001b[0m                 \u001b[0;32mfor\u001b[0m \u001b[0ml\u001b[0m\u001b[0;34m,\u001b[0m \u001b[0mo\u001b[0m \u001b[0;32min\u001b[0m \u001b[0mzip\u001b[0m\u001b[0;34m(\u001b[0m\u001b[0mout_labels\u001b[0m\u001b[0;34m,\u001b[0m \u001b[0mouts\u001b[0m\u001b[0;34m)\u001b[0m\u001b[0;34m:\u001b[0m\u001b[0;34m\u001b[0m\u001b[0;34m\u001b[0m\u001b[0m\n",
            "\u001b[0;32m/usr/local/lib/python3.6/dist-packages/tensorflow/python/keras/backend.py\u001b[0m in \u001b[0;36m__call__\u001b[0;34m(self, inputs)\u001b[0m\n\u001b[1;32m   3790\u001b[0m         \u001b[0mvalue\u001b[0m \u001b[0;34m=\u001b[0m \u001b[0mmath_ops\u001b[0m\u001b[0;34m.\u001b[0m\u001b[0mcast\u001b[0m\u001b[0;34m(\u001b[0m\u001b[0mvalue\u001b[0m\u001b[0;34m,\u001b[0m \u001b[0mtensor\u001b[0m\u001b[0;34m.\u001b[0m\u001b[0mdtype\u001b[0m\u001b[0;34m)\u001b[0m\u001b[0;34m\u001b[0m\u001b[0;34m\u001b[0m\u001b[0m\n\u001b[1;32m   3791\u001b[0m       \u001b[0mconverted_inputs\u001b[0m\u001b[0;34m.\u001b[0m\u001b[0mappend\u001b[0m\u001b[0;34m(\u001b[0m\u001b[0mvalue\u001b[0m\u001b[0;34m)\u001b[0m\u001b[0;34m\u001b[0m\u001b[0;34m\u001b[0m\u001b[0m\n\u001b[0;32m-> 3792\u001b[0;31m     \u001b[0moutputs\u001b[0m \u001b[0;34m=\u001b[0m \u001b[0mself\u001b[0m\u001b[0;34m.\u001b[0m\u001b[0m_graph_fn\u001b[0m\u001b[0;34m(\u001b[0m\u001b[0;34m*\u001b[0m\u001b[0mconverted_inputs\u001b[0m\u001b[0;34m)\u001b[0m\u001b[0;34m\u001b[0m\u001b[0;34m\u001b[0m\u001b[0m\n\u001b[0m\u001b[1;32m   3793\u001b[0m \u001b[0;34m\u001b[0m\u001b[0m\n\u001b[1;32m   3794\u001b[0m     \u001b[0;31m# EagerTensor.numpy() will often make a copy to ensure memory safety.\u001b[0m\u001b[0;34m\u001b[0m\u001b[0;34m\u001b[0m\u001b[0;34m\u001b[0m\u001b[0m\n",
            "\u001b[0;32m/usr/local/lib/python3.6/dist-packages/tensorflow/python/eager/function.py\u001b[0m in \u001b[0;36m__call__\u001b[0;34m(self, *args, **kwargs)\u001b[0m\n\u001b[1;32m   1603\u001b[0m       \u001b[0mTypeError\u001b[0m\u001b[0;34m:\u001b[0m \u001b[0mFor\u001b[0m \u001b[0minvalid\u001b[0m \u001b[0mpositional\u001b[0m\u001b[0;34m/\u001b[0m\u001b[0mkeyword\u001b[0m \u001b[0margument\u001b[0m \u001b[0mcombinations\u001b[0m\u001b[0;34m.\u001b[0m\u001b[0;34m\u001b[0m\u001b[0;34m\u001b[0m\u001b[0m\n\u001b[1;32m   1604\u001b[0m     \"\"\"\n\u001b[0;32m-> 1605\u001b[0;31m     \u001b[0;32mreturn\u001b[0m \u001b[0mself\u001b[0m\u001b[0;34m.\u001b[0m\u001b[0m_call_impl\u001b[0m\u001b[0;34m(\u001b[0m\u001b[0margs\u001b[0m\u001b[0;34m,\u001b[0m \u001b[0mkwargs\u001b[0m\u001b[0;34m)\u001b[0m\u001b[0;34m\u001b[0m\u001b[0;34m\u001b[0m\u001b[0m\n\u001b[0m\u001b[1;32m   1606\u001b[0m \u001b[0;34m\u001b[0m\u001b[0m\n\u001b[1;32m   1607\u001b[0m   \u001b[0;32mdef\u001b[0m \u001b[0m_call_impl\u001b[0m\u001b[0;34m(\u001b[0m\u001b[0mself\u001b[0m\u001b[0;34m,\u001b[0m \u001b[0margs\u001b[0m\u001b[0;34m,\u001b[0m \u001b[0mkwargs\u001b[0m\u001b[0;34m,\u001b[0m \u001b[0mcancellation_manager\u001b[0m\u001b[0;34m=\u001b[0m\u001b[0;32mNone\u001b[0m\u001b[0;34m)\u001b[0m\u001b[0;34m:\u001b[0m\u001b[0;34m\u001b[0m\u001b[0;34m\u001b[0m\u001b[0m\n",
            "\u001b[0;32m/usr/local/lib/python3.6/dist-packages/tensorflow/python/eager/function.py\u001b[0m in \u001b[0;36m_call_impl\u001b[0;34m(self, args, kwargs, cancellation_manager)\u001b[0m\n\u001b[1;32m   1643\u001b[0m       raise TypeError(\"Keyword arguments {} unknown. Expected {}.\".format(\n\u001b[1;32m   1644\u001b[0m           list(kwargs.keys()), list(self._arg_keywords)))\n\u001b[0;32m-> 1645\u001b[0;31m     \u001b[0;32mreturn\u001b[0m \u001b[0mself\u001b[0m\u001b[0;34m.\u001b[0m\u001b[0m_call_flat\u001b[0m\u001b[0;34m(\u001b[0m\u001b[0margs\u001b[0m\u001b[0;34m,\u001b[0m \u001b[0mself\u001b[0m\u001b[0;34m.\u001b[0m\u001b[0mcaptured_inputs\u001b[0m\u001b[0;34m,\u001b[0m \u001b[0mcancellation_manager\u001b[0m\u001b[0;34m)\u001b[0m\u001b[0;34m\u001b[0m\u001b[0;34m\u001b[0m\u001b[0m\n\u001b[0m\u001b[1;32m   1646\u001b[0m \u001b[0;34m\u001b[0m\u001b[0m\n\u001b[1;32m   1647\u001b[0m   \u001b[0;32mdef\u001b[0m \u001b[0m_filtered_call\u001b[0m\u001b[0;34m(\u001b[0m\u001b[0mself\u001b[0m\u001b[0;34m,\u001b[0m \u001b[0margs\u001b[0m\u001b[0;34m,\u001b[0m \u001b[0mkwargs\u001b[0m\u001b[0;34m)\u001b[0m\u001b[0;34m:\u001b[0m\u001b[0;34m\u001b[0m\u001b[0;34m\u001b[0m\u001b[0m\n",
            "\u001b[0;32m/usr/local/lib/python3.6/dist-packages/tensorflow/python/eager/function.py\u001b[0m in \u001b[0;36m_call_flat\u001b[0;34m(self, args, captured_inputs, cancellation_manager)\u001b[0m\n\u001b[1;32m   1744\u001b[0m       \u001b[0;31m# No tape is watching; skip to running the function.\u001b[0m\u001b[0;34m\u001b[0m\u001b[0;34m\u001b[0m\u001b[0;34m\u001b[0m\u001b[0m\n\u001b[1;32m   1745\u001b[0m       return self._build_call_outputs(self._inference_function.call(\n\u001b[0;32m-> 1746\u001b[0;31m           ctx, args, cancellation_manager=cancellation_manager))\n\u001b[0m\u001b[1;32m   1747\u001b[0m     forward_backward = self._select_forward_and_backward_functions(\n\u001b[1;32m   1748\u001b[0m         \u001b[0margs\u001b[0m\u001b[0;34m,\u001b[0m\u001b[0;34m\u001b[0m\u001b[0;34m\u001b[0m\u001b[0m\n",
            "\u001b[0;32m/usr/local/lib/python3.6/dist-packages/tensorflow/python/eager/function.py\u001b[0m in \u001b[0;36mcall\u001b[0;34m(self, ctx, args, cancellation_manager)\u001b[0m\n\u001b[1;32m    596\u001b[0m               \u001b[0minputs\u001b[0m\u001b[0;34m=\u001b[0m\u001b[0margs\u001b[0m\u001b[0;34m,\u001b[0m\u001b[0;34m\u001b[0m\u001b[0;34m\u001b[0m\u001b[0m\n\u001b[1;32m    597\u001b[0m               \u001b[0mattrs\u001b[0m\u001b[0;34m=\u001b[0m\u001b[0mattrs\u001b[0m\u001b[0;34m,\u001b[0m\u001b[0;34m\u001b[0m\u001b[0;34m\u001b[0m\u001b[0m\n\u001b[0;32m--> 598\u001b[0;31m               ctx=ctx)\n\u001b[0m\u001b[1;32m    599\u001b[0m         \u001b[0;32melse\u001b[0m\u001b[0;34m:\u001b[0m\u001b[0;34m\u001b[0m\u001b[0;34m\u001b[0m\u001b[0m\n\u001b[1;32m    600\u001b[0m           outputs = execute.execute_with_cancellation(\n",
            "\u001b[0;32m/usr/local/lib/python3.6/dist-packages/tensorflow/python/eager/execute.py\u001b[0m in \u001b[0;36mquick_execute\u001b[0;34m(op_name, num_outputs, inputs, attrs, ctx, name)\u001b[0m\n\u001b[1;32m     58\u001b[0m     \u001b[0mctx\u001b[0m\u001b[0;34m.\u001b[0m\u001b[0mensure_initialized\u001b[0m\u001b[0;34m(\u001b[0m\u001b[0;34m)\u001b[0m\u001b[0;34m\u001b[0m\u001b[0;34m\u001b[0m\u001b[0m\n\u001b[1;32m     59\u001b[0m     tensors = pywrap_tfe.TFE_Py_Execute(ctx._handle, device_name, op_name,\n\u001b[0;32m---> 60\u001b[0;31m                                         inputs, attrs, num_outputs)\n\u001b[0m\u001b[1;32m     61\u001b[0m   \u001b[0;32mexcept\u001b[0m \u001b[0mcore\u001b[0m\u001b[0;34m.\u001b[0m\u001b[0m_NotOkStatusException\u001b[0m \u001b[0;32mas\u001b[0m \u001b[0me\u001b[0m\u001b[0;34m:\u001b[0m\u001b[0;34m\u001b[0m\u001b[0;34m\u001b[0m\u001b[0m\n\u001b[1;32m     62\u001b[0m     \u001b[0;32mif\u001b[0m \u001b[0mname\u001b[0m \u001b[0;32mis\u001b[0m \u001b[0;32mnot\u001b[0m \u001b[0;32mNone\u001b[0m\u001b[0;34m:\u001b[0m\u001b[0;34m\u001b[0m\u001b[0;34m\u001b[0m\u001b[0m\n",
            "\u001b[0;31mKeyboardInterrupt\u001b[0m: "
          ]
        }
      ]
    },
    {
      "cell_type": "markdown",
      "metadata": {
        "id": "DYsdX4S2jrbO",
        "colab_type": "text"
      },
      "source": [
        "### 레이어 2개짜리 모델 그리드 서치 "
      ]
    },
    {
      "cell_type": "code",
      "metadata": {
        "id": "e1VhLzZHjqBu",
        "colab_type": "code",
        "colab": {
          "base_uri": "https://localhost:8080/",
          "height": 1000
        },
        "outputId": "77f64b9b-677e-4be9-c564-fee90ebc29f0"
      },
      "source": [
        "early_stopping = EarlyStopping(monitor='val_loss', mode='min', verbose=1, patience=100)\n",
        "mc = ModelCheckpoint('best_model.h5', monitor='val_loss', mode='min', save_best_only=True)\n",
        "for i in range(len(model_list)):\n",
        "  print(f\"++++++++++++++++++++++{i}번 모델 시작++++++++++++++++++++++\")\n",
        "  weighted_result = modeling(data_set_list, model_list[i], batchsize=128)\n",
        "  print(f\"모델 종료//// 모델 성능:{np.mean(weighted_result)} \")\n",
        "  print(f\"+++++++++++++++++++++++{i}번 모델 끝++++++++++++++++++++++\")\n",
        "  print(\"   \") \n",
        "  print(\"###############################################################################################################\")"
      ],
      "execution_count": 41,
      "outputs": [
        {
          "output_type": "stream",
          "text": [
            "++++++++++++++++++++++0번 모델 시작++++++++++++++++++++++\n",
            "Epoch 00228: early stopping\n",
            "0 번째 validiaion 결과는 다음과 같습니다. ::: 가중평균:  0.09747379787017288 RMSE:  7.919084191918822\n",
            "Epoch 00111: early stopping\n",
            "1 번째 validiaion 결과는 다음과 같습니다. ::: 가중평균:  0.11462032179322579 RMSE:  11.375894992628565\n",
            "Epoch 00108: early stopping\n",
            "2 번째 validiaion 결과는 다음과 같습니다. ::: 가중평균:  0.08999483327724044 RMSE:  9.3970090487961\n",
            "   \n",
            "모델 종료//// 모델 성능:0.1006963176468797 \n",
            "+++++++++++++++++++++++0번 모델 끝++++++++++++++++++++++\n",
            "   \n",
            "###############################################################################################################\n",
            "++++++++++++++++++++++1번 모델 시작++++++++++++++++++++++\n",
            "Epoch 00232: early stopping\n",
            "0 번째 validiaion 결과는 다음과 같습니다. ::: 가중평균:  0.08403395456376993 RMSE:  8.705998121791529\n",
            "Epoch 00140: early stopping\n",
            "1 번째 validiaion 결과는 다음과 같습니다. ::: 가중평균:  0.12722148550374016 RMSE:  12.124443973072449\n",
            "Epoch 00103: early stopping\n",
            "2 번째 validiaion 결과는 다음과 같습니다. ::: 가중평균:  0.10650379136911474 RMSE:  10.831412889115267\n",
            "   \n",
            "모델 종료//// 모델 성능:0.10591974381220827 \n",
            "+++++++++++++++++++++++1번 모델 끝++++++++++++++++++++++\n",
            "   \n",
            "###############################################################################################################\n",
            "++++++++++++++++++++++2번 모델 시작++++++++++++++++++++++\n",
            "Epoch 00246: early stopping\n",
            "0 번째 validiaion 결과는 다음과 같습니다. ::: 가중평균:  0.08834158586406528 RMSE:  8.232105221443003\n",
            "Epoch 00110: early stopping\n",
            "1 번째 validiaion 결과는 다음과 같습니다. ::: 가중평균:  0.09042470589930615 RMSE:  10.579039667866356\n",
            "Epoch 00124: early stopping\n",
            "2 번째 validiaion 결과는 다음과 같습니다. ::: 가중평균:  0.1041924523616616 RMSE:  10.68464099233056\n",
            "   \n",
            "모델 종료//// 모델 성능:0.09431958137501101 \n",
            "+++++++++++++++++++++++2번 모델 끝++++++++++++++++++++++\n",
            "   \n",
            "###############################################################################################################\n",
            "++++++++++++++++++++++3번 모델 시작++++++++++++++++++++++\n",
            "Epoch 00210: early stopping\n",
            "0 번째 validiaion 결과는 다음과 같습니다. ::: 가중평균:  0.08172710863438923 RMSE:  8.528937659297739\n",
            "Epoch 00112: early stopping\n",
            "1 번째 validiaion 결과는 다음과 같습니다. ::: 가중평균:  0.14157588197627827 RMSE:  13.016976511642767\n",
            "Epoch 00109: early stopping\n",
            "2 번째 validiaion 결과는 다음과 같습니다. ::: 가중평균:  0.12661097179356146 RMSE:  12.505745992484872\n",
            "   \n",
            "모델 종료//// 모델 성능:0.11663798746807631 \n",
            "+++++++++++++++++++++++3번 모델 끝++++++++++++++++++++++\n",
            "   \n",
            "###############################################################################################################\n",
            "++++++++++++++++++++++4번 모델 시작++++++++++++++++++++++\n",
            "Epoch 00243: early stopping\n",
            "0 번째 validiaion 결과는 다음과 같습니다. ::: 가중평균:  0.10276910615950542 RMSE:  8.089681264562588\n",
            "Epoch 00144: early stopping\n",
            "1 번째 validiaion 결과는 다음과 같습니다. ::: 가중평균:  0.12127369952099416 RMSE:  11.731843095822438\n",
            "Epoch 00122: early stopping\n",
            "2 번째 validiaion 결과는 다음과 같습니다. ::: 가중평균:  0.08584962989959524 RMSE:  9.143460032359181\n",
            "   \n",
            "모델 종료//// 모델 성능:0.10329747852669828 \n",
            "+++++++++++++++++++++++4번 모델 끝++++++++++++++++++++++\n",
            "   \n",
            "###############################################################################################################\n",
            "++++++++++++++++++++++5번 모델 시작++++++++++++++++++++++\n",
            "Epoch 00146: early stopping\n",
            "0 번째 validiaion 결과는 다음과 같습니다. ::: 가중평균:  0.08103117550273761 RMSE:  8.312964067718372\n",
            "Epoch 00132: early stopping\n",
            "1 번째 validiaion 결과는 다음과 같습니다. ::: 가중평균:  0.11622743169137376 RMSE:  11.44256844211563\n",
            "Epoch 00138: early stopping\n",
            "2 번째 validiaion 결과는 다음과 같습니다. ::: 가중평균:  0.10182332323219642 RMSE:  10.419160577863625\n",
            "   \n",
            "모델 종료//// 모델 성능:0.09969397680876928 \n",
            "+++++++++++++++++++++++5번 모델 끝++++++++++++++++++++++\n",
            "   \n",
            "###############################################################################################################\n",
            "++++++++++++++++++++++6번 모델 시작++++++++++++++++++++++\n",
            "Epoch 00175: early stopping\n",
            "0 번째 validiaion 결과는 다음과 같습니다. ::: 가중평균:  0.08584293036896976 RMSE:  7.980252535743974\n",
            "Epoch 00123: early stopping\n",
            "1 번째 validiaion 결과는 다음과 같습니다. ::: 가중평균:  0.11004481002226359 RMSE:  11.192494391835279\n",
            "Epoch 00109: early stopping\n",
            "2 번째 validiaion 결과는 다음과 같습니다. ::: 가중평균:  0.10441996752189642 RMSE:  10.530604658646006\n",
            "   \n",
            "모델 종료//// 모델 성능:0.1001025693043766 \n",
            "+++++++++++++++++++++++6번 모델 끝++++++++++++++++++++++\n",
            "   \n",
            "###############################################################################################################\n",
            "++++++++++++++++++++++7번 모델 시작++++++++++++++++++++++\n",
            "Epoch 00181: early stopping\n",
            "0 번째 validiaion 결과는 다음과 같습니다. ::: 가중평균:  0.09924517179366761 RMSE:  8.156937485391659\n",
            "Epoch 00130: early stopping\n",
            "1 번째 validiaion 결과는 다음과 같습니다. ::: 가중평균:  0.1086807124966994 RMSE:  11.059859527256958\n",
            "Epoch 00122: early stopping\n",
            "2 번째 validiaion 결과는 다음과 같습니다. ::: 가중평균:  0.07487066029599901 RMSE:  8.399499750192293\n",
            "   \n",
            "모델 종료//// 모델 성능:0.09426551486212202 \n",
            "+++++++++++++++++++++++7번 모델 끝++++++++++++++++++++++\n",
            "   \n",
            "###############################################################################################################\n",
            "++++++++++++++++++++++8번 모델 시작++++++++++++++++++++++\n",
            "0 번째 validiaion 결과는 다음과 같습니다. ::: 가중평균:  0.1002212386477984 RMSE:  7.9839159500895835\n",
            "Epoch 00120: early stopping\n",
            "1 번째 validiaion 결과는 다음과 같습니다. ::: 가중평균:  0.09034065559541715 RMSE:  10.576652962685852\n",
            "Epoch 00106: early stopping\n",
            "2 번째 validiaion 결과는 다음과 같습니다. ::: 가중평균:  0.13408486583390583 RMSE:  13.307139655860652\n",
            "   \n",
            "모델 종료//// 모델 성능:0.1082155866923738 \n",
            "+++++++++++++++++++++++8번 모델 끝++++++++++++++++++++++\n",
            "   \n",
            "###############################################################################################################\n",
            "++++++++++++++++++++++9번 모델 시작++++++++++++++++++++++\n",
            "Epoch 00182: early stopping\n",
            "0 번째 validiaion 결과는 다음과 같습니다. ::: 가중평균:  0.10457750294647569 RMSE:  8.182105409587368\n",
            "Epoch 00163: early stopping\n",
            "1 번째 validiaion 결과는 다음과 같습니다. ::: 가중평균:  0.10431722645795928 RMSE:  10.972161720279315\n",
            "Epoch 00105: early stopping\n",
            "2 번째 validiaion 결과는 다음과 같습니다. ::: 가중평균:  0.11983107561962335 RMSE:  11.830395161691145\n",
            "   \n",
            "모델 종료//// 모델 성능:0.10957526834135278 \n",
            "+++++++++++++++++++++++9번 모델 끝++++++++++++++++++++++\n",
            "   \n",
            "###############################################################################################################\n",
            "++++++++++++++++++++++10번 모델 시작++++++++++++++++++++++\n",
            "Epoch 00156: early stopping\n",
            "0 번째 validiaion 결과는 다음과 같습니다. ::: 가중평균:  0.08158154926877681 RMSE:  9.977242653491407\n",
            "Epoch 00116: early stopping\n",
            "1 번째 validiaion 결과는 다음과 같습니다. ::: 가중평균:  0.0950999310906071 RMSE:  10.598002980224683\n",
            "2 번째 validiaion 결과는 다음과 같습니다. ::: 가중평균:  0.11169975724908025 RMSE:  11.197261561898678\n",
            "   \n",
            "모델 종료//// 모델 성능:0.09612707920282139 \n",
            "+++++++++++++++++++++++10번 모델 끝++++++++++++++++++++++\n",
            "   \n",
            "###############################################################################################################\n",
            "++++++++++++++++++++++11번 모델 시작++++++++++++++++++++++\n",
            "Epoch 00245: early stopping\n",
            "0 번째 validiaion 결과는 다음과 같습니다. ::: 가중평균:  0.10675572179631025 RMSE:  8.377585657655573\n",
            "Epoch 00138: early stopping\n",
            "1 번째 validiaion 결과는 다음과 같습니다. ::: 가중평균:  0.12153771201894968 RMSE:  11.721972561928265\n",
            "Epoch 00105: early stopping\n",
            "2 번째 validiaion 결과는 다음과 같습니다. ::: 가중평균:  0.120431086442513 RMSE:  11.908944531798298\n",
            "   \n",
            "모델 종료//// 모델 성능:0.11624150675259098 \n",
            "+++++++++++++++++++++++11번 모델 끝++++++++++++++++++++++\n",
            "   \n",
            "###############################################################################################################\n",
            "++++++++++++++++++++++12번 모델 시작++++++++++++++++++++++\n",
            "Epoch 00166: early stopping\n",
            "0 번째 validiaion 결과는 다음과 같습니다. ::: 가중평균:  0.08993044910958979 RMSE:  8.102007465669852\n",
            "Epoch 00135: early stopping\n",
            "1 번째 validiaion 결과는 다음과 같습니다. ::: 가중평균:  0.13194117442242628 RMSE:  12.401949186888656\n",
            "Epoch 00103: early stopping\n",
            "2 번째 validiaion 결과는 다음과 같습니다. ::: 가중평균:  0.08508950591328722 RMSE:  9.155080253988581\n",
            "   \n",
            "모델 종료//// 모델 성능:0.10232037648176777 \n",
            "+++++++++++++++++++++++12번 모델 끝++++++++++++++++++++++\n",
            "   \n",
            "###############################################################################################################\n",
            "++++++++++++++++++++++13번 모델 시작++++++++++++++++++++++\n",
            "Epoch 00182: early stopping\n",
            "0 번째 validiaion 결과는 다음과 같습니다. ::: 가중평균:  0.08628666720160336 RMSE:  8.417388224623346\n",
            "Epoch 00151: early stopping\n",
            "1 번째 validiaion 결과는 다음과 같습니다. ::: 가중평균:  0.12230530894150303 RMSE:  11.814796449066533\n",
            "Epoch 00128: early stopping\n",
            "2 번째 validiaion 결과는 다음과 같습니다. ::: 가중평균:  0.11992769802532553 RMSE:  11.951448277084335\n",
            "   \n",
            "모델 종료//// 모델 성능:0.10950655805614397 \n",
            "+++++++++++++++++++++++13번 모델 끝++++++++++++++++++++++\n",
            "   \n",
            "###############################################################################################################\n",
            "++++++++++++++++++++++14번 모델 시작++++++++++++++++++++++\n",
            "Epoch 00209: early stopping\n",
            "0 번째 validiaion 결과는 다음과 같습니다. ::: 가중평균:  0.08815000583305313 RMSE:  7.813020763677653\n",
            "Epoch 00133: early stopping\n",
            "1 번째 validiaion 결과는 다음과 같습니다. ::: 가중평균:  0.1165576487802367 RMSE:  11.483181361134406\n",
            "Epoch 00102: early stopping\n",
            "2 번째 validiaion 결과는 다음과 같습니다. ::: 가중평균:  0.17154601729509308 RMSE:  16.406707463234884\n",
            "   \n",
            "모델 종료//// 모델 성능:0.12541789063612763 \n",
            "+++++++++++++++++++++++14번 모델 끝++++++++++++++++++++++\n",
            "   \n",
            "###############################################################################################################\n",
            "++++++++++++++++++++++15번 모델 시작++++++++++++++++++++++\n",
            "Epoch 00204: early stopping\n",
            "0 번째 validiaion 결과는 다음과 같습니다. ::: 가중평균:  0.09017331699615073 RMSE:  7.95982829403446\n",
            "Epoch 00112: early stopping\n",
            "1 번째 validiaion 결과는 다음과 같습니다. ::: 가중평균:  0.1314950933744378 RMSE:  12.357560900132727\n",
            "Epoch 00116: early stopping\n",
            "2 번째 validiaion 결과는 다음과 같습니다. ::: 가중평균:  0.0843055710398161 RMSE:  9.07285515193781\n",
            "   \n",
            "모델 종료//// 모델 성능:0.10199132713680155 \n",
            "+++++++++++++++++++++++15번 모델 끝++++++++++++++++++++++\n",
            "   \n",
            "###############################################################################################################\n",
            "++++++++++++++++++++++16번 모델 시작++++++++++++++++++++++\n",
            "Epoch 00282: early stopping\n",
            "0 번째 validiaion 결과는 다음과 같습니다. ::: 가중평균:  0.09635519122795579 RMSE:  8.094302793865328\n",
            "Epoch 00107: early stopping\n",
            "1 번째 validiaion 결과는 다음과 같습니다. ::: 가중평균:  0.11317593555551729 RMSE:  11.315267960403427\n",
            "Epoch 00104: early stopping\n",
            "2 번째 validiaion 결과는 다음과 같습니다. ::: 가중평균:  0.07171437807553642 RMSE:  8.360336577597705\n",
            "   \n",
            "모델 종료//// 모델 성능:0.09374850161966984 \n",
            "+++++++++++++++++++++++16번 모델 끝++++++++++++++++++++++\n",
            "   \n",
            "###############################################################################################################\n",
            "++++++++++++++++++++++17번 모델 시작++++++++++++++++++++++\n",
            "Epoch 00235: early stopping\n",
            "0 번째 validiaion 결과는 다음과 같습니다. ::: 가중평균:  0.09855120665659962 RMSE:  8.028019685114742\n",
            "Epoch 00123: early stopping\n",
            "1 번째 validiaion 결과는 다음과 같습니다. ::: 가중평균:  0.12749601082956885 RMSE:  12.108061558827803\n",
            "Epoch 00107: early stopping\n",
            "2 번째 validiaion 결과는 다음과 같습니다. ::: 가중평균:  0.09510985132699125 RMSE:  9.824535761282007\n",
            "   \n",
            "모델 종료//// 모델 성능:0.10705235627105324 \n",
            "+++++++++++++++++++++++17번 모델 끝++++++++++++++++++++++\n",
            "   \n",
            "###############################################################################################################\n",
            "++++++++++++++++++++++18번 모델 시작++++++++++++++++++++++\n",
            "Epoch 00196: early stopping\n",
            "0 번째 validiaion 결과는 다음과 같습니다. ::: 가중평균:  0.09281532572936747 RMSE:  7.93103047182885\n",
            "Epoch 00113: early stopping\n",
            "1 번째 validiaion 결과는 다음과 같습니다. ::: 가중평균:  0.14268067816237803 RMSE:  13.135994204178447\n",
            "Epoch 00101: early stopping\n",
            "2 번째 validiaion 결과는 다음과 같습니다. ::: 가중평균:  0.0797008510140288 RMSE:  8.745746690343125\n",
            "   \n",
            "모델 종료//// 모델 성능:0.10506561830192478 \n",
            "+++++++++++++++++++++++18번 모델 끝++++++++++++++++++++++\n",
            "   \n",
            "###############################################################################################################\n",
            "++++++++++++++++++++++19번 모델 시작++++++++++++++++++++++\n",
            "Epoch 00242: early stopping\n",
            "0 번째 validiaion 결과는 다음과 같습니다. ::: 가중평균:  0.10206426188315201 RMSE:  8.296289375056555\n",
            "Epoch 00112: early stopping\n",
            "1 번째 validiaion 결과는 다음과 같습니다. ::: 가중평균:  0.10485875610350463 RMSE:  10.921615664581793\n",
            "Epoch 00118: early stopping\n",
            "2 번째 validiaion 결과는 다음과 같습니다. ::: 가중평균:  0.12792243348910054 RMSE:  12.64044852483694\n",
            "   \n",
            "모델 종료//// 모델 성능:0.11161515049191906 \n",
            "+++++++++++++++++++++++19번 모델 끝++++++++++++++++++++++\n",
            "   \n",
            "###############################################################################################################\n",
            "++++++++++++++++++++++20번 모델 시작++++++++++++++++++++++\n",
            "Epoch 00246: early stopping\n",
            "0 번째 validiaion 결과는 다음과 같습니다. ::: 가중평균:  0.10088791065715877 RMSE:  8.083247005134137\n",
            "Epoch 00126: early stopping\n",
            "1 번째 validiaion 결과는 다음과 같습니다. ::: 가중평균:  0.11725973828893048 RMSE:  11.484551129221732\n",
            "Epoch 00109: early stopping\n",
            "2 번째 validiaion 결과는 다음과 같습니다. ::: 가중평균:  0.1319388416298294 RMSE:  12.924248166883718\n",
            "   \n",
            "모델 종료//// 모델 성능:0.11669549685863956 \n",
            "+++++++++++++++++++++++20번 모델 끝++++++++++++++++++++++\n",
            "   \n",
            "###############################################################################################################\n",
            "++++++++++++++++++++++21번 모델 시작++++++++++++++++++++++\n",
            "Epoch 00177: early stopping\n",
            "0 번째 validiaion 결과는 다음과 같습니다. ::: 가중평균:  0.10518317508449736 RMSE:  8.377494726608013\n",
            "Epoch 00107: early stopping\n",
            "1 번째 validiaion 결과는 다음과 같습니다. ::: 가중평균:  0.09357530835252494 RMSE:  10.609374919775572\n",
            "Epoch 00101: early stopping\n",
            "2 번째 validiaion 결과는 다음과 같습니다. ::: 가중평균:  0.11028713207713259 RMSE:  11.173734838022868\n",
            "   \n",
            "모델 종료//// 모델 성능:0.10301520517138496 \n",
            "+++++++++++++++++++++++21번 모델 끝++++++++++++++++++++++\n",
            "   \n",
            "###############################################################################################################\n",
            "++++++++++++++++++++++22번 모델 시작++++++++++++++++++++++\n",
            "Epoch 00275: early stopping\n",
            "0 번째 validiaion 결과는 다음과 같습니다. ::: 가중평균:  0.10002572014389477 RMSE:  8.149502243034478\n",
            "Epoch 00109: early stopping\n",
            "1 번째 validiaion 결과는 다음과 같습니다. ::: 가중평균:  0.09755254448887563 RMSE:  10.642126232654103\n",
            "Epoch 00133: early stopping\n",
            "2 번째 validiaion 결과는 다음과 같습니다. ::: 가중평균:  0.09388326448940895 RMSE:  9.755359138529291\n",
            "   \n",
            "모델 종료//// 모델 성능:0.09715384304072645 \n",
            "+++++++++++++++++++++++22번 모델 끝++++++++++++++++++++++\n",
            "   \n",
            "###############################################################################################################\n",
            "++++++++++++++++++++++23번 모델 시작++++++++++++++++++++++\n",
            "Epoch 00169: early stopping\n",
            "0 번째 validiaion 결과는 다음과 같습니다. ::: 가중평균:  0.09087348689318575 RMSE:  7.798639705840363\n",
            "Epoch 00154: early stopping\n",
            "1 번째 validiaion 결과는 다음과 같습니다. ::: 가중평균:  0.12991102528003118 RMSE:  12.28589508560462\n",
            "Epoch 00106: early stopping\n",
            "2 번째 validiaion 결과는 다음과 같습니다. ::: 가중평균:  0.10356153279264482 RMSE:  10.503350962220122\n",
            "   \n",
            "모델 종료//// 모델 성능:0.10811534832195391 \n",
            "+++++++++++++++++++++++23번 모델 끝++++++++++++++++++++++\n",
            "   \n",
            "###############################################################################################################\n",
            "++++++++++++++++++++++24번 모델 시작++++++++++++++++++++++\n",
            "Epoch 00271: early stopping\n",
            "0 번째 validiaion 결과는 다음과 같습니다. ::: 가중평균:  0.09547176172291959 RMSE:  8.000373568302747\n",
            "Epoch 00106: early stopping\n",
            "1 번째 validiaion 결과는 다음과 같습니다. ::: 가중평균:  0.0917918677216113 RMSE:  10.568296244938459\n",
            "Epoch 00108: early stopping\n",
            "2 번째 validiaion 결과는 다음과 같습니다. ::: 가중평균:  0.07422274973095018 RMSE:  8.407792995325442\n",
            "   \n",
            "모델 종료//// 모델 성능:0.08716212639182702 \n",
            "+++++++++++++++++++++++24번 모델 끝++++++++++++++++++++++\n",
            "   \n",
            "###############################################################################################################\n",
            "++++++++++++++++++++++25번 모델 시작++++++++++++++++++++++\n",
            "Epoch 00235: early stopping\n",
            "0 번째 validiaion 결과는 다음과 같습니다. ::: 가중평균:  0.09407301379328592 RMSE:  7.98290585186373\n",
            "Epoch 00119: early stopping\n",
            "1 번째 validiaion 결과는 다음과 같습니다. ::: 가중평균:  0.12323592111312436 RMSE:  11.828813984449113\n",
            "Epoch 00108: early stopping\n",
            "2 번째 validiaion 결과는 다음과 같습니다. ::: 가중평균:  0.12540028987599924 RMSE:  12.477333689676176\n",
            "   \n",
            "모델 종료//// 모델 성능:0.11423640826080317 \n",
            "+++++++++++++++++++++++25번 모델 끝++++++++++++++++++++++\n",
            "   \n",
            "###############################################################################################################\n",
            "++++++++++++++++++++++26번 모델 시작++++++++++++++++++++++\n",
            "Epoch 00139: early stopping\n",
            "0 번째 validiaion 결과는 다음과 같습니다. ::: 가중평균:  0.09338310857348599 RMSE:  7.853886606708036\n",
            "Epoch 00107: early stopping\n",
            "1 번째 validiaion 결과는 다음과 같습니다. ::: 가중평균:  0.11217651380974206 RMSE:  11.21644854934477\n",
            "Epoch 00118: early stopping\n",
            "2 번째 validiaion 결과는 다음과 같습니다. ::: 가중평균:  0.0784902026618115 RMSE:  8.621348339634103\n",
            "   \n",
            "모델 종료//// 모델 성능:0.09468327501501318 \n",
            "+++++++++++++++++++++++26번 모델 끝++++++++++++++++++++++\n",
            "   \n",
            "###############################################################################################################\n",
            "++++++++++++++++++++++27번 모델 시작++++++++++++++++++++++\n",
            "Epoch 00212: early stopping\n",
            "0 번째 validiaion 결과는 다음과 같습니다. ::: 가중평균:  0.10419583065348846 RMSE:  8.344629047609123\n",
            "Epoch 00108: early stopping\n",
            "1 번째 validiaion 결과는 다음과 같습니다. ::: 가중평균:  0.11182930087779983 RMSE:  11.288622757116094\n",
            "Epoch 00127: early stopping\n",
            "2 번째 validiaion 결과는 다음과 같습니다. ::: 가중평균:  0.09845123021878995 RMSE:  10.038818696812184\n",
            "   \n",
            "모델 종료//// 모델 성능:0.10482545391669273 \n",
            "+++++++++++++++++++++++27번 모델 끝++++++++++++++++++++++\n",
            "   \n",
            "###############################################################################################################\n",
            "++++++++++++++++++++++28번 모델 시작++++++++++++++++++++++\n",
            "Epoch 00161: early stopping\n",
            "0 번째 validiaion 결과는 다음과 같습니다. ::: 가중평균:  0.08709693958086497 RMSE:  8.225768100508509\n",
            "Epoch 00118: early stopping\n",
            "1 번째 validiaion 결과는 다음과 같습니다. ::: 가중평균:  0.0942796491140203 RMSE:  10.733081441819593\n",
            "Epoch 00106: early stopping\n",
            "2 번째 validiaion 결과는 다음과 같습니다. ::: 가중평균:  0.10722052097982193 RMSE:  10.821578628056656\n",
            "   \n",
            "모델 종료//// 모델 성능:0.09619903655823574 \n",
            "+++++++++++++++++++++++28번 모델 끝++++++++++++++++++++++\n",
            "   \n",
            "###############################################################################################################\n",
            "++++++++++++++++++++++29번 모델 시작++++++++++++++++++++++\n",
            "Epoch 00158: early stopping\n",
            "0 번째 validiaion 결과는 다음과 같습니다. ::: 가중평균:  0.09318067745709883 RMSE:  7.98572963881896\n",
            "Epoch 00110: early stopping\n",
            "1 번째 validiaion 결과는 다음과 같습니다. ::: 가중평균:  0.1135095335592483 RMSE:  11.30570981524239\n",
            "Epoch 00108: early stopping\n",
            "2 번째 validiaion 결과는 다음과 같습니다. ::: 가중평균:  0.06725576523065288 RMSE:  8.090863920276716\n",
            "   \n",
            "모델 종료//// 모델 성능:0.09131532541566667 \n",
            "+++++++++++++++++++++++29번 모델 끝++++++++++++++++++++++\n",
            "   \n",
            "###############################################################################################################\n",
            "++++++++++++++++++++++30번 모델 시작++++++++++++++++++++++\n",
            "Epoch 00158: early stopping\n",
            "0 번째 validiaion 결과는 다음과 같습니다. ::: 가중평균:  0.09745271507842403 RMSE:  7.905889898579041\n",
            "Epoch 00137: early stopping\n",
            "1 번째 validiaion 결과는 다음과 같습니다. ::: 가중평균:  0.10370226898582302 RMSE:  10.96626067900978\n",
            "Epoch 00123: early stopping\n",
            "2 번째 validiaion 결과는 다음과 같습니다. ::: 가중평균:  0.12702019469546896 RMSE:  12.44359109200138\n",
            "   \n",
            "모델 종료//// 모델 성능:0.10939172625323867 \n",
            "+++++++++++++++++++++++30번 모델 끝++++++++++++++++++++++\n",
            "   \n",
            "###############################################################################################################\n",
            "++++++++++++++++++++++31번 모델 시작++++++++++++++++++++++\n",
            "Epoch 00136: early stopping\n",
            "0 번째 validiaion 결과는 다음과 같습니다. ::: 가중평균:  0.09796239787583813 RMSE:  7.926235316573974\n",
            "Epoch 00174: early stopping\n",
            "1 번째 validiaion 결과는 다음과 같습니다. ::: 가중평균:  0.10927885858412764 RMSE:  11.074655674393323\n",
            "Epoch 00138: early stopping\n",
            "2 번째 validiaion 결과는 다음과 같습니다. ::: 가중평균:  0.1006339217349116 RMSE:  10.340117908793662\n",
            "   \n",
            "모델 종료//// 모델 성능:0.10262505939829246 \n",
            "+++++++++++++++++++++++31번 모델 끝++++++++++++++++++++++\n",
            "   \n",
            "###############################################################################################################\n",
            "++++++++++++++++++++++32번 모델 시작++++++++++++++++++++++\n",
            "Epoch 00147: early stopping\n",
            "0 번째 validiaion 결과는 다음과 같습니다. ::: 가중평균:  0.08390958313496277 RMSE:  8.604161956426692\n",
            "Epoch 00147: early stopping\n",
            "1 번째 validiaion 결과는 다음과 같습니다. ::: 가중평균:  0.12570743201118414 RMSE:  11.997957236119865\n",
            "Epoch 00107: early stopping\n",
            "2 번째 validiaion 결과는 다음과 같습니다. ::: 가중평균:  0.10107340322531885 RMSE:  10.341151927761162\n",
            "   \n",
            "모델 종료//// 모델 성능:0.1035634727904886 \n",
            "+++++++++++++++++++++++32번 모델 끝++++++++++++++++++++++\n",
            "   \n",
            "###############################################################################################################\n",
            "++++++++++++++++++++++33번 모델 시작++++++++++++++++++++++\n",
            "Epoch 00283: early stopping\n",
            "0 번째 validiaion 결과는 다음과 같습니다. ::: 가중평균:  0.1045704461334251 RMSE:  8.374085180916207\n",
            "Epoch 00110: early stopping\n",
            "1 번째 validiaion 결과는 다음과 같습니다. ::: 가중평균:  0.10576297770173838 RMSE:  10.923409119679068\n",
            "Epoch 00103: early stopping\n",
            "2 번째 validiaion 결과는 다음과 같습니다. ::: 가중평균:  0.1236866081267821 RMSE:  12.285737363136677\n",
            "   \n",
            "모델 종료//// 모델 성능:0.11134001065398186 \n",
            "+++++++++++++++++++++++33번 모델 끝++++++++++++++++++++++\n",
            "   \n",
            "###############################################################################################################\n",
            "++++++++++++++++++++++34번 모델 시작++++++++++++++++++++++\n",
            "Epoch 00182: early stopping\n",
            "0 번째 validiaion 결과는 다음과 같습니다. ::: 가중평균:  0.08764141621014519 RMSE:  8.11235906378398\n",
            "Epoch 00114: early stopping\n",
            "1 번째 validiaion 결과는 다음과 같습니다. ::: 가중평균:  0.09457376829112932 RMSE:  10.732648125408977\n",
            "Epoch 00118: early stopping\n",
            "2 번째 validiaion 결과는 다음과 같습니다. ::: 가중평균:  0.10735802940423798 RMSE:  10.860263545813954\n",
            "   \n",
            "모델 종료//// 모델 성능:0.09652440463517083 \n",
            "+++++++++++++++++++++++34번 모델 끝++++++++++++++++++++++\n",
            "   \n",
            "###############################################################################################################\n",
            "++++++++++++++++++++++35번 모델 시작++++++++++++++++++++++\n",
            "0 번째 validiaion 결과는 다음과 같습니다. ::: 가중평균:  0.10916839841118534 RMSE:  8.493286346735244\n",
            "Epoch 00114: early stopping\n",
            "1 번째 validiaion 결과는 다음과 같습니다. ::: 가중평균:  0.10303936602012016 RMSE:  10.841913361364275\n",
            "Epoch 00134: early stopping\n",
            "2 번째 validiaion 결과는 다음과 같습니다. ::: 가중평균:  0.1008319251796421 RMSE:  10.249274652781919\n",
            "   \n",
            "모델 종료//// 모델 성능:0.10434656320364921 \n",
            "+++++++++++++++++++++++35번 모델 끝++++++++++++++++++++++\n",
            "   \n",
            "###############################################################################################################\n",
            "++++++++++++++++++++++36번 모델 시작++++++++++++++++++++++\n",
            "Epoch 00141: early stopping\n",
            "0 번째 validiaion 결과는 다음과 같습니다. ::: 가중평균:  0.0896281224907892 RMSE:  8.142269451207985\n",
            "Epoch 00104: early stopping\n",
            "1 번째 validiaion 결과는 다음과 같습니다. ::: 가중평균:  0.15693253972163174 RMSE:  14.124775571590792\n",
            "Epoch 00105: early stopping\n",
            "2 번째 validiaion 결과는 다음과 같습니다. ::: 가중평균:  0.10699660978535039 RMSE:  10.95297992435146\n",
            "   \n",
            "모델 종료//// 모델 성능:0.1178524239992571 \n",
            "+++++++++++++++++++++++36번 모델 끝++++++++++++++++++++++\n",
            "   \n",
            "###############################################################################################################\n",
            "++++++++++++++++++++++37번 모델 시작++++++++++++++++++++++\n",
            "Epoch 00186: early stopping\n",
            "0 번째 validiaion 결과는 다음과 같습니다. ::: 가중평균:  0.09791366697981156 RMSE:  8.137031526670086\n",
            "Epoch 00110: early stopping\n",
            "1 번째 validiaion 결과는 다음과 같습니다. ::: 가중평균:  0.13831643775776264 RMSE:  12.839065603086253\n",
            "Epoch 00111: early stopping\n",
            "2 번째 validiaion 결과는 다음과 같습니다. ::: 가중평균:  0.10162847909299787 RMSE:  10.39087333719635\n",
            "   \n",
            "모델 종료//// 모델 성능:0.11261952794352403 \n",
            "+++++++++++++++++++++++37번 모델 끝++++++++++++++++++++++\n",
            "   \n",
            "###############################################################################################################\n",
            "++++++++++++++++++++++38번 모델 시작++++++++++++++++++++++\n",
            "Epoch 00208: early stopping\n",
            "0 번째 validiaion 결과는 다음과 같습니다. ::: 가중평균:  0.10350676756138744 RMSE:  8.138464562263087\n",
            "Epoch 00119: early stopping\n",
            "1 번째 validiaion 결과는 다음과 같습니다. ::: 가중평균:  0.09146359557921784 RMSE:  10.61185135956361\n",
            "Epoch 00102: early stopping\n",
            "2 번째 validiaion 결과는 다음과 같습니다. ::: 가중평균:  0.0761961692291446 RMSE:  8.42551532159526\n",
            "   \n",
            "모델 종료//// 모델 성능:0.09038884412324995 \n",
            "+++++++++++++++++++++++38번 모델 끝++++++++++++++++++++++\n",
            "   \n",
            "###############################################################################################################\n",
            "++++++++++++++++++++++39번 모델 시작++++++++++++++++++++++\n",
            "Epoch 00236: early stopping\n",
            "0 번째 validiaion 결과는 다음과 같습니다. ::: 가중평균:  0.09526723215570111 RMSE:  8.16920161614858\n",
            "Epoch 00109: early stopping\n",
            "1 번째 validiaion 결과는 다음과 같습니다. ::: 가중평균:  0.09795948976290314 RMSE:  10.672147201311233\n",
            "Epoch 00128: early stopping\n",
            "2 번째 validiaion 결과는 다음과 같습니다. ::: 가중평균:  0.08881782663658057 RMSE:  9.439312765802866\n",
            "   \n",
            "모델 종료//// 모델 성능:0.09401484951839494 \n",
            "+++++++++++++++++++++++39번 모델 끝++++++++++++++++++++++\n",
            "   \n",
            "###############################################################################################################\n",
            "++++++++++++++++++++++40번 모델 시작++++++++++++++++++++++\n",
            "Epoch 00157: early stopping\n",
            "0 번째 validiaion 결과는 다음과 같습니다. ::: 가중평균:  0.08458944716757354 RMSE:  8.2376746782744\n",
            "Epoch 00171: early stopping\n",
            "1 번째 validiaion 결과는 다음과 같습니다. ::: 가중평균:  0.11092816627586001 RMSE:  11.172920270525386\n",
            "Epoch 00110: early stopping\n",
            "2 번째 validiaion 결과는 다음과 같습니다. ::: 가중평균:  0.09151347336879638 RMSE:  9.533067378327196\n",
            "   \n",
            "모델 종료//// 모델 성능:0.09567702893740998 \n",
            "+++++++++++++++++++++++40번 모델 끝++++++++++++++++++++++\n",
            "   \n",
            "###############################################################################################################\n",
            "++++++++++++++++++++++41번 모델 시작++++++++++++++++++++++\n",
            "Epoch 00250: early stopping\n",
            "0 번째 validiaion 결과는 다음과 같습니다. ::: 가중평균:  0.09594481108348561 RMSE:  7.899245825262044\n",
            "Epoch 00106: early stopping\n",
            "1 번째 validiaion 결과는 다음과 같습니다. ::: 가중평균:  0.09396408384727992 RMSE:  10.54626424722343\n",
            "Epoch 00105: early stopping\n",
            "2 번째 validiaion 결과는 다음과 같습니다. ::: 가중평균:  0.1307089345039262 RMSE:  12.963254922833803\n",
            "   \n",
            "모델 종료//// 모델 성능:0.10687260981156392 \n",
            "+++++++++++++++++++++++41번 모델 끝++++++++++++++++++++++\n",
            "   \n",
            "###############################################################################################################\n",
            "++++++++++++++++++++++42번 모델 시작++++++++++++++++++++++\n",
            "Epoch 00191: early stopping\n",
            "0 번째 validiaion 결과는 다음과 같습니다. ::: 가중평균:  0.10393742713417932 RMSE:  8.194586470998757\n",
            "Epoch 00105: early stopping\n",
            "1 번째 validiaion 결과는 다음과 같습니다. ::: 가중평균:  0.09025993719714388 RMSE:  10.595645542133019\n",
            "Epoch 00114: early stopping\n",
            "2 번째 validiaion 결과는 다음과 같습니다. ::: 가중평균:  0.07285313115425472 RMSE:  8.287788188295394\n",
            "   \n",
            "모델 종료//// 모델 성능:0.08901683182852597 \n",
            "+++++++++++++++++++++++42번 모델 끝++++++++++++++++++++++\n",
            "   \n",
            "###############################################################################################################\n",
            "++++++++++++++++++++++43번 모델 시작++++++++++++++++++++++\n",
            "Epoch 00127: early stopping\n",
            "0 번째 validiaion 결과는 다음과 같습니다. ::: 가중평균:  0.08273752053129489 RMSE:  8.673861353676106\n",
            "Epoch 00118: early stopping\n",
            "1 번째 validiaion 결과는 다음과 같습니다. ::: 가중평균:  0.14648730444865224 RMSE:  13.405550262639567\n",
            "Epoch 00148: early stopping\n",
            "2 번째 validiaion 결과는 다음과 같습니다. ::: 가중평균:  0.1630317724870314 RMSE:  15.65016214377554\n",
            "   \n",
            "모델 종료//// 모델 성능:0.1307521991556595 \n",
            "+++++++++++++++++++++++43번 모델 끝++++++++++++++++++++++\n",
            "   \n",
            "###############################################################################################################\n",
            "++++++++++++++++++++++44번 모델 시작++++++++++++++++++++++\n",
            "Epoch 00198: early stopping\n",
            "0 번째 validiaion 결과는 다음과 같습니다. ::: 가중평균:  0.10763458140869894 RMSE:  8.324767607378554\n",
            "Epoch 00125: early stopping\n",
            "1 번째 validiaion 결과는 다음과 같습니다. ::: 가중평균:  0.0941996943243869 RMSE:  10.63656695508406\n",
            "Epoch 00132: early stopping\n",
            "2 번째 validiaion 결과는 다음과 같습니다. ::: 가중평균:  0.08913412442705625 RMSE:  9.324969173647306\n",
            "   \n",
            "모델 종료//// 모델 성능:0.09698946672004737 \n",
            "+++++++++++++++++++++++44번 모델 끝++++++++++++++++++++++\n",
            "   \n",
            "###############################################################################################################\n",
            "++++++++++++++++++++++45번 모델 시작++++++++++++++++++++++\n",
            "Epoch 00142: early stopping\n",
            "0 번째 validiaion 결과는 다음과 같습니다. ::: 가중평균:  0.08111439622451233 RMSE:  9.719200498240149\n",
            "Epoch 00129: early stopping\n",
            "1 번째 validiaion 결과는 다음과 같습니다. ::: 가중평균:  0.09478454126323584 RMSE:  10.675311021700873\n",
            "Epoch 00117: early stopping\n",
            "2 번째 validiaion 결과는 다음과 같습니다. ::: 가중평균:  0.07878512812319362 RMSE:  8.611794987134187\n",
            "   \n",
            "모델 종료//// 모델 성능:0.08489468853698058 \n",
            "+++++++++++++++++++++++45번 모델 끝++++++++++++++++++++++\n",
            "   \n",
            "###############################################################################################################\n",
            "++++++++++++++++++++++46번 모델 시작++++++++++++++++++++++\n",
            "Epoch 00214: early stopping\n",
            "0 번째 validiaion 결과는 다음과 같습니다. ::: 가중평균:  0.10453650807245521 RMSE:  8.22840151641113\n",
            "Epoch 00150: early stopping\n",
            "1 번째 validiaion 결과는 다음과 같습니다. ::: 가중평균:  0.11472990373072835 RMSE:  11.37010970039131\n",
            "Epoch 00110: early stopping\n",
            "2 번째 validiaion 결과는 다음과 같습니다. ::: 가중평균:  0.13128793498155483 RMSE:  13.005753857698169\n",
            "   \n",
            "모델 종료//// 모델 성능:0.11685144892824613 \n",
            "+++++++++++++++++++++++46번 모델 끝++++++++++++++++++++++\n",
            "   \n",
            "###############################################################################################################\n",
            "++++++++++++++++++++++47번 모델 시작++++++++++++++++++++++\n",
            "Epoch 00230: early stopping\n",
            "0 번째 validiaion 결과는 다음과 같습니다. ::: 가중평균:  0.09151728478024103 RMSE:  8.047663125629056\n",
            "Epoch 00107: early stopping\n",
            "1 번째 validiaion 결과는 다음과 같습니다. ::: 가중평균:  0.09716096142335058 RMSE:  10.7923383073188\n",
            "Epoch 00119: early stopping\n",
            "2 번째 validiaion 결과는 다음과 같습니다. ::: 가중평균:  0.13174772640128918 RMSE:  12.868180231050973\n",
            "   \n",
            "모델 종료//// 모델 성능:0.10680865753496027 \n",
            "+++++++++++++++++++++++47번 모델 끝++++++++++++++++++++++\n",
            "   \n",
            "###############################################################################################################\n",
            "++++++++++++++++++++++48번 모델 시작++++++++++++++++++++++\n",
            "Epoch 00157: early stopping\n",
            "0 번째 validiaion 결과는 다음과 같습니다. ::: 가중평균:  0.08224166594924369 RMSE:  8.467318112339665\n",
            "Epoch 00114: early stopping\n",
            "1 번째 validiaion 결과는 다음과 같습니다. ::: 가중평균:  0.09093819198322366 RMSE:  10.813148225713196\n",
            "Epoch 00110: early stopping\n",
            "2 번째 validiaion 결과는 다음과 같습니다. ::: 가중평균:  0.15310082872470585 RMSE:  14.821341447218526\n",
            "   \n",
            "모델 종료//// 모델 성능:0.1087602288857244 \n",
            "+++++++++++++++++++++++48번 모델 끝++++++++++++++++++++++\n",
            "   \n",
            "###############################################################################################################\n",
            "++++++++++++++++++++++49번 모델 시작++++++++++++++++++++++\n",
            "Epoch 00158: early stopping\n",
            "0 번째 validiaion 결과는 다음과 같습니다. ::: 가중평균:  0.0868191656541085 RMSE:  7.923206309206788\n",
            "Epoch 00114: early stopping\n",
            "1 번째 validiaion 결과는 다음과 같습니다. ::: 가중평균:  0.11352461454103288 RMSE:  11.265576233843564\n",
            "Epoch 00164: early stopping\n",
            "2 번째 validiaion 결과는 다음과 같습니다. ::: 가중평균:  0.09780424851196079 RMSE:  10.088219654563375\n",
            "   \n",
            "모델 종료//// 모델 성능:0.09938267623570073 \n",
            "+++++++++++++++++++++++49번 모델 끝++++++++++++++++++++++\n",
            "   \n",
            "###############################################################################################################\n"
          ],
          "name": "stdout"
        }
      ]
    },
    {
      "cell_type": "markdown",
      "metadata": {
        "id": "DFgT3eL7P3aX",
        "colab_type": "text"
      },
      "source": [
        "최고 성능: 노드 50개짜리"
      ]
    },
    {
      "cell_type": "code",
      "metadata": {
        "id": "WMuPUm8TAhe-",
        "colab_type": "code",
        "colab": {
          "base_uri": "https://localhost:8080/",
          "height": 70
        },
        "outputId": "3c47c568-9393-4a88-caa8-a4c7d22fd650"
      },
      "source": [
        "for i in range(len(data_set_list)):\n",
        "  X_train = data_set_list[i][0]\n",
        "  Y_train = data_set_list[i][1]\n",
        "  X_val = data_set_list[i][2]\n",
        "  Y_val = data_set_list[i][3]\n",
        "  print(X_train.shape, Y_train.shape, X_val.shape, Y_val.shape)"
      ],
      "execution_count": null,
      "outputs": [
        {
          "output_type": "stream",
          "text": [
            "(4944, 57) (4944,) (168, 57) (168,)\n",
            "(7800, 57) (6360,) (168, 57) (168,)\n",
            "(6360, 57) (7800,) (168, 57) (168,)\n"
          ],
          "name": "stdout"
        }
      ]
    },
    {
      "cell_type": "markdown",
      "metadata": {
        "id": "0YmIh-0TQcsl",
        "colab_type": "text"
      },
      "source": [
        "#### 내일 할일: \n",
        "                1. 인코딩 방식 바꿔보기\n",
        "                2. 모델 구조 바꿔보기 \n",
        "                3. 1~2를 함수로 짜서 한번에 돌리기\n"
      ]
    }
  ]
}