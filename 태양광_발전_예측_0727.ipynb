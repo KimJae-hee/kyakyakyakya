{
  "nbformat": 4,
  "nbformat_minor": 0,
  "metadata": {
    "colab": {
      "name": "태양광 발전 예측_0727.ipynb",
      "provenance": [],
      "collapsed_sections": [
        "HCwm--TaIvYj",
        "NYDm8wb7KSbo"
      ],
      "include_colab_link": true
    },
    "kernelspec": {
      "name": "python3",
      "display_name": "Python 3"
    },
    "accelerator": "GPU"
  },
  "cells": [
    {
      "cell_type": "markdown",
      "metadata": {
        "id": "view-in-github",
        "colab_type": "text"
      },
      "source": [
        "<a href=\"https://colab.research.google.com/github/KimJae-hee/solar_panel/blob/master/%ED%83%9C%EC%96%91%EA%B4%91_%EB%B0%9C%EC%A0%84_%EC%98%88%EC%B8%A1_0727.ipynb\" target=\"_parent\"><img src=\"https://colab.research.google.com/assets/colab-badge.svg\" alt=\"Open In Colab\"/></a>"
      ]
    },
    {
      "cell_type": "code",
      "metadata": {
        "id": "9m4h9_w74uzy",
        "colab_type": "code",
        "colab": {
          "base_uri": "https://localhost:8080/",
          "height": 35
        },
        "outputId": "43ff92a0-abe9-4ed6-acc3-94f3c6cb04ee"
      },
      "source": [
        "import pandas as pd\n",
        "import numpy as np\n",
        "from sklearn.preprocessing import OneHotEncoder, OrdinalEncoder\n",
        "from sklearn.preprocessing import MinMaxScaler\n",
        "from keras.layers import Dense, Dropout\n",
        "from keras.models import Sequential\n",
        "from keras import backend as K\n",
        "from keras.callbacks import EarlyStopping\n",
        "from keras.callbacks import ModelCheckpoint\n",
        "import matplotlib.pyplot as plt\n",
        "from sklearn.metrics import mean_squared_error as mse\n",
        "np.random.seed(0)"
      ],
      "execution_count": null,
      "outputs": [
        {
          "output_type": "stream",
          "text": [
            "Using TensorFlow backend.\n"
          ],
          "name": "stderr"
        }
      ]
    },
    {
      "cell_type": "markdown",
      "metadata": {
        "id": "W6T2-iEj5WyW",
        "colab_type": "text"
      },
      "source": [
        "### 우선 One-Hot Encoding으로 진행하자."
      ]
    },
    {
      "cell_type": "code",
      "metadata": {
        "id": "CbOqP0mMJjeR",
        "colab_type": "code",
        "colab": {
          "base_uri": "https://localhost:8080/",
          "height": 126
        },
        "outputId": "34cd2f76-45eb-447a-acc0-65eb2da4a648"
      },
      "source": [
        "from google.colab import drive\n",
        "drive.mount('/content/drive')"
      ],
      "execution_count": null,
      "outputs": [
        {
          "output_type": "stream",
          "text": [
            "Go to this URL in a browser: https://accounts.google.com/o/oauth2/auth?client_id=947318989803-6bn6qk8qdgf4n4g3pfee6491hc0brc4i.apps.googleusercontent.com&redirect_uri=urn%3aietf%3awg%3aoauth%3a2.0%3aoob&response_type=code&scope=email%20https%3a%2f%2fwww.googleapis.com%2fauth%2fdocs.test%20https%3a%2f%2fwww.googleapis.com%2fauth%2fdrive%20https%3a%2f%2fwww.googleapis.com%2fauth%2fdrive.photos.readonly%20https%3a%2f%2fwww.googleapis.com%2fauth%2fpeopleapi.readonly\n",
            "\n",
            "Enter your authorization code:\n",
            "··········\n",
            "Mounted at /content/drive\n"
          ],
          "name": "stdout"
        }
      ]
    },
    {
      "cell_type": "code",
      "metadata": {
        "id": "xLQHYr3W4y-o",
        "colab_type": "code",
        "colab": {}
      },
      "source": [
        "sun = pd.read_csv('/content/drive/My Drive/P-SAT/태양광 예측/진짜 데이터 셋/final_data0723_3.csv', encoding = 'CP949')\n",
        "sun[\"ymd\"] = pd.to_datetime(sun[\"ymd\"], format = \"%Y-%m-%d\")\n",
        "sun = sun.set_index(pd.to_datetime(sun[\"date\"]))\n",
        "del sun[\"date\"]\n",
        "del sun[\"day\"]\n",
        "del sun[\"wday\"]"
      ],
      "execution_count": null,
      "outputs": []
    },
    {
      "cell_type": "code",
      "metadata": {
        "id": "Vjh_caqnJCNs",
        "colab_type": "code",
        "colab": {}
      },
      "source": [
        "sun_test = sun[sun[\"y\"].isnull()]\n",
        "sun_train = sun[sun[\"y\"].notnull()]"
      ],
      "execution_count": null,
      "outputs": []
    },
    {
      "cell_type": "code",
      "metadata": {
        "id": "0vv75E8P-igk",
        "colab_type": "code",
        "colab": {
          "base_uri": "https://localhost:8080/",
          "height": 479
        },
        "outputId": "a4800f11-5082-4913-87ea-fe9e4d073551"
      },
      "source": [
        "y_train = sun_train[\"y\"]\n",
        "y_test = sun_test[\"y\"]\n",
        "print(y[24:48])\n",
        "# 각각의 인코딩을 위해 데이터 프레임 복제\n",
        "sun_mne = sun_train.drop([\"ymd\"], axis = 1)\n",
        "sun_ohe = sun_train.drop([\"y\", \"ymd\"], axis = 1)\n",
        "sun_tets = sun_test.drop([\"y\"], axis = 1)"
      ],
      "execution_count": null,
      "outputs": [
        {
          "output_type": "stream",
          "text": [
            "date\n",
            "2019-07-03 00:00:00     0.000000\n",
            "2019-07-03 01:00:00     0.000000\n",
            "2019-07-03 02:00:00     0.000000\n",
            "2019-07-03 03:00:00     0.000000\n",
            "2019-07-03 04:00:00     0.000000\n",
            "2019-07-03 05:00:00     0.355794\n",
            "2019-07-03 06:00:00     4.189866\n",
            "2019-07-03 07:00:00    16.522211\n",
            "2019-07-03 08:00:00    29.605435\n",
            "2019-07-03 09:00:00    47.740758\n",
            "2019-07-03 10:00:00    61.786528\n",
            "2019-07-03 11:00:00    70.039603\n",
            "2019-07-03 12:00:00    69.232080\n",
            "2019-07-03 13:00:00    57.291870\n",
            "2019-07-03 14:00:00    45.665655\n",
            "2019-07-03 15:00:00    53.278504\n",
            "2019-07-03 16:00:00    35.033110\n",
            "2019-07-03 17:00:00    25.931940\n",
            "2019-07-03 18:00:00    11.108006\n",
            "2019-07-03 19:00:00     0.808239\n",
            "2019-07-03 20:00:00     0.014000\n",
            "2019-07-03 21:00:00     0.000000\n",
            "2019-07-03 22:00:00     0.000000\n",
            "2019-07-03 23:00:00     0.000000\n",
            "Name: y, dtype: float64\n"
          ],
          "name": "stdout"
        }
      ]
    },
    {
      "cell_type": "markdown",
      "metadata": {
        "id": "9JXjosXPC4bA",
        "colab_type": "text"
      },
      "source": [
        "### train, validation, test 인덱스 추출 및 데이터 분리"
      ]
    },
    {
      "cell_type": "code",
      "metadata": {
        "id": "vNO29d1k32mJ",
        "colab_type": "code",
        "colab": {}
      },
      "source": [
        "idx_train_1 = (sun_train[\"ymd\"] < \"2020-01-24\")\n",
        "idx_train_2 = ((sun_train[\"ymd\"] < \"2020-03-24\"))\n",
        "idx_train_3 = ((sun_train[\"ymd\"] < \"2020-05-24\"))\n",
        "\n",
        "idx_val_1 = ((sun_train[\"ymd\"] > \"2020-01-23\") & (sun_train[\"ymd\"] <\"2020-01-31\"))\n",
        "idx_val_2 = ((sun_train[\"ymd\"] > \"2020-03-23\") & (sun_train[\"ymd\"] <\"2020-03-31\"))\n",
        "idx_val_3 = ((sun_train[\"ymd\"] > \"2020-05-23\") & (sun_train[\"ymd\"] <\"2020-05-31\"))\n",
        "\n",
        "idx_test_1 = (sun_test[\"ymd\"] == \"2020-01-31\")\n",
        "idx_test_2 = (sun_test[\"ymd\"] == \"2020-03-31\")\n",
        "idx_test_3 = (sun_test[\"ymd\"] == \"2020-05-31\")\n",
        "\n",
        "idx_y_train_2 = (y.index < \"2020-01-24\")"
      ],
      "execution_count": null,
      "outputs": []
    },
    {
      "cell_type": "code",
      "metadata": {
        "id": "UXhgBggTDnWL",
        "colab_type": "code",
        "colab": {
          "base_uri": "https://localhost:8080/",
          "height": 124
        },
        "outputId": "0552745b-a8e0-42d9-ec1e-f4b05f751b9a"
      },
      "source": [
        "x_train_1 = sun_ohe[idx_train_1]\n",
        "x_train_2 = sun_ohe[idx_train_2]\n",
        "x_train_3 = sun_ohe[idx_train_3]\n",
        "\n",
        "x_val_1 = sun_ohe[idx_val_1]\n",
        "x_val_2 = sun_ohe[idx_val_2]\n",
        "x_val_3 = sun_ohe[idx_val_3]\n",
        "\n",
        "x_test_1 = sun_test[idx_test_1]\n",
        "x_test_2 = sun_test[idx_test_2]\n",
        "x_test_3 = sun_test[idx_test_3]\n",
        "\n",
        "y_train_1 = y_train[idx_train_1]\n",
        "y_train_2 = y_train[idx_train_2]\n",
        "y_train_3 = y_train[idx_train_3]\n",
        "\n",
        "y_val_1 = y_train[idx_val_1]\n",
        "y_val_2 = y_train[idx_val_2]\n",
        "y_val_3 = y_train[idx_val_3]\n",
        "\n",
        "y_test_1 = y_test[idx_test_1]\n",
        "y_test_2 = y_test[idx_test_2]\n",
        "y_test_3 = y_test[idx_test_3]\n",
        "\n",
        "print(y_train_1.isnull().sum())\n",
        "print(y_train_2.isnull().sum())\n",
        "print(y_train_3.isnull().sum())\n",
        "print(y_val_1.isnull().sum())\n",
        "print(y_val_2.isnull().sum())\n",
        "print(y_val_3.isnull().sum())"
      ],
      "execution_count": null,
      "outputs": [
        {
          "output_type": "stream",
          "text": [
            "0\n",
            "0\n",
            "0\n",
            "0\n",
            "0\n",
            "0\n"
          ],
          "name": "stdout"
        }
      ]
    },
    {
      "cell_type": "markdown",
      "metadata": {
        "id": "z0LRFNV_52uV",
        "colab_type": "text"
      },
      "source": [
        "### One-Hot-Encoder 및 Ordianl-Encoder"
      ]
    },
    {
      "cell_type": "code",
      "metadata": {
        "id": "tTt3nzm75WKA",
        "colab_type": "code",
        "colab": {}
      },
      "source": [
        "cate_list = [\"month\", \"rain_type\", \"skycondition\", \"pm10_cat\", \"pm2_5_cat\", \"rain_yn\", \"hour\" ] #인코딩을 위한 변수 \n",
        "sun_ohe_columns = sun_ohe.columns.values.tolist()"
      ],
      "execution_count": null,
      "outputs": []
    },
    {
      "cell_type": "code",
      "metadata": {
        "id": "x9IVIJEg8Qkx",
        "colab_type": "code",
        "colab": {}
      },
      "source": [
        "non_cate_list = sun_ohe_columns\n",
        "for i in range(len(cate_list)):\n",
        "  non_cate_list.remove(cate_list[i])"
      ],
      "execution_count": null,
      "outputs": []
    },
    {
      "cell_type": "code",
      "metadata": {
        "id": "XUGGt7SCExLc",
        "colab_type": "code",
        "colab": {}
      },
      "source": [
        "def onehotencoder(x_train, x_val):\n",
        "  shape_x_train = x_train.shape\n",
        "  shape_x_val = x_val.shape\n",
        "  \n",
        "  print(f\"인코딩 전 트레인 데이터의 shape은 {shape_x_train}입니다.\")\n",
        "  print(f\"인코딩 전 평가 데이터의 shape은 {shape_x_val}입니다.\")\n",
        "\n",
        "  x_train_cat = x_train[cate_list]\n",
        "  x_train_noncat = x_train[non_cate_list]\n",
        "\n",
        "  x_val_cat = x_val[cate_list]\n",
        "  x_val_noncat = x_val[non_cate_list]\n",
        "\n",
        "  enc = OneHotEncoder(handle_unknown='error')\n",
        "  enc.fit(x_train_3[cate_list])\n",
        "  x_train_ohe = enc.transform(x_train_cat).toarray()\n",
        "  x_val_ohe = enc.transform(x_val_cat).toarray()\n",
        "\n",
        "  x_train_noncat = np.asarray(x_train_noncat)\n",
        "  x_val_noncat = np.asarray(x_val_noncat)\n",
        "\n",
        "  x_train_result = np.hstack((x_train_noncat, x_train_ohe))\n",
        "  x_val_result = np.hstack((x_val_noncat, x_val_ohe))\n",
        "\n",
        "  shape_x_train_done = x_train_result.shape\n",
        "  shape_x_val_done = x_val_result.shape\n",
        "  print(f\"인코딩 후 트레인 데이터의 shape은 {shape_x_train_done}입니다.\")\n",
        "  print(f\"인코딩 후 평가 데이터의 shape은 {shape_x_val_done}입니다.\")\n",
        "  print(\"   \")\n",
        "  return x_train_result, x_val_result                   "
      ],
      "execution_count": null,
      "outputs": []
    },
    {
      "cell_type": "code",
      "metadata": {
        "id": "aeb8NkUqHapR",
        "colab_type": "code",
        "colab": {
          "base_uri": "https://localhost:8080/",
          "height": 284
        },
        "outputId": "1e30b32f-a50e-4d08-9160-0054e047cab1"
      },
      "source": [
        "x_train_1_ohe, x_val_1_ohe = onehotencoder(x_train_1, x_val_1)\n",
        "x_train_2_ohe, x_val_2_ohe = onehotencoder(x_train_2, x_val_2)\n",
        "x_train_3_ohe, x_val_3_ohe = onehotencoder(x_train_3, x_val_3)"
      ],
      "execution_count": null,
      "outputs": [
        {
          "output_type": "stream",
          "text": [
            "인코딩 전 트레인 데이터의 shape은 (4944, 28)입니다.\n",
            "인코딩 전 평가 데이터의 shape은 (168, 28)입니다.\n",
            "인코딩 후 트레인 데이터의 shape은 (4944, 73)입니다.\n",
            "인코딩 후 평가 데이터의 shape은 (168, 73)입니다.\n",
            "   \n",
            "인코딩 전 트레인 데이터의 shape은 (6360, 28)입니다.\n",
            "인코딩 전 평가 데이터의 shape은 (168, 28)입니다.\n",
            "인코딩 후 트레인 데이터의 shape은 (6360, 73)입니다.\n",
            "인코딩 후 평가 데이터의 shape은 (168, 73)입니다.\n",
            "   \n",
            "인코딩 전 트레인 데이터의 shape은 (7800, 28)입니다.\n",
            "인코딩 전 평가 데이터의 shape은 (168, 28)입니다.\n",
            "인코딩 후 트레인 데이터의 shape은 (7800, 73)입니다.\n",
            "인코딩 후 평가 데이터의 shape은 (168, 73)입니다.\n",
            "   \n"
          ],
          "name": "stdout"
        }
      ]
    },
    {
      "cell_type": "markdown",
      "metadata": {
        "id": "HCwm--TaIvYj",
        "colab_type": "text"
      },
      "source": [
        "### 범주형 변수 Ordinal Encoding"
      ]
    },
    {
      "cell_type": "code",
      "metadata": {
        "id": "5AX-8ETxIzDg",
        "colab_type": "code",
        "colab": {}
      },
      "source": [
        "enc = OrdinalEncoder()\n",
        "enc.fit(sun_cat)\n",
        "sun_cat_ord = enc.transform(sun_cat)"
      ],
      "execution_count": null,
      "outputs": []
    },
    {
      "cell_type": "markdown",
      "metadata": {
        "id": "NYDm8wb7KSbo",
        "colab_type": "text"
      },
      "source": [
        "### 범주형 변수 Mean Encoding"
      ]
    },
    {
      "cell_type": "code",
      "metadata": {
        "id": "Kn_kR_UIKWrk",
        "colab_type": "code",
        "colab": {}
      },
      "source": [
        "def target_encoder(df, column, target, index=None, method='mean'):\n",
        "    \"\"\"\n",
        "        df (pandas df): Pandas DataFrame containing the categorical column and target.\n",
        "        column (str): Categorical variable column to be encoded.\n",
        "        target (str): Target on which to encode.\n",
        "        index (arr): Can be supplied to use targets only from the train index. Avoids data leakage from the test fold\n",
        "        method (str): Summary statistic of the target. Mean, median or std. deviation.\n",
        "    Returns:\n",
        "        arr: Encoded categorical column.\n",
        "    \"\"\"\n",
        "\n",
        "    index = df.index if index is None else index # Encode the entire input df if no specific indices is supplied\n",
        "\n",
        "    if method == 'mean':\n",
        "        encoded_column = df[column].map(df.iloc[index].groupby(column)[target].mean())\n",
        "    elif method == 'median':\n",
        "        encoded_column = df[column].map(df.iloc[index].groupby(column)[target].median())\n",
        "    elif method == 'std':\n",
        "        encoded_column = df[column].map(df.iloc[index].groupby(column)[target].std())\n",
        "    else:\n",
        "        raise ValueError(\"Incorrect method supplied: '{}'. Must be one of 'mean', 'median', 'std'\".format(method))\n",
        "\n",
        "    return encoded_column\n"
      ],
      "execution_count": null,
      "outputs": []
    },
    {
      "cell_type": "code",
      "metadata": {
        "id": "VZyxHJ0D3R2W",
        "colab_type": "code",
        "colab": {
          "base_uri": "https://localhost:8080/",
          "height": 443
        },
        "outputId": "93d04947-16cc-449a-9215-62840f52b683"
      },
      "source": [
        "target_encoder(sun_mean_encoding, column=\"month\", target=\"y\", method=\"mean\")"
      ],
      "execution_count": null,
      "outputs": [
        {
          "output_type": "error",
          "ename": "IndexError",
          "evalue": "ignored",
          "traceback": [
            "\u001b[0;31m---------------------------------------------------------------------------\u001b[0m",
            "\u001b[0;31mIndexError\u001b[0m                                Traceback (most recent call last)",
            "\u001b[0;32m/usr/local/lib/python3.6/dist-packages/pandas/core/indexing.py\u001b[0m in \u001b[0;36m_get_list_axis\u001b[0;34m(self, key, axis)\u001b[0m\n\u001b[1;32m   2110\u001b[0m         \u001b[0;32mtry\u001b[0m\u001b[0;34m:\u001b[0m\u001b[0;34m\u001b[0m\u001b[0;34m\u001b[0m\u001b[0m\n\u001b[0;32m-> 2111\u001b[0;31m             \u001b[0;32mreturn\u001b[0m \u001b[0mself\u001b[0m\u001b[0;34m.\u001b[0m\u001b[0mobj\u001b[0m\u001b[0;34m.\u001b[0m\u001b[0m_take_with_is_copy\u001b[0m\u001b[0;34m(\u001b[0m\u001b[0mkey\u001b[0m\u001b[0;34m,\u001b[0m \u001b[0maxis\u001b[0m\u001b[0;34m=\u001b[0m\u001b[0maxis\u001b[0m\u001b[0;34m)\u001b[0m\u001b[0;34m\u001b[0m\u001b[0;34m\u001b[0m\u001b[0m\n\u001b[0m\u001b[1;32m   2112\u001b[0m         \u001b[0;32mexcept\u001b[0m \u001b[0mIndexError\u001b[0m\u001b[0;34m:\u001b[0m\u001b[0;34m\u001b[0m\u001b[0;34m\u001b[0m\u001b[0m\n",
            "\u001b[0;32m/usr/local/lib/python3.6/dist-packages/pandas/core/generic.py\u001b[0m in \u001b[0;36m_take_with_is_copy\u001b[0;34m(self, indices, axis, **kwargs)\u001b[0m\n\u001b[1;32m   3408\u001b[0m         \"\"\"\n\u001b[0;32m-> 3409\u001b[0;31m         \u001b[0mresult\u001b[0m \u001b[0;34m=\u001b[0m \u001b[0mself\u001b[0m\u001b[0;34m.\u001b[0m\u001b[0mtake\u001b[0m\u001b[0;34m(\u001b[0m\u001b[0mindices\u001b[0m\u001b[0;34m=\u001b[0m\u001b[0mindices\u001b[0m\u001b[0;34m,\u001b[0m \u001b[0maxis\u001b[0m\u001b[0;34m=\u001b[0m\u001b[0maxis\u001b[0m\u001b[0;34m,\u001b[0m \u001b[0;34m**\u001b[0m\u001b[0mkwargs\u001b[0m\u001b[0;34m)\u001b[0m\u001b[0;34m\u001b[0m\u001b[0;34m\u001b[0m\u001b[0m\n\u001b[0m\u001b[1;32m   3410\u001b[0m         \u001b[0;31m# Maybe set copy if we didn't actually change the index.\u001b[0m\u001b[0;34m\u001b[0m\u001b[0;34m\u001b[0m\u001b[0;34m\u001b[0m\u001b[0m\n",
            "\u001b[0;32m/usr/local/lib/python3.6/dist-packages/pandas/core/generic.py\u001b[0m in \u001b[0;36mtake\u001b[0;34m(self, indices, axis, is_copy, **kwargs)\u001b[0m\n\u001b[1;32m   3394\u001b[0m         new_data = self._data.take(\n\u001b[0;32m-> 3395\u001b[0;31m             \u001b[0mindices\u001b[0m\u001b[0;34m,\u001b[0m \u001b[0maxis\u001b[0m\u001b[0;34m=\u001b[0m\u001b[0mself\u001b[0m\u001b[0;34m.\u001b[0m\u001b[0m_get_block_manager_axis\u001b[0m\u001b[0;34m(\u001b[0m\u001b[0maxis\u001b[0m\u001b[0;34m)\u001b[0m\u001b[0;34m,\u001b[0m \u001b[0mverify\u001b[0m\u001b[0;34m=\u001b[0m\u001b[0;32mTrue\u001b[0m\u001b[0;34m\u001b[0m\u001b[0;34m\u001b[0m\u001b[0m\n\u001b[0m\u001b[1;32m   3396\u001b[0m         )\n",
            "\u001b[0;32m/usr/local/lib/python3.6/dist-packages/pandas/core/internals/managers.py\u001b[0m in \u001b[0;36mtake\u001b[0;34m(self, indexer, axis, verify, convert)\u001b[0m\n\u001b[1;32m   1385\u001b[0m         \u001b[0;32mif\u001b[0m \u001b[0mconvert\u001b[0m\u001b[0;34m:\u001b[0m\u001b[0;34m\u001b[0m\u001b[0;34m\u001b[0m\u001b[0m\n\u001b[0;32m-> 1386\u001b[0;31m             \u001b[0mindexer\u001b[0m \u001b[0;34m=\u001b[0m \u001b[0mmaybe_convert_indices\u001b[0m\u001b[0;34m(\u001b[0m\u001b[0mindexer\u001b[0m\u001b[0;34m,\u001b[0m \u001b[0mn\u001b[0m\u001b[0;34m)\u001b[0m\u001b[0;34m\u001b[0m\u001b[0;34m\u001b[0m\u001b[0m\n\u001b[0m\u001b[1;32m   1387\u001b[0m \u001b[0;34m\u001b[0m\u001b[0m\n",
            "\u001b[0;32m/usr/local/lib/python3.6/dist-packages/pandas/core/indexers.py\u001b[0m in \u001b[0;36mmaybe_convert_indices\u001b[0;34m(indices, n)\u001b[0m\n\u001b[1;32m    212\u001b[0m     \u001b[0;32mif\u001b[0m \u001b[0mmask\u001b[0m\u001b[0;34m.\u001b[0m\u001b[0many\u001b[0m\u001b[0;34m(\u001b[0m\u001b[0;34m)\u001b[0m\u001b[0;34m:\u001b[0m\u001b[0;34m\u001b[0m\u001b[0;34m\u001b[0m\u001b[0m\n\u001b[0;32m--> 213\u001b[0;31m         \u001b[0;32mraise\u001b[0m \u001b[0mIndexError\u001b[0m\u001b[0;34m(\u001b[0m\u001b[0;34m\"indices are out-of-bounds\"\u001b[0m\u001b[0;34m)\u001b[0m\u001b[0;34m\u001b[0m\u001b[0;34m\u001b[0m\u001b[0m\n\u001b[0m\u001b[1;32m    214\u001b[0m     \u001b[0;32mreturn\u001b[0m \u001b[0mindices\u001b[0m\u001b[0;34m\u001b[0m\u001b[0;34m\u001b[0m\u001b[0m\n",
            "\u001b[0;31mIndexError\u001b[0m: indices are out-of-bounds",
            "\nDuring handling of the above exception, another exception occurred:\n",
            "\u001b[0;31mIndexError\u001b[0m                                Traceback (most recent call last)",
            "\u001b[0;32m<ipython-input-17-2c68562a9a3a>\u001b[0m in \u001b[0;36m<module>\u001b[0;34m()\u001b[0m\n\u001b[0;32m----> 1\u001b[0;31m \u001b[0mtarget_encoder\u001b[0m\u001b[0;34m(\u001b[0m\u001b[0msun_mean_encoding\u001b[0m\u001b[0;34m,\u001b[0m \u001b[0mcolumn\u001b[0m\u001b[0;34m=\u001b[0m\u001b[0;34m\"month\"\u001b[0m\u001b[0;34m,\u001b[0m \u001b[0mtarget\u001b[0m\u001b[0;34m=\u001b[0m\u001b[0;34m\"y\"\u001b[0m\u001b[0;34m,\u001b[0m \u001b[0mmethod\u001b[0m\u001b[0;34m=\u001b[0m\u001b[0;34m\"mean\"\u001b[0m\u001b[0;34m)\u001b[0m\u001b[0;34m\u001b[0m\u001b[0;34m\u001b[0m\u001b[0m\n\u001b[0m",
            "\u001b[0;32m<ipython-input-13-f126fdbbdb03>\u001b[0m in \u001b[0;36mtarget_encoder\u001b[0;34m(df, column, target, index, method)\u001b[0m\n\u001b[1;32m     13\u001b[0m \u001b[0;34m\u001b[0m\u001b[0m\n\u001b[1;32m     14\u001b[0m     \u001b[0;32mif\u001b[0m \u001b[0mmethod\u001b[0m \u001b[0;34m==\u001b[0m \u001b[0;34m'mean'\u001b[0m\u001b[0;34m:\u001b[0m\u001b[0;34m\u001b[0m\u001b[0;34m\u001b[0m\u001b[0m\n\u001b[0;32m---> 15\u001b[0;31m         \u001b[0mencoded_column\u001b[0m \u001b[0;34m=\u001b[0m \u001b[0mdf\u001b[0m\u001b[0;34m[\u001b[0m\u001b[0mcolumn\u001b[0m\u001b[0;34m]\u001b[0m\u001b[0;34m.\u001b[0m\u001b[0mmap\u001b[0m\u001b[0;34m(\u001b[0m\u001b[0mdf\u001b[0m\u001b[0;34m.\u001b[0m\u001b[0miloc\u001b[0m\u001b[0;34m[\u001b[0m\u001b[0mindex\u001b[0m\u001b[0;34m]\u001b[0m\u001b[0;34m.\u001b[0m\u001b[0mgroupby\u001b[0m\u001b[0;34m(\u001b[0m\u001b[0mcolumn\u001b[0m\u001b[0;34m)\u001b[0m\u001b[0;34m[\u001b[0m\u001b[0mtarget\u001b[0m\u001b[0;34m]\u001b[0m\u001b[0;34m.\u001b[0m\u001b[0mmean\u001b[0m\u001b[0;34m(\u001b[0m\u001b[0;34m)\u001b[0m\u001b[0;34m)\u001b[0m\u001b[0;34m\u001b[0m\u001b[0;34m\u001b[0m\u001b[0m\n\u001b[0m\u001b[1;32m     16\u001b[0m     \u001b[0;32melif\u001b[0m \u001b[0mmethod\u001b[0m \u001b[0;34m==\u001b[0m \u001b[0;34m'median'\u001b[0m\u001b[0;34m:\u001b[0m\u001b[0;34m\u001b[0m\u001b[0;34m\u001b[0m\u001b[0m\n\u001b[1;32m     17\u001b[0m         \u001b[0mencoded_column\u001b[0m \u001b[0;34m=\u001b[0m \u001b[0mdf\u001b[0m\u001b[0;34m[\u001b[0m\u001b[0mcolumn\u001b[0m\u001b[0;34m]\u001b[0m\u001b[0;34m.\u001b[0m\u001b[0mmap\u001b[0m\u001b[0;34m(\u001b[0m\u001b[0mdf\u001b[0m\u001b[0;34m.\u001b[0m\u001b[0miloc\u001b[0m\u001b[0;34m[\u001b[0m\u001b[0mindex\u001b[0m\u001b[0;34m]\u001b[0m\u001b[0;34m.\u001b[0m\u001b[0mgroupby\u001b[0m\u001b[0;34m(\u001b[0m\u001b[0mcolumn\u001b[0m\u001b[0;34m)\u001b[0m\u001b[0;34m[\u001b[0m\u001b[0mtarget\u001b[0m\u001b[0;34m]\u001b[0m\u001b[0;34m.\u001b[0m\u001b[0mmedian\u001b[0m\u001b[0;34m(\u001b[0m\u001b[0;34m)\u001b[0m\u001b[0;34m)\u001b[0m\u001b[0;34m\u001b[0m\u001b[0;34m\u001b[0m\u001b[0m\n",
            "\u001b[0;32m/usr/local/lib/python3.6/dist-packages/pandas/core/indexing.py\u001b[0m in \u001b[0;36m__getitem__\u001b[0;34m(self, key)\u001b[0m\n\u001b[1;32m   1766\u001b[0m \u001b[0;34m\u001b[0m\u001b[0m\n\u001b[1;32m   1767\u001b[0m             \u001b[0mmaybe_callable\u001b[0m \u001b[0;34m=\u001b[0m \u001b[0mcom\u001b[0m\u001b[0;34m.\u001b[0m\u001b[0mapply_if_callable\u001b[0m\u001b[0;34m(\u001b[0m\u001b[0mkey\u001b[0m\u001b[0;34m,\u001b[0m \u001b[0mself\u001b[0m\u001b[0;34m.\u001b[0m\u001b[0mobj\u001b[0m\u001b[0;34m)\u001b[0m\u001b[0;34m\u001b[0m\u001b[0;34m\u001b[0m\u001b[0m\n\u001b[0;32m-> 1768\u001b[0;31m             \u001b[0;32mreturn\u001b[0m \u001b[0mself\u001b[0m\u001b[0;34m.\u001b[0m\u001b[0m_getitem_axis\u001b[0m\u001b[0;34m(\u001b[0m\u001b[0mmaybe_callable\u001b[0m\u001b[0;34m,\u001b[0m \u001b[0maxis\u001b[0m\u001b[0;34m=\u001b[0m\u001b[0maxis\u001b[0m\u001b[0;34m)\u001b[0m\u001b[0;34m\u001b[0m\u001b[0;34m\u001b[0m\u001b[0m\n\u001b[0m\u001b[1;32m   1769\u001b[0m \u001b[0;34m\u001b[0m\u001b[0m\n\u001b[1;32m   1770\u001b[0m     \u001b[0;32mdef\u001b[0m \u001b[0m_is_scalar_access\u001b[0m\u001b[0;34m(\u001b[0m\u001b[0mself\u001b[0m\u001b[0;34m,\u001b[0m \u001b[0mkey\u001b[0m\u001b[0;34m:\u001b[0m \u001b[0mTuple\u001b[0m\u001b[0;34m)\u001b[0m\u001b[0;34m:\u001b[0m\u001b[0;34m\u001b[0m\u001b[0;34m\u001b[0m\u001b[0m\n",
            "\u001b[0;32m/usr/local/lib/python3.6/dist-packages/pandas/core/indexing.py\u001b[0m in \u001b[0;36m_getitem_axis\u001b[0;34m(self, key, axis)\u001b[0m\n\u001b[1;32m   2127\u001b[0m         \u001b[0;31m# a list of integers\u001b[0m\u001b[0;34m\u001b[0m\u001b[0;34m\u001b[0m\u001b[0;34m\u001b[0m\u001b[0m\n\u001b[1;32m   2128\u001b[0m         \u001b[0;32melif\u001b[0m \u001b[0mis_list_like_indexer\u001b[0m\u001b[0;34m(\u001b[0m\u001b[0mkey\u001b[0m\u001b[0;34m)\u001b[0m\u001b[0;34m:\u001b[0m\u001b[0;34m\u001b[0m\u001b[0;34m\u001b[0m\u001b[0m\n\u001b[0;32m-> 2129\u001b[0;31m             \u001b[0;32mreturn\u001b[0m \u001b[0mself\u001b[0m\u001b[0;34m.\u001b[0m\u001b[0m_get_list_axis\u001b[0m\u001b[0;34m(\u001b[0m\u001b[0mkey\u001b[0m\u001b[0;34m,\u001b[0m \u001b[0maxis\u001b[0m\u001b[0;34m=\u001b[0m\u001b[0maxis\u001b[0m\u001b[0;34m)\u001b[0m\u001b[0;34m\u001b[0m\u001b[0;34m\u001b[0m\u001b[0m\n\u001b[0m\u001b[1;32m   2130\u001b[0m \u001b[0;34m\u001b[0m\u001b[0m\n\u001b[1;32m   2131\u001b[0m         \u001b[0;31m# a single integer\u001b[0m\u001b[0;34m\u001b[0m\u001b[0;34m\u001b[0m\u001b[0;34m\u001b[0m\u001b[0m\n",
            "\u001b[0;32m/usr/local/lib/python3.6/dist-packages/pandas/core/indexing.py\u001b[0m in \u001b[0;36m_get_list_axis\u001b[0;34m(self, key, axis)\u001b[0m\n\u001b[1;32m   2112\u001b[0m         \u001b[0;32mexcept\u001b[0m \u001b[0mIndexError\u001b[0m\u001b[0;34m:\u001b[0m\u001b[0;34m\u001b[0m\u001b[0;34m\u001b[0m\u001b[0m\n\u001b[1;32m   2113\u001b[0m             \u001b[0;31m# re-raise with different error message\u001b[0m\u001b[0;34m\u001b[0m\u001b[0;34m\u001b[0m\u001b[0;34m\u001b[0m\u001b[0m\n\u001b[0;32m-> 2114\u001b[0;31m             \u001b[0;32mraise\u001b[0m \u001b[0mIndexError\u001b[0m\u001b[0;34m(\u001b[0m\u001b[0;34m\"positional indexers are out-of-bounds\"\u001b[0m\u001b[0;34m)\u001b[0m\u001b[0;34m\u001b[0m\u001b[0;34m\u001b[0m\u001b[0m\n\u001b[0m\u001b[1;32m   2115\u001b[0m \u001b[0;34m\u001b[0m\u001b[0m\n\u001b[1;32m   2116\u001b[0m     \u001b[0;32mdef\u001b[0m \u001b[0m_getitem_axis\u001b[0m\u001b[0;34m(\u001b[0m\u001b[0mself\u001b[0m\u001b[0;34m,\u001b[0m \u001b[0mkey\u001b[0m\u001b[0;34m,\u001b[0m \u001b[0maxis\u001b[0m\u001b[0;34m:\u001b[0m \u001b[0mint\u001b[0m\u001b[0;34m)\u001b[0m\u001b[0;34m:\u001b[0m\u001b[0;34m\u001b[0m\u001b[0;34m\u001b[0m\u001b[0m\n",
            "\u001b[0;31mIndexError\u001b[0m: positional indexers are out-of-bounds"
          ]
        }
      ]
    },
    {
      "cell_type": "markdown",
      "metadata": {
        "id": "2WC6HjxIF00z",
        "colab_type": "text"
      },
      "source": [
        "### train, val, test set 생성"
      ]
    },
    {
      "cell_type": "code",
      "metadata": {
        "id": "KiwGyWBV8KIN",
        "colab_type": "code",
        "colab": {}
      },
      "source": [
        "data_set_list = [[x_train_1_ohe, y_train_1, x_val_1_ohe, y_val_1],\n",
        "                 [x_train_2_ohe, y_train_2, x_val_2_ohe, y_val_2],\n",
        "                 [x_train_3_ohe, y_train_3, x_val_3_ohe, y_val_3]]"
      ],
      "execution_count": null,
      "outputs": []
    },
    {
      "cell_type": "markdown",
      "metadata": {
        "id": "5GLt-IA5F5Qo",
        "colab_type": "text"
      },
      "source": [
        "### 손실함수 정의"
      ]
    },
    {
      "cell_type": "code",
      "metadata": {
        "id": "x-Wf58DOFtIJ",
        "colab_type": "code",
        "colab": {}
      },
      "source": [
        "def lossloss(y, y_hat):\n",
        "  result = []\n",
        "  for i in range(int(y.shape[0]/24)):\n",
        "    start = 24*i\n",
        "    end = (24*(i+1))\n",
        "    tmp = sum(abs(y[start:end] - y_hat[start:end])*y[start:end]/sum(y[start:end]))/133\n",
        "    result.append(tmp)\n",
        "  loss = np.mean(result)\n",
        "  return loss\n",
        "\n",
        "def RMSE(y, y_hat):\n",
        "  result = mse(y, y_hat)**0.5\n",
        "  return result"
      ],
      "execution_count": null,
      "outputs": []
    },
    {
      "cell_type": "markdown",
      "metadata": {
        "id": "0A_-4AbpGX_F",
        "colab_type": "text"
      },
      "source": [
        "### 일반화 코드"
      ]
    },
    {
      "cell_type": "markdown",
      "metadata": {
        "id": "JQf_ME2PGdJb",
        "colab_type": "text"
      },
      "source": [
        "### 모델 정의"
      ]
    },
    {
      "cell_type": "code",
      "metadata": {
        "id": "qq9S67pOGgBo",
        "colab_type": "code",
        "colab": {}
      },
      "source": [
        "dim_x_train_1 = x_train_1_ohe.shape\n",
        "def root_mean_squared_error(y_true, y_pred):\n",
        "        return K.sqrt(K.mean(K.square(y_pred - y_true))) \n",
        "# 2. 모델 구성하기\n",
        "model = Sequential()\n",
        "model.__init__\n",
        "model.add(Dense(1, input_dim= dim_x_train_1[1], activation='relu'))\n",
        "model.add(Dense(30, activation='relu'))\n",
        "model.add(Dropout(0.3))\n",
        "model.add(Dense(1))\n",
        "# 3. 모델 학습과정 설정하기\n",
        "model.compile(optimizer = \"rmsprop\", loss = root_mean_squared_error, \n",
        "              metrics =[\"mse\"])\n",
        "\n",
        "# 4. 모델 학습시키기\n",
        "early_stopping = EarlyStopping(monitor='val_loss', mode='min', verbose=1, patience=100)\n",
        "mc = ModelCheckpoint('best_model.h5', monitor='val_loss', mode='min', save_best_only=True)"
      ],
      "execution_count": null,
      "outputs": []
    },
    {
      "cell_type": "markdown",
      "metadata": {
        "id": "zTOJX51OP1ed",
        "colab_type": "text"
      },
      "source": [
        "### 1월, 3월, 5월에 맞게 데이터 학습 후 예측 및 오차 계산"
      ]
    },
    {
      "cell_type": "code",
      "metadata": {
        "id": "BXj1pvi8Od62",
        "colab_type": "code",
        "colab": {}
      },
      "source": [
        "# 모델링 함수 \n",
        "def modeling(data_set, model, batchsize = 64, epoch_n = 300):\n",
        "  weighted = []\n",
        "  rmse = []\n",
        "  y_hat_result = []\n",
        "  for i in range(len(data_set)):\n",
        "    X_train = data_set[i][0]\n",
        "    Y_train = data_set[i][1]\n",
        "    X_val = data_set[i][2]\n",
        "    Y_val = data_set[i][3]\n",
        "\n",
        "    model.fit(X_train, Y_train, epochs = epoch_n, batch_size = batchsize, validation_split = 0.3, verbose = 0, callbacks = [mc, early_stopping] )\n",
        "    \n",
        "    y_hat = model.predict(X_val)\n",
        "    y_hat = y_hat.flatten()\n",
        "    y_hat_tmp = y_hat\n",
        "\n",
        "    tmp_weighted = lossloss(Y_val, y_hat)\n",
        "    tmp_rmse = RMSE(Y_val, y_hat)\n",
        "\n",
        "    weighted.append(tmp_weighted)\n",
        "    rmse.append(tmp_rmse)\n",
        "    y_hat_result = y_hat_tmp\n",
        "    print(i, \"번째 validiaion 결과는 다음과 같습니다.\", \":::\", \"가중평균: \", tmp_weighted, \"RMSE: \", tmp_rmse )\n",
        "  return y_hat_result"
      ],
      "execution_count": null,
      "outputs": []
    },
    {
      "cell_type": "code",
      "metadata": {
        "id": "WMuPUm8TAhe-",
        "colab_type": "code",
        "colab": {
          "base_uri": "https://localhost:8080/",
          "height": 70
        },
        "outputId": "3c47c568-9393-4a88-caa8-a4c7d22fd650"
      },
      "source": [
        "for i in range(len(data_set_list)):\n",
        "  X_train = data_set_list[i][0]\n",
        "  Y_train = data_set_list[i][1]\n",
        "  X_val = data_set_list[i][2]\n",
        "  Y_val = data_set_list[i][3]\n",
        "  print(X_train.shape, Y_train.shape, X_val.shape, Y_val.shape)"
      ],
      "execution_count": null,
      "outputs": [
        {
          "output_type": "stream",
          "text": [
            "(4944, 57) (4944,) (168, 57) (168,)\n",
            "(7800, 57) (6360,) (168, 57) (168,)\n",
            "(6360, 57) (7800,) (168, 57) (168,)\n"
          ],
          "name": "stdout"
        }
      ]
    }
  ]
}